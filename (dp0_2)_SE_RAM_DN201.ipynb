{
  "cells": [
    {
      "cell_type": "markdown",
      "metadata": {
        "id": "view-in-github",
        "colab_type": "text"
      },
      "source": [
        "<a href=\"https://colab.research.google.com/github/Davjot/PlantDoc/blob/main/(dp0_2)_SE_RAM_DN201.ipynb\" target=\"_parent\"><img src=\"https://colab.research.google.com/assets/colab-badge.svg\" alt=\"Open In Colab\"/></a>"
      ]
    },
    {
      "cell_type": "code",
      "execution_count": 1,
      "metadata": {
        "id": "1pMp8LsxjjLE"
      },
      "outputs": [],
      "source": [
        "import numpy as np\n",
        "import pandas as pd\n",
        "import tensorflow as tf\n",
        "from tensorflow.keras.preprocessing.image import ImageDataGenerator\n",
        "from tensorflow.keras.applications.densenet import DenseNet201\n",
        "from tensorflow.keras.layers import Dense, GlobalAveragePooling2D, Dropout\n",
        "from tensorflow.keras.models import Model\n",
        "from tensorflow.keras.optimizers import Adam\n",
        "from tensorflow.keras.callbacks import ModelCheckpoint, EarlyStopping , TensorBoard\n",
        "from tensorflow.keras.layers import Reshape, multiply, add, Conv2D, MaxPooling2D, BatchNormalization, Activation, ZeroPadding2D, AveragePooling2D"
      ]
    },
    {
      "cell_type": "code",
      "execution_count": 2,
      "metadata": {
        "id": "5OMN2Igzjs3N"
      },
      "outputs": [],
      "source": [
        "# Set the batch size\n",
        "batch_size = 32\n",
        "\n",
        "# Set the number of epochs\n",
        "epochs = 50\n",
        "\n",
        "# Set the image size\n",
        "img_size = 224\n",
        "\n",
        "# Set the number of classes\n",
        "num_classes = 8"
      ]
    },
    {
      "cell_type": "code",
      "execution_count": 3,
      "metadata": {
        "id": "uoXam99ujxhV"
      },
      "outputs": [],
      "source": [
        "# Define the data generator for preprocessing the images\n",
        "datagen = ImageDataGenerator(rescale=1./255,\n",
        "                             rotation_range=20,\n",
        "                             width_shift_range=0.2,\n",
        "                             height_shift_range=0.2,\n",
        "                             shear_range=0.2,\n",
        "                             zoom_range=0.2,\n",
        "                             horizontal_flip=True,\n",
        "                             vertical_flip=True,\n",
        "                             validation_split = 0.2)\n",
        "#if necessary add validation_split factor =0.2\n",
        "#val_datagen = ImageDataGenerator(rescale=1./255)"
      ]
    },
    {
      "cell_type": "code",
      "execution_count": 4,
      "metadata": {
        "colab": {
          "base_uri": "https://localhost:8080/"
        },
        "id": "Fk7POQ_gkOEV",
        "outputId": "c348e93d-3f1b-40af-ff7a-3029b78606b0"
      },
      "outputs": [
        {
          "output_type": "stream",
          "name": "stdout",
          "text": [
            "Mounted at /content/drive\n"
          ]
        }
      ],
      "source": [
        "from google.colab import drive\n",
        "drive.mount('/content/drive')"
      ]
    },
    {
      "cell_type": "code",
      "execution_count": 5,
      "metadata": {
        "id": "0i3b9wSPkMCb"
      },
      "outputs": [],
      "source": [
        "import os\n",
        "base_dir = '/content/drive/MyDrive/Plantdoc'\n",
        "train_dir = os.path.join(base_dir)\n",
        "#validation_dir = os.path.join(base_dir)"
      ]
    },
    {
      "cell_type": "code",
      "execution_count": 6,
      "metadata": {
        "id": "EagZapKC5bU-"
      },
      "outputs": [],
      "source": [
        "#train set\n",
        "train_apple_leaf_dir = os.path.join(train_dir, 'Apple leaf')\n",
        "train_apple_rust_leaf_dir = os.path.join(train_dir, 'Apple rust leaf')\n",
        "train_apple_scab_leaf_dir = os.path.join(train_dir, 'Apple scab leaf')\n",
        "train_bell_pepper_leaf_dir = os.path.join(train_dir, 'Bell pepper leaf')\n",
        "train_bell_pepper_leaf_spot_dir = os.path.join(train_dir, 'Bell pepper leaf spot')\n",
        "train_blueberry_leaf_dir = os.path.join(train_dir, 'Blueberry leaf')\n",
        "train_cherry_leaf_dir = os.path.join(train_dir, 'Cherry leaf')\n",
        "train_corn_gray_leaf_spot_dir = os.path.join(train_dir, 'Corn Gray leaf spot')"
      ]
    },
    {
      "cell_type": "code",
      "execution_count": 7,
      "metadata": {
        "id": "dwOMCcCc6JPC"
      },
      "outputs": [],
      "source": [
        "# validation set\n",
        "# validation_apple_leaf_dir = os.path.join(validation_dir, 'Apple leaf')\n",
        "# validation_apple_rust_leaf_dir = os.path.join(validation_dir, 'Apple rust leaf')\n",
        "# validation_apple_scab_leaf_dir = os.path.join(validation_dir, 'Apple scab leaf')\n",
        "# validation_bell_pepper_leaf_dir = os.path.join(validation_dir, 'Bell pepper leaf')\n",
        "# validation_bell_pepper_leaf_spot_dir = os.path.join(validation_dir, 'Bell pepper leaf spot')\n",
        "# validation_blueberry_leaf_dir = os.path.join(validation_dir, 'Blueberry leaf')\n",
        "# validation_cherry_leaf_dir = os.path.join(validation_dir, 'Cherry leaf')\n",
        "# validation_corn_gray_leaf_spot_dir = os.path.join(validation_dir, 'Corn Gray leaf spot')"
      ]
    },
    {
      "cell_type": "code",
      "execution_count": 8,
      "metadata": {
        "colab": {
          "base_uri": "https://localhost:8080/"
        },
        "id": "FeGGICNOkFjv",
        "outputId": "3dd85962-d91a-4e2a-aa08-32e624ccd9a4"
      },
      "outputs": [
        {
          "output_type": "stream",
          "name": "stdout",
          "text": [
            "Found 64 images belonging to 8 classes.\n"
          ]
        }
      ],
      "source": [
        "# Load the training set\n",
        "train_generator = datagen.flow_from_directory(\n",
        "    train_dir,\n",
        "    target_size=(img_size, img_size),\n",
        "    batch_size=batch_size,\n",
        "    class_mode='categorical',\n",
        "    subset='training')"
      ]
    },
    {
      "cell_type": "code",
      "execution_count": 9,
      "metadata": {
        "colab": {
          "base_uri": "https://localhost:8080/"
        },
        "id": "RC9-xURLkmNr",
        "outputId": "0d5bc739-227f-4e3e-ee6a-5c8e54401f89"
      },
      "outputs": [
        {
          "output_type": "stream",
          "name": "stdout",
          "text": [
            "Found 16 images belonging to 8 classes.\n"
          ]
        }
      ],
      "source": [
        "# Load the validation set\n",
        "val_generator = datagen.flow_from_directory(\n",
        "    train_dir,\n",
        "    target_size=(img_size, img_size),\n",
        "    batch_size=batch_size,\n",
        "    class_mode='categorical',\n",
        "    subset='validation')"
      ]
    },
    {
      "cell_type": "code",
      "execution_count": 10,
      "metadata": {
        "id": "_5L4Dr5jmDVy",
        "colab": {
          "base_uri": "https://localhost:8080/"
        },
        "outputId": "c78dc4fc-a74c-412d-906c-70b7eccf0e1d"
      },
      "outputs": [
        {
          "output_type": "stream",
          "name": "stdout",
          "text": [
            "Downloading data from https://storage.googleapis.com/tensorflow/keras-applications/densenet/densenet201_weights_tf_dim_ordering_tf_kernels_notop.h5\n",
            "74836368/74836368 [==============================] - 3s 0us/step\n"
          ]
        }
      ],
      "source": [
        "# Load the DenseNet201 model\n",
        "base_model = DenseNet201(weights='imagenet', include_top=False, input_shape=(img_size, img_size, 3))"
      ]
    },
    {
      "cell_type": "code",
      "execution_count": 11,
      "metadata": {
        "id": "f3Ana2jtmPoZ"
      },
      "outputs": [],
      "source": [
        "# Add SE mechanism\n",
        "def squeeze_excite_block(input, ratio=16):\n",
        "    init = input\n",
        "    channel_axis = 3\n",
        "\n",
        "    filters = init.shape[channel_axis]\n",
        "    se_shape = (1, 1, filters)\n",
        "\n",
        "    se = GlobalAveragePooling2D()(init)\n",
        "    se = Reshape(se_shape)(se)\n",
        "    se = Dense(filters // ratio, activation='relu', kernel_initializer='he_normal', use_bias=True)(se)\n",
        "    se = Dense(filters, activation='sigmoid', kernel_initializer='he_normal', use_bias=True)(se)\n",
        "\n",
        "    x = multiply([input, se])\n",
        "    return x"
      ]
    },
    {
      "cell_type": "code",
      "execution_count": 12,
      "metadata": {
        "id": "4nIAwatRmehV"
      },
      "outputs": [],
      "source": [
        "# Add Residual Attention Mechanism\n",
        "def RAM(input, filters):\n",
        "    # First RAM layer\n",
        "    x = Conv2D(filters=filters, kernel_size=1, strides=1, padding='same')(input)\n",
        "    x = BatchNormalization()(x)\n",
        "    x = Activation('relu')(x)\n",
        "\n",
        "    # Second RAM layer\n",
        "    x = Conv2D(filters=filters, kernel_size=3, strides=1, padding='same')(x)\n",
        "    x = BatchNormalization()(x)\n",
        "    x = Activation('relu')(x)\n",
        "\n",
        "    # Third RAM layer\n",
        "    x = Conv2D(filters=filters, kernel_size=1, strides=1, padding='same')(x)\n",
        "    x = BatchNormalization()(x)\n",
        "\n",
        "    # Residual connection\n",
        "    shortcut = Conv2D(filters=filters, kernel_size=1, strides=1, padding='same')(input)\n",
        "    shortcut = BatchNormalization()(shortcut)\n",
        "\n",
        "    x = add([x, shortcut])\n",
        "    x = Activation('relu')(x)\n",
        "\n",
        "    # Squeeze-and-Excite mechanism\n",
        "    x = squeeze_excite_block(x)\n",
        "\n",
        "    # Final RAM layer\n",
        "    x = Conv2D(filters=filters, kernel_size=1, strides=1, padding='same')(x)\n",
        "    x = BatchNormalization()(x)\n",
        "\n",
        "    x = add([x, shortcut])\n",
        "    x = Activation('relu')(x)\n",
        "\n",
        "    # Squeeze-and-Excite mechanism\n",
        "    x = squeeze_excite_block(x)\n",
        "\n",
        "    return x"
      ]
    },
    {
      "cell_type": "code",
      "execution_count": 13,
      "metadata": {
        "id": "9GyIAo_SmpJn"
      },
      "outputs": [],
      "source": [
        "# Add the Residual Attention Mechanism to the DenseNet201 model\n",
        "x = base_model.output\n",
        "x = RAM(x, 192)\n",
        "x = GlobalAveragePooling2D()(x)\n",
        "x = Dropout(0.2)(x) # change the dropout to 0.2 later \n",
        "output = Dense(num_classes, activation='softmax')(x)"
      ]
    },
    {
      "cell_type": "code",
      "execution_count": 14,
      "metadata": {
        "id": "yYmWXBZ5msmC"
      },
      "outputs": [],
      "source": [
        "model = Model(inputs=base_model.input, outputs=output)"
      ]
    },
    {
      "cell_type": "code",
      "execution_count": 15,
      "metadata": {
        "id": "WMMIMd6Cmvho"
      },
      "outputs": [],
      "source": [
        "# Set the layers of the DenseNet201 model to be non-trainable\n",
        "for layer in base_model.layers:\n",
        "    layer.trainable = False"
      ]
    },
    {
      "cell_type": "code",
      "execution_count": 16,
      "metadata": {
        "id": "ZFUU0EWDmyHm"
      },
      "outputs": [],
      "source": [
        "# Compile the model\n",
        "model.compile(optimizer=Adam(learning_rate=0.0001), \n",
        "              loss='categorical_crossentropy', \n",
        "              metrics=['accuracy'])"
      ]
    },
    {
      "cell_type": "markdown",
      "metadata": {
        "id": "sFVWaOUFpq0H"
      },
      "source": [
        "the model checkpoints will be saved with the epoch number and the validation loss in the filename. The directory of the filepath should not be reused by any other callbacks to avoid conflicts."
      ]
    },
    {
      "cell_type": "code",
      "execution_count": 17,
      "metadata": {
        "id": "uB3PstO1m2Wc"
      },
      "outputs": [],
      "source": [
        "# Define the checkpoint and early stopping and tensorboard callbacks\n",
        "checkpoint = ModelCheckpoint('/content/drive/MyDrive/modelcheckpoint_dn201', monitor='val_loss', save_best_only=True, save_weights_only=True, mode='min')\n",
        "early_stopping = EarlyStopping(monitor='val_loss', patience=5, mode='min', verbose=1)\n",
        "log_dir = TensorBoard(log_dir = '/content/drive/MyDrive/logdir_dn201')"
      ]
    },
    {
      "cell_type": "code",
      "execution_count": 18,
      "metadata": {
        "colab": {
          "base_uri": "https://localhost:8080/"
        },
        "id": "c24efUI7nCdp",
        "outputId": "b77cc408-8868-4bab-cd81-b467d1147457"
      },
      "outputs": [
        {
          "output_type": "stream",
          "name": "stdout",
          "text": [
            "Epoch 1/50\n",
            "2/2 [==============================] - 76s 29s/step - loss: 2.3031 - accuracy: 0.1719 - val_loss: 2.2415 - val_accuracy: 0.1875\n",
            "Epoch 2/50\n",
            "2/2 [==============================] - 32s 19s/step - loss: 2.2736 - accuracy: 0.1250 - val_loss: 2.2398 - val_accuracy: 0.1875\n",
            "Epoch 3/50\n",
            "2/2 [==============================] - 27s 14s/step - loss: 2.1823 - accuracy: 0.1562 - val_loss: 2.1395 - val_accuracy: 0.1875\n",
            "Epoch 4/50\n",
            "2/2 [==============================] - 26s 14s/step - loss: 2.0818 - accuracy: 0.2656 - val_loss: 2.1188 - val_accuracy: 0.1875\n",
            "Epoch 5/50\n",
            "2/2 [==============================] - 25s 14s/step - loss: 1.9986 - accuracy: 0.1875 - val_loss: 2.1342 - val_accuracy: 0.2500\n",
            "Epoch 6/50\n",
            "2/2 [==============================] - 25s 13s/step - loss: 2.0129 - accuracy: 0.2188 - val_loss: 2.1341 - val_accuracy: 0.2500\n",
            "Epoch 7/50\n",
            "2/2 [==============================] - 27s 14s/step - loss: 1.8745 - accuracy: 0.2500 - val_loss: 2.0865 - val_accuracy: 0.1875\n",
            "Epoch 8/50\n",
            "2/2 [==============================] - 25s 13s/step - loss: 1.8454 - accuracy: 0.3281 - val_loss: 2.1170 - val_accuracy: 0.2500\n",
            "Epoch 9/50\n",
            "2/2 [==============================] - 26s 15s/step - loss: 1.8434 - accuracy: 0.2969 - val_loss: 2.0645 - val_accuracy: 0.2500\n",
            "Epoch 10/50\n",
            "2/2 [==============================] - 29s 16s/step - loss: 1.6852 - accuracy: 0.4062 - val_loss: 2.0580 - val_accuracy: 0.2500\n",
            "Epoch 11/50\n",
            "2/2 [==============================] - 28s 16s/step - loss: 1.6620 - accuracy: 0.4531 - val_loss: 1.9668 - val_accuracy: 0.2500\n",
            "Epoch 12/50\n",
            "2/2 [==============================] - 30s 15s/step - loss: 1.6272 - accuracy: 0.4375 - val_loss: 2.0161 - val_accuracy: 0.2500\n",
            "Epoch 13/50\n",
            "2/2 [==============================] - 27s 15s/step - loss: 1.5085 - accuracy: 0.5625 - val_loss: 2.0221 - val_accuracy: 0.1875\n",
            "Epoch 14/50\n",
            "2/2 [==============================] - 31s 18s/step - loss: 1.5135 - accuracy: 0.4844 - val_loss: 2.0271 - val_accuracy: 0.2500\n",
            "Epoch 15/50\n",
            "2/2 [==============================] - 28s 15s/step - loss: 1.4443 - accuracy: 0.6094 - val_loss: 1.9486 - val_accuracy: 0.3125\n",
            "Epoch 16/50\n",
            "2/2 [==============================] - 31s 18s/step - loss: 1.3706 - accuracy: 0.5938 - val_loss: 1.9552 - val_accuracy: 0.3125\n",
            "Epoch 17/50\n",
            "2/2 [==============================] - 27s 14s/step - loss: 1.4442 - accuracy: 0.5625 - val_loss: 1.9405 - val_accuracy: 0.3125\n",
            "Epoch 18/50\n",
            "2/2 [==============================] - 27s 15s/step - loss: 1.3066 - accuracy: 0.6250 - val_loss: 1.9336 - val_accuracy: 0.3125\n",
            "Epoch 19/50\n",
            "2/2 [==============================] - 31s 19s/step - loss: 1.3555 - accuracy: 0.6094 - val_loss: 1.9053 - val_accuracy: 0.3750\n",
            "Epoch 20/50\n",
            "2/2 [==============================] - 31s 18s/step - loss: 1.2436 - accuracy: 0.6719 - val_loss: 1.9315 - val_accuracy: 0.2500\n",
            "Epoch 21/50\n",
            "2/2 [==============================] - 28s 15s/step - loss: 1.1846 - accuracy: 0.7500 - val_loss: 1.8462 - val_accuracy: 0.3750\n",
            "Epoch 22/50\n",
            "2/2 [==============================] - 24s 12s/step - loss: 1.1568 - accuracy: 0.7188 - val_loss: 1.8913 - val_accuracy: 0.3750\n",
            "Epoch 23/50\n",
            "2/2 [==============================] - 27s 15s/step - loss: 1.2715 - accuracy: 0.6562 - val_loss: 1.9009 - val_accuracy: 0.3750\n",
            "Epoch 24/50\n",
            "2/2 [==============================] - 27s 14s/step - loss: 1.1094 - accuracy: 0.7500 - val_loss: 1.8519 - val_accuracy: 0.5000\n",
            "Epoch 25/50\n",
            "2/2 [==============================] - 27s 14s/step - loss: 1.0474 - accuracy: 0.8125 - val_loss: 1.8955 - val_accuracy: 0.3125\n",
            "Epoch 26/50\n",
            "2/2 [==============================] - 24s 12s/step - loss: 0.9935 - accuracy: 0.8125 - val_loss: 1.8470 - val_accuracy: 0.3750\n",
            "Epoch 26: early stopping\n"
          ]
        }
      ],
      "source": [
        "# Train the model\n",
        "history = model.fit(train_generator, \n",
        "                    epochs=epochs, \n",
        "                    validation_data=val_generator, \n",
        "                    #verbose = 2,\n",
        "                    callbacks=[checkpoint, early_stopping, log_dir])"
      ]
    },
    {
      "cell_type": "code",
      "execution_count": 19,
      "metadata": {
        "id": "4MvFUbBPwCLB"
      },
      "outputs": [],
      "source": [
        "%matplotlib inline\n",
        "\n",
        "import matplotlib.pyplot as plt\n",
        "import matplotlib.image as mpimg"
      ]
    },
    {
      "cell_type": "code",
      "execution_count": 20,
      "metadata": {
        "id": "Z-wVahm0wPEQ"
      },
      "outputs": [],
      "source": [
        "# Retrieve a list of accuracy results on training and validation data\n",
        "# sets for each training epoch\n",
        "acc = history.history['accuracy']\n",
        "val_acc = history.history['val_accuracy']"
      ]
    },
    {
      "cell_type": "code",
      "execution_count": 21,
      "metadata": {
        "id": "ubz2F05fwwdf"
      },
      "outputs": [],
      "source": [
        "# Retrieve a list of list results on training and validation data\n",
        "# sets for each training epoch\n",
        "loss = history.history['loss']\n",
        "val_loss = history.history['val_loss']"
      ]
    },
    {
      "cell_type": "code",
      "execution_count": 22,
      "metadata": {
        "id": "uEDKPpDbwzLm"
      },
      "outputs": [],
      "source": [
        "# Get number of epochs\n",
        "epochs = range(len(acc))"
      ]
    },
    {
      "cell_type": "code",
      "execution_count": 23,
      "metadata": {
        "colab": {
          "base_uri": "https://localhost:8080/",
          "height": 486
        },
        "id": "YnJInD4Bw0zP",
        "outputId": "6ecae1ba-dbf3-4075-f8a0-53d657193b3f"
      },
      "outputs": [
        {
          "output_type": "execute_result",
          "data": {
            "text/plain": [
              "<Figure size 640x480 with 0 Axes>"
            ]
          },
          "metadata": {},
          "execution_count": 23
        },
        {
          "output_type": "display_data",
          "data": {
            "text/plain": [
              "<Figure size 640x480 with 1 Axes>"
            ],
            "image/png": "[encoded data removed]"
          },
          "metadata": {}
        },
        {
          "output_type": "display_data",
          "data": {
            "text/plain": [
              "<Figure size 640x480 with 0 Axes>"
            ]
          },
          "metadata": {}
        }
      ],
      "source": [
        "# Plot training and validation accuracy per epoch\n",
        "plt.plot(epochs, acc)\n",
        "plt.plot(epochs, val_acc)\n",
        "plt.title('Training and validation accuracy')\n",
        "plt.figure()"
      ]
    },
    {
      "cell_type": "code",
      "execution_count": 24,
      "metadata": {
        "colab": {
          "base_uri": "https://localhost:8080/",
          "height": 486
        },
        "id": "fvk6-WYAw2tG",
        "outputId": "57fcd7b1-3e8b-4567-fc58-fdd5078309c8"
      },
      "outputs": [
        {
          "output_type": "execute_result",
          "data": {
            "text/plain": [
              "<Figure size 640x480 with 0 Axes>"
            ]
          },
          "metadata": {},
          "execution_count": 24
        },
        {
          "output_type": "display_data",
          "data": {
            "text/plain": [
              "<Figure size 640x480 with 1 Axes>"
            ],
            "image/png": "[encoded data removed]"
          },
          "metadata": {}
        },
        {
          "output_type": "display_data",
          "data": {
            "text/plain": [
              "<Figure size 640x480 with 0 Axes>"
            ]
          },
          "metadata": {}
        }
      ],
      "source": [
        "# Plot training and validation loss per epoch\n",
        "plt.plot(epochs, loss)\n",
        "plt.plot(epochs, val_loss)\n",
        "plt.title('Training and validation loss')\n",
        "plt.figure()"
      ]
    },
    {
      "cell_type": "code",
      "execution_count": 25,
      "metadata": {
        "id": "TQIpONwbnHGD"
      },
      "outputs": [],
      "source": [
        "# Save the model\n",
        "#model.save('path/to/save/model')"
      ]
    }
  ],
  "metadata": {
    "colab": {
      "provenance": [],
      "include_colab_link": true
    },
    "kernelspec": {
      "display_name": "Python 3",
      "name": "python3"
    },
    "language_info": {
      "name": "python"
    }
  },
  "nbformat": 4,
  "nbformat_minor": 0
}