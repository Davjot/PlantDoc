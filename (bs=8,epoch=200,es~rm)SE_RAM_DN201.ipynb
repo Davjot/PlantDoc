{
  "nbformat": 4,
  "nbformat_minor": 0,
  "metadata": {
    "colab": {
      "provenance": [],
      "include_colab_link": true
    },
    "kernelspec": {
      "name": "python3",
      "display_name": "Python 3"
    },
    "language_info": {
      "name": "python"
    }
  },
  "cells": [
    {
      "cell_type": "markdown",
      "metadata": {
        "id": "view-in-github",
        "colab_type": "text"
      },
      "source": [
        "<a href=\"https://colab.research.google.com/github/Davjot/PlantDoc/blob/main/(bs%3D8%2Cepoch%3D200%2Ces~rm)SE_RAM_DN201.ipynb\" target=\"_parent\"><img src=\"https://colab.research.google.com/assets/colab-badge.svg\" alt=\"Open In Colab\"/></a>"
      ]
    },
    {
      "cell_type": "code",
      "execution_count": 1,
      "metadata": {
        "id": "1pMp8LsxjjLE"
      },
      "outputs": [],
      "source": [
        "import numpy as np\n",
        "import pandas as pd\n",
        "import tensorflow as tf\n",
        "from tensorflow.keras.preprocessing.image import ImageDataGenerator\n",
        "from tensorflow.keras.applications.densenet import DenseNet201\n",
        "from tensorflow.keras.layers import Dense, GlobalAveragePooling2D, Dropout\n",
        "from tensorflow.keras.models import Model\n",
        "from tensorflow.keras.optimizers import Adam\n",
        "from tensorflow.keras.callbacks import ModelCheckpoint, EarlyStopping , TensorBoard\n",
        "from tensorflow.keras.layers import Reshape, multiply, add, Conv2D, MaxPooling2D, BatchNormalization, Activation, ZeroPadding2D, AveragePooling2D"
      ]
    },
    {
      "cell_type": "code",
      "source": [
        "# Set the batch size\n",
        "batch_size = 8\n",
        "\n",
        "# Set the number of epochs\n",
        "epochs = 200\n",
        "\n",
        "# Set the image size\n",
        "img_size = 224\n",
        "\n",
        "# Set the number of classes\n",
        "num_classes = 8"
      ],
      "metadata": {
        "id": "5OMN2Igzjs3N"
      },
      "execution_count": 2,
      "outputs": []
    },
    {
      "cell_type": "code",
      "source": [
        "# Define the data generator for preprocessing the images\n",
        "datagen = ImageDataGenerator(rescale=1./255,\n",
        "                             rotation_range=20,\n",
        "                             width_shift_range=0.2,\n",
        "                             height_shift_range=0.2,\n",
        "                             shear_range=0.2,\n",
        "                             zoom_range=0.2,\n",
        "                             horizontal_flip=True,\n",
        "                             vertical_flip=True,\n",
        "                             validation_split = 0.2)\n",
        "#if necessary add validation_split factor =0.2\n",
        "#val_datagen = ImageDataGenerator(rescale=1./255)"
      ],
      "metadata": {
        "id": "uoXam99ujxhV"
      },
      "execution_count": 3,
      "outputs": []
    },
    {
      "cell_type": "code",
      "source": [
        "from google.colab import drive\n",
        "drive.mount('/content/drive')"
      ],
      "metadata": {
        "colab": {
          "base_uri": "https://localhost:8080/"
        },
        "id": "Fk7POQ_gkOEV",
        "outputId": "86a40986-15c0-42f8-f935-8be9f99d0db8"
      },
      "execution_count": 4,
      "outputs": [
        {
          "output_type": "stream",
          "name": "stdout",
          "text": [
            "Mounted at /content/drive\n"
          ]
        }
      ]
    },
    {
      "cell_type": "code",
      "source": [
        "import os\n",
        "base_dir = '/content/drive/MyDrive/Plantdoc'\n",
        "train_dir = os.path.join(base_dir)\n",
        "#validation_dir = os.path.join(base_dir)"
      ],
      "metadata": {
        "id": "0i3b9wSPkMCb"
      },
      "execution_count": 5,
      "outputs": []
    },
    {
      "cell_type": "code",
      "source": [
        "#train set\n",
        "train_apple_leaf_dir = os.path.join(train_dir, 'Apple leaf')\n",
        "train_apple_rust_leaf_dir = os.path.join(train_dir, 'Apple rust leaf')\n",
        "train_apple_scab_leaf_dir = os.path.join(train_dir, 'Apple scab leaf')\n",
        "train_bell_pepper_leaf_dir = os.path.join(train_dir, 'Bell pepper leaf')\n",
        "train_bell_pepper_leaf_spot_dir = os.path.join(train_dir, 'Bell pepper leaf spot')\n",
        "train_blueberry_leaf_dir = os.path.join(train_dir, 'Blueberry leaf')\n",
        "train_cherry_leaf_dir = os.path.join(train_dir, 'Cherry leaf')\n",
        "train_corn_gray_leaf_spot_dir = os.path.join(train_dir, 'Corn Gray leaf spot')"
      ],
      "metadata": {
        "id": "EagZapKC5bU-"
      },
      "execution_count": 6,
      "outputs": []
    },
    {
      "cell_type": "code",
      "source": [
        "# validation set\n",
        "# validation_apple_leaf_dir = os.path.join(validation_dir, 'Apple leaf')\n",
        "# validation_apple_rust_leaf_dir = os.path.join(validation_dir, 'Apple rust leaf')\n",
        "# validation_apple_scab_leaf_dir = os.path.join(validation_dir, 'Apple scab leaf')\n",
        "# validation_bell_pepper_leaf_dir = os.path.join(validation_dir, 'Bell pepper leaf')\n",
        "# validation_bell_pepper_leaf_spot_dir = os.path.join(validation_dir, 'Bell pepper leaf spot')\n",
        "# validation_blueberry_leaf_dir = os.path.join(validation_dir, 'Blueberry leaf')\n",
        "# validation_cherry_leaf_dir = os.path.join(validation_dir, 'Cherry leaf')\n",
        "# validation_corn_gray_leaf_spot_dir = os.path.join(validation_dir, 'Corn Gray leaf spot')"
      ],
      "metadata": {
        "id": "dwOMCcCc6JPC"
      },
      "execution_count": 7,
      "outputs": []
    },
    {
      "cell_type": "code",
      "source": [
        "# Load the training set\n",
        "train_generator = datagen.flow_from_directory(\n",
        "    train_dir,\n",
        "    target_size=(img_size, img_size),\n",
        "    batch_size=batch_size,\n",
        "    class_mode='categorical',\n",
        "    subset='training')"
      ],
      "metadata": {
        "colab": {
          "base_uri": "https://localhost:8080/"
        },
        "id": "FeGGICNOkFjv",
        "outputId": "2ebe8ee8-0c1b-4ad1-e2c7-0a591e212ec7"
      },
      "execution_count": 8,
      "outputs": [
        {
          "output_type": "stream",
          "name": "stdout",
          "text": [
            "Found 64 images belonging to 8 classes.\n"
          ]
        }
      ]
    },
    {
      "cell_type": "code",
      "source": [
        "# Load the validation set\n",
        "val_generator = datagen.flow_from_directory(\n",
        "    train_dir,\n",
        "    target_size=(img_size, img_size),\n",
        "    batch_size=batch_size,\n",
        "    class_mode='categorical',\n",
        "    subset='validation')"
      ],
      "metadata": {
        "colab": {
          "base_uri": "https://localhost:8080/"
        },
        "id": "RC9-xURLkmNr",
        "outputId": "947e30f7-d10b-4caa-c1d5-31a1f1feaff8"
      },
      "execution_count": 9,
      "outputs": [
        {
          "output_type": "stream",
          "name": "stdout",
          "text": [
            "Found 16 images belonging to 8 classes.\n"
          ]
        }
      ]
    },
    {
      "cell_type": "code",
      "source": [
        "# Load the DenseNet201 model\n",
        "base_model = DenseNet201(weights='imagenet', include_top=False, input_shape=(img_size, img_size, 3))"
      ],
      "metadata": {
        "id": "_5L4Dr5jmDVy",
        "colab": {
          "base_uri": "https://localhost:8080/"
        },
        "outputId": "5ca13836-f096-448e-9792-ef0f1570fa51"
      },
      "execution_count": 10,
      "outputs": [
        {
          "output_type": "stream",
          "name": "stdout",
          "text": [
            "Downloading data from https://storage.googleapis.com/tensorflow/keras-applications/densenet/densenet201_weights_tf_dim_ordering_tf_kernels_notop.h5\n",
            "74836368/74836368 [==============================] - 0s 0us/step\n"
          ]
        }
      ]
    },
    {
      "cell_type": "code",
      "source": [
        "# Add SE mechanism\n",
        "def squeeze_excite_block(input, ratio=16):\n",
        "    init = input\n",
        "    channel_axis = 3\n",
        "\n",
        "    filters = init.shape[channel_axis]\n",
        "    se_shape = (1, 1, filters)\n",
        "\n",
        "    se = GlobalAveragePooling2D()(init)\n",
        "    se = Reshape(se_shape)(se)\n",
        "    se = Dense(filters // ratio, activation='relu', kernel_initializer='he_normal', use_bias=True)(se)\n",
        "    se = Dense(filters, activation='sigmoid', kernel_initializer='he_normal', use_bias=True)(se)\n",
        "\n",
        "    x = multiply([input, se])\n",
        "    return x"
      ],
      "metadata": {
        "id": "f3Ana2jtmPoZ"
      },
      "execution_count": 11,
      "outputs": []
    },
    {
      "cell_type": "code",
      "source": [
        "# Add Residual Attention Mechanism\n",
        "def RAM(input, filters):\n",
        "    # First RAM layer\n",
        "    x = Conv2D(filters=filters, kernel_size=1, strides=1, padding='same')(input)\n",
        "    x = BatchNormalization()(x)\n",
        "    x = Activation('relu')(x)\n",
        "\n",
        "    # Second RAM layer\n",
        "    x = Conv2D(filters=filters, kernel_size=3, strides=1, padding='same')(x)\n",
        "    x = BatchNormalization()(x)\n",
        "    x = Activation('relu')(x)\n",
        "\n",
        "    # Third RAM layer\n",
        "    x = Conv2D(filters=filters, kernel_size=1, strides=1, padding='same')(x)\n",
        "    x = BatchNormalization()(x)\n",
        "\n",
        "    # Residual connection\n",
        "    shortcut = Conv2D(filters=filters, kernel_size=1, strides=1, padding='same')(input)\n",
        "    shortcut = BatchNormalization()(shortcut)\n",
        "\n",
        "    x = add([x, shortcut])\n",
        "    x = Activation('relu')(x)\n",
        "\n",
        "    # Squeeze-and-Excite mechanism\n",
        "    x = squeeze_excite_block(x)\n",
        "\n",
        "    # Final RAM layer\n",
        "    x = Conv2D(filters=filters, kernel_size=1, strides=1, padding='same')(x)\n",
        "    x = BatchNormalization()(x)\n",
        "\n",
        "    x = add([x, shortcut])\n",
        "    x = Activation('relu')(x)\n",
        "\n",
        "    # Squeeze-and-Excite mechanism\n",
        "    x = squeeze_excite_block(x)\n",
        "\n",
        "    return x"
      ],
      "metadata": {
        "id": "4nIAwatRmehV"
      },
      "execution_count": 12,
      "outputs": []
    },
    {
      "cell_type": "code",
      "source": [
        "# Add the Residual Attention Mechanism to the DenseNet201 model\n",
        "x = base_model.output\n",
        "x = RAM(x, 192)\n",
        "x = GlobalAveragePooling2D()(x)\n",
        "x = Dropout(0.5)(x) # change the dropout to 0.2 later \n",
        "output = Dense(num_classes, activation='softmax')(x)"
      ],
      "metadata": {
        "id": "9GyIAo_SmpJn"
      },
      "execution_count": 13,
      "outputs": []
    },
    {
      "cell_type": "code",
      "source": [
        "model = Model(inputs=base_model.input, outputs=output)"
      ],
      "metadata": {
        "id": "yYmWXBZ5msmC"
      },
      "execution_count": 14,
      "outputs": []
    },
    {
      "cell_type": "code",
      "source": [
        "# Set the layers of the DenseNet201 model to be non-trainable\n",
        "for layer in base_model.layers:\n",
        "    layer.trainable = False"
      ],
      "metadata": {
        "id": "WMMIMd6Cmvho"
      },
      "execution_count": 15,
      "outputs": []
    },
    {
      "cell_type": "code",
      "source": [
        "# Compile the model\n",
        "model.compile(optimizer=Adam(learning_rate=0.0001), \n",
        "              loss='categorical_crossentropy', \n",
        "              metrics=['accuracy'])"
      ],
      "metadata": {
        "id": "ZFUU0EWDmyHm"
      },
      "execution_count": 16,
      "outputs": []
    },
    {
      "cell_type": "markdown",
      "source": [
        "the **model checkpoints** will be saved with the epoch number and the validation loss in the filename. The directory of the filepath should not be reused by any other callbacks to avoid conflicts.\n",
        "\n",
        "save_best_only: if save_best_only=True, it only saves when the model is considered the \"best\" and the latest best model according to the quantity monitored will not be overwritten. If filepath doesn't contain formatting options like {epoch} then filepath will be overwritten by each new better model."
      ],
      "metadata": {
        "id": "sFVWaOUFpq0H"
      }
    },
    {
      "cell_type": "markdown",
      "source": [],
      "metadata": {
        "id": "jl3tXIh38S2t"
      }
    },
    {
      "cell_type": "code",
      "source": [
        "# Define the checkpoint and early stopping and tensorboard callbacks\n",
        "checkpoint = ModelCheckpoint('/content/drive/MyDrive/modelcheckpoint_dn201', monitor='val_loss', save_best_only=True, save_weights_only=True, mode='min')\n",
        "#early_stopping = EarlyStopping(monitor='val_loss', patience=5, mode='min', verbose=1)\n",
        "log_dir = TensorBoard(log_dir = '/content/drive/MyDrive/logdir_dn201')"
      ],
      "metadata": {
        "id": "uB3PstO1m2Wc"
      },
      "execution_count": 17,
      "outputs": []
    },
    {
      "cell_type": "code",
      "source": [
        "# Train the model\n",
        "history = model.fit(train_generator, \n",
        "                    epochs=epochs, \n",
        "                    validation_data=val_generator, \n",
        "                    #verbose = 2,\n",
        "                    callbacks=[checkpoint, log_dir])"
      ],
      "metadata": {
        "colab": {
          "base_uri": "https://localhost:8080/"
        },
        "id": "c24efUI7nCdp",
        "outputId": "482b5ce9-7956-4581-82b0-1f6d9b5c0f8e"
      },
      "execution_count": 18,
      "outputs": [
        {
          "output_type": "stream",
          "name": "stdout",
          "text": [
            "Epoch 1/200\n",
            "8/8 [==============================] - 54s 5s/step - loss: 2.1896 - accuracy: 0.1250 - val_loss: 2.1634 - val_accuracy: 0.1250\n",
            "Epoch 2/200\n",
            "8/8 [==============================] - 23s 3s/step - loss: 2.2408 - accuracy: 0.1094 - val_loss: 2.1822 - val_accuracy: 0.1875\n",
            "Epoch 3/200\n",
            "8/8 [==============================] - 23s 3s/step - loss: 2.1372 - accuracy: 0.1406 - val_loss: 2.1523 - val_accuracy: 0.1875\n",
            "Epoch 4/200\n",
            "8/8 [==============================] - 25s 3s/step - loss: 1.9344 - accuracy: 0.2656 - val_loss: 2.0246 - val_accuracy: 0.3125\n",
            "Epoch 5/200\n",
            "8/8 [==============================] - 24s 3s/step - loss: 1.8732 - accuracy: 0.2656 - val_loss: 2.0210 - val_accuracy: 0.3125\n",
            "Epoch 6/200\n",
            "8/8 [==============================] - 23s 3s/step - loss: 1.7440 - accuracy: 0.3281 - val_loss: 2.0882 - val_accuracy: 0.1875\n",
            "Epoch 7/200\n",
            "8/8 [==============================] - 24s 3s/step - loss: 1.8879 - accuracy: 0.2969 - val_loss: 1.9870 - val_accuracy: 0.2500\n",
            "Epoch 8/200\n",
            "8/8 [==============================] - 27s 4s/step - loss: 1.6062 - accuracy: 0.4844 - val_loss: 1.9903 - val_accuracy: 0.3750\n",
            "Epoch 9/200\n",
            "8/8 [==============================] - 23s 3s/step - loss: 1.6236 - accuracy: 0.3906 - val_loss: 1.8663 - val_accuracy: 0.5625\n",
            "Epoch 10/200\n",
            "8/8 [==============================] - 22s 3s/step - loss: 1.5916 - accuracy: 0.4844 - val_loss: 1.9434 - val_accuracy: 0.3125\n",
            "Epoch 11/200\n",
            "8/8 [==============================] - 21s 3s/step - loss: 1.4687 - accuracy: 0.5469 - val_loss: 1.9792 - val_accuracy: 0.3125\n",
            "Epoch 12/200\n",
            "8/8 [==============================] - 21s 3s/step - loss: 1.4102 - accuracy: 0.5781 - val_loss: 1.8742 - val_accuracy: 0.3750\n",
            "Epoch 13/200\n",
            "8/8 [==============================] - 24s 3s/step - loss: 1.4745 - accuracy: 0.4844 - val_loss: 1.8423 - val_accuracy: 0.3125\n",
            "Epoch 14/200\n",
            "8/8 [==============================] - 24s 3s/step - loss: 1.4661 - accuracy: 0.5312 - val_loss: 1.8039 - val_accuracy: 0.2500\n",
            "Epoch 15/200\n",
            "8/8 [==============================] - 24s 3s/step - loss: 1.2872 - accuracy: 0.6250 - val_loss: 1.7547 - val_accuracy: 0.4375\n",
            "Epoch 16/200\n",
            "8/8 [==============================] - 22s 3s/step - loss: 1.2484 - accuracy: 0.6250 - val_loss: 1.7519 - val_accuracy: 0.3125\n",
            "Epoch 17/200\n",
            "8/8 [==============================] - 23s 3s/step - loss: 1.3043 - accuracy: 0.6250 - val_loss: 1.7436 - val_accuracy: 0.3125\n",
            "Epoch 18/200\n",
            "8/8 [==============================] - 23s 3s/step - loss: 1.0964 - accuracy: 0.7188 - val_loss: 1.7149 - val_accuracy: 0.3125\n",
            "Epoch 19/200\n",
            "8/8 [==============================] - 24s 3s/step - loss: 1.0205 - accuracy: 0.8125 - val_loss: 1.7122 - val_accuracy: 0.5000\n",
            "Epoch 20/200\n",
            "8/8 [==============================] - 24s 3s/step - loss: 1.0996 - accuracy: 0.7344 - val_loss: 1.6936 - val_accuracy: 0.3750\n",
            "Epoch 21/200\n",
            "8/8 [==============================] - 22s 3s/step - loss: 1.0558 - accuracy: 0.7344 - val_loss: 1.7626 - val_accuracy: 0.2500\n",
            "Epoch 22/200\n",
            "8/8 [==============================] - 28s 4s/step - loss: 1.0529 - accuracy: 0.7031 - val_loss: 1.5791 - val_accuracy: 0.3750\n",
            "Epoch 23/200\n",
            "8/8 [==============================] - 27s 4s/step - loss: 0.9750 - accuracy: 0.7344 - val_loss: 1.7458 - val_accuracy: 0.3125\n",
            "Epoch 24/200\n",
            "8/8 [==============================] - 22s 3s/step - loss: 0.8934 - accuracy: 0.8125 - val_loss: 1.7406 - val_accuracy: 0.3750\n",
            "Epoch 25/200\n",
            "8/8 [==============================] - 22s 3s/step - loss: 0.9931 - accuracy: 0.7500 - val_loss: 1.5735 - val_accuracy: 0.5000\n",
            "Epoch 26/200\n",
            "8/8 [==============================] - 23s 3s/step - loss: 0.9767 - accuracy: 0.7500 - val_loss: 1.7970 - val_accuracy: 0.3125\n",
            "Epoch 27/200\n",
            "8/8 [==============================] - 24s 3s/step - loss: 0.9974 - accuracy: 0.7812 - val_loss: 1.5578 - val_accuracy: 0.3750\n",
            "Epoch 28/200\n",
            "8/8 [==============================] - 22s 3s/step - loss: 0.8668 - accuracy: 0.8438 - val_loss: 1.5034 - val_accuracy: 0.4375\n",
            "Epoch 29/200\n",
            "8/8 [==============================] - 21s 3s/step - loss: 0.7006 - accuracy: 0.8906 - val_loss: 1.5983 - val_accuracy: 0.4375\n",
            "Epoch 30/200\n",
            "8/8 [==============================] - 23s 3s/step - loss: 0.7662 - accuracy: 0.7812 - val_loss: 1.5557 - val_accuracy: 0.3125\n",
            "Epoch 31/200\n",
            "8/8 [==============================] - 28s 4s/step - loss: 0.9122 - accuracy: 0.7031 - val_loss: 1.6917 - val_accuracy: 0.3750\n",
            "Epoch 32/200\n",
            "8/8 [==============================] - 22s 3s/step - loss: 0.6988 - accuracy: 0.8594 - val_loss: 1.5589 - val_accuracy: 0.3750\n",
            "Epoch 33/200\n",
            "8/8 [==============================] - 24s 3s/step - loss: 0.8381 - accuracy: 0.8125 - val_loss: 1.4890 - val_accuracy: 0.5000\n",
            "Epoch 34/200\n",
            "8/8 [==============================] - 24s 3s/step - loss: 0.8050 - accuracy: 0.8281 - val_loss: 1.4659 - val_accuracy: 0.3750\n",
            "Epoch 35/200\n",
            "8/8 [==============================] - 23s 3s/step - loss: 0.6406 - accuracy: 0.8906 - val_loss: 1.6281 - val_accuracy: 0.4375\n",
            "Epoch 36/200\n",
            "8/8 [==============================] - 23s 3s/step - loss: 0.7472 - accuracy: 0.8594 - val_loss: 1.6006 - val_accuracy: 0.3750\n",
            "Epoch 37/200\n",
            "8/8 [==============================] - 23s 3s/step - loss: 0.6166 - accuracy: 0.8750 - val_loss: 1.5521 - val_accuracy: 0.4375\n",
            "Epoch 38/200\n",
            "8/8 [==============================] - 28s 4s/step - loss: 0.7119 - accuracy: 0.7969 - val_loss: 1.4647 - val_accuracy: 0.5000\n",
            "Epoch 39/200\n",
            "8/8 [==============================] - 22s 3s/step - loss: 0.5615 - accuracy: 0.9062 - val_loss: 1.5183 - val_accuracy: 0.4375\n",
            "Epoch 40/200\n",
            "8/8 [==============================] - 22s 3s/step - loss: 0.5095 - accuracy: 0.9219 - val_loss: 1.5090 - val_accuracy: 0.4375\n",
            "Epoch 41/200\n",
            "8/8 [==============================] - 23s 3s/step - loss: 0.5319 - accuracy: 0.9531 - val_loss: 1.5968 - val_accuracy: 0.4375\n",
            "Epoch 42/200\n",
            "8/8 [==============================] - 22s 3s/step - loss: 0.6439 - accuracy: 0.8750 - val_loss: 1.5891 - val_accuracy: 0.5000\n",
            "Epoch 43/200\n",
            "8/8 [==============================] - 22s 3s/step - loss: 0.5161 - accuracy: 0.9219 - val_loss: 1.5151 - val_accuracy: 0.3750\n",
            "Epoch 44/200\n",
            "8/8 [==============================] - 22s 3s/step - loss: 0.5366 - accuracy: 0.9219 - val_loss: 1.5000 - val_accuracy: 0.5000\n",
            "Epoch 45/200\n",
            "8/8 [==============================] - 23s 3s/step - loss: 0.4833 - accuracy: 0.9375 - val_loss: 1.5946 - val_accuracy: 0.3750\n",
            "Epoch 46/200\n",
            "8/8 [==============================] - 23s 3s/step - loss: 0.5219 - accuracy: 0.8906 - val_loss: 1.5377 - val_accuracy: 0.5000\n",
            "Epoch 47/200\n",
            "8/8 [==============================] - 23s 3s/step - loss: 0.4926 - accuracy: 0.9375 - val_loss: 1.3380 - val_accuracy: 0.6250\n",
            "Epoch 48/200\n",
            "8/8 [==============================] - 21s 3s/step - loss: 0.4148 - accuracy: 0.9844 - val_loss: 1.3519 - val_accuracy: 0.5625\n",
            "Epoch 49/200\n",
            "8/8 [==============================] - 21s 3s/step - loss: 0.4230 - accuracy: 0.9531 - val_loss: 1.5736 - val_accuracy: 0.5625\n",
            "Epoch 50/200\n",
            "8/8 [==============================] - 23s 3s/step - loss: 0.3792 - accuracy: 0.9688 - val_loss: 1.5938 - val_accuracy: 0.5000\n",
            "Epoch 51/200\n",
            "8/8 [==============================] - 28s 4s/step - loss: 0.3793 - accuracy: 0.9688 - val_loss: 1.4714 - val_accuracy: 0.5000\n",
            "Epoch 52/200\n",
            "8/8 [==============================] - 27s 4s/step - loss: 0.5207 - accuracy: 0.9219 - val_loss: 1.4016 - val_accuracy: 0.5625\n",
            "Epoch 53/200\n",
            "8/8 [==============================] - 22s 3s/step - loss: 0.4097 - accuracy: 0.9531 - val_loss: 1.6581 - val_accuracy: 0.5625\n",
            "Epoch 54/200\n",
            "8/8 [==============================] - 27s 4s/step - loss: 0.3519 - accuracy: 0.9844 - val_loss: 1.3431 - val_accuracy: 0.6250\n",
            "Epoch 55/200\n",
            "8/8 [==============================] - 22s 3s/step - loss: 0.3673 - accuracy: 0.9531 - val_loss: 1.3300 - val_accuracy: 0.6875\n",
            "Epoch 56/200\n",
            "8/8 [==============================] - 21s 3s/step - loss: 0.4346 - accuracy: 0.9062 - val_loss: 1.5775 - val_accuracy: 0.5625\n",
            "Epoch 57/200\n",
            "8/8 [==============================] - 22s 3s/step - loss: 0.3210 - accuracy: 0.9844 - val_loss: 1.3736 - val_accuracy: 0.6250\n",
            "Epoch 58/200\n",
            "8/8 [==============================] - 23s 3s/step - loss: 0.3301 - accuracy: 0.9844 - val_loss: 1.5391 - val_accuracy: 0.6250\n",
            "Epoch 59/200\n",
            "8/8 [==============================] - 27s 4s/step - loss: 0.3221 - accuracy: 1.0000 - val_loss: 1.7529 - val_accuracy: 0.3750\n",
            "Epoch 60/200\n",
            "8/8 [==============================] - 27s 4s/step - loss: 0.3256 - accuracy: 0.9531 - val_loss: 1.4493 - val_accuracy: 0.5000\n",
            "Epoch 61/200\n",
            "8/8 [==============================] - 22s 3s/step - loss: 0.3215 - accuracy: 0.9531 - val_loss: 1.3535 - val_accuracy: 0.6250\n",
            "Epoch 62/200\n",
            "8/8 [==============================] - 22s 3s/step - loss: 0.3118 - accuracy: 0.9844 - val_loss: 1.4204 - val_accuracy: 0.5000\n",
            "Epoch 63/200\n",
            "8/8 [==============================] - 22s 3s/step - loss: 0.2606 - accuracy: 0.9844 - val_loss: 1.5317 - val_accuracy: 0.6875\n",
            "Epoch 64/200\n",
            "8/8 [==============================] - 23s 3s/step - loss: 0.2893 - accuracy: 0.9688 - val_loss: 1.4535 - val_accuracy: 0.5625\n",
            "Epoch 65/200\n",
            "8/8 [==============================] - 21s 3s/step - loss: 0.3366 - accuracy: 0.9844 - val_loss: 1.5038 - val_accuracy: 0.5000\n",
            "Epoch 66/200\n",
            "8/8 [==============================] - 27s 4s/step - loss: 0.2865 - accuracy: 0.9688 - val_loss: 1.3405 - val_accuracy: 0.6250\n",
            "Epoch 67/200\n",
            "8/8 [==============================] - 23s 3s/step - loss: 0.2387 - accuracy: 0.9844 - val_loss: 1.3269 - val_accuracy: 0.6250\n",
            "Epoch 68/200\n",
            "8/8 [==============================] - 21s 3s/step - loss: 0.2137 - accuracy: 0.9844 - val_loss: 1.6244 - val_accuracy: 0.4375\n",
            "Epoch 69/200\n",
            "8/8 [==============================] - 27s 4s/step - loss: 0.2262 - accuracy: 1.0000 - val_loss: 1.4209 - val_accuracy: 0.5625\n",
            "Epoch 70/200\n",
            "8/8 [==============================] - 27s 4s/step - loss: 0.4033 - accuracy: 0.8906 - val_loss: 1.7787 - val_accuracy: 0.4375\n",
            "Epoch 71/200\n",
            "8/8 [==============================] - 22s 3s/step - loss: 0.2122 - accuracy: 0.9844 - val_loss: 1.5320 - val_accuracy: 0.5000\n",
            "Epoch 72/200\n",
            "8/8 [==============================] - 22s 3s/step - loss: 0.1974 - accuracy: 1.0000 - val_loss: 1.5313 - val_accuracy: 0.4375\n",
            "Epoch 73/200\n",
            "8/8 [==============================] - 21s 3s/step - loss: 0.3012 - accuracy: 0.9531 - val_loss: 1.4899 - val_accuracy: 0.5625\n",
            "Epoch 74/200\n",
            "8/8 [==============================] - 21s 3s/step - loss: 0.2308 - accuracy: 0.9688 - val_loss: 1.3976 - val_accuracy: 0.6250\n",
            "Epoch 75/200\n",
            "8/8 [==============================] - 27s 4s/step - loss: 0.3812 - accuracy: 0.9219 - val_loss: 1.5802 - val_accuracy: 0.5000\n",
            "Epoch 76/200\n",
            "8/8 [==============================] - 27s 4s/step - loss: 0.1791 - accuracy: 1.0000 - val_loss: 1.5152 - val_accuracy: 0.3750\n",
            "Epoch 77/200\n",
            "8/8 [==============================] - 22s 3s/step - loss: 0.1961 - accuracy: 0.9844 - val_loss: 1.4304 - val_accuracy: 0.5000\n",
            "Epoch 78/200\n",
            "8/8 [==============================] - 21s 3s/step - loss: 0.2387 - accuracy: 0.9688 - val_loss: 1.4059 - val_accuracy: 0.5000\n",
            "Epoch 79/200\n",
            "8/8 [==============================] - 22s 3s/step - loss: 0.2585 - accuracy: 0.9219 - val_loss: 1.5633 - val_accuracy: 0.5000\n",
            "Epoch 80/200\n",
            "8/8 [==============================] - 22s 3s/step - loss: 0.2738 - accuracy: 0.9531 - val_loss: 1.4201 - val_accuracy: 0.4375\n",
            "Epoch 81/200\n",
            "8/8 [==============================] - 23s 3s/step - loss: 0.1997 - accuracy: 0.9844 - val_loss: 1.3519 - val_accuracy: 0.5625\n",
            "Epoch 82/200\n",
            "8/8 [==============================] - 27s 4s/step - loss: 0.1927 - accuracy: 0.9688 - val_loss: 1.6418 - val_accuracy: 0.3750\n",
            "Epoch 83/200\n",
            "8/8 [==============================] - 22s 3s/step - loss: 0.2142 - accuracy: 0.9688 - val_loss: 1.3385 - val_accuracy: 0.5625\n",
            "Epoch 84/200\n",
            "8/8 [==============================] - 23s 3s/step - loss: 0.2450 - accuracy: 0.9688 - val_loss: 1.4083 - val_accuracy: 0.5625\n",
            "Epoch 85/200\n",
            "8/8 [==============================] - 23s 3s/step - loss: 0.1500 - accuracy: 0.9844 - val_loss: 1.5386 - val_accuracy: 0.5000\n",
            "Epoch 86/200\n",
            "8/8 [==============================] - 22s 3s/step - loss: 0.1660 - accuracy: 1.0000 - val_loss: 1.6176 - val_accuracy: 0.5625\n",
            "Epoch 87/200\n",
            "8/8 [==============================] - 23s 3s/step - loss: 0.1413 - accuracy: 1.0000 - val_loss: 1.4394 - val_accuracy: 0.5625\n",
            "Epoch 88/200\n",
            "8/8 [==============================] - 24s 3s/step - loss: 0.2168 - accuracy: 0.9688 - val_loss: 1.2494 - val_accuracy: 0.5625\n",
            "Epoch 89/200\n",
            "8/8 [==============================] - 23s 3s/step - loss: 0.1860 - accuracy: 0.9844 - val_loss: 1.1698 - val_accuracy: 0.5625\n",
            "Epoch 90/200\n",
            "8/8 [==============================] - 21s 3s/step - loss: 0.1847 - accuracy: 1.0000 - val_loss: 1.4925 - val_accuracy: 0.5625\n",
            "Epoch 91/200\n",
            "8/8 [==============================] - 22s 3s/step - loss: 0.1730 - accuracy: 0.9688 - val_loss: 1.5510 - val_accuracy: 0.6250\n",
            "Epoch 92/200\n",
            "8/8 [==============================] - 22s 3s/step - loss: 0.1687 - accuracy: 0.9844 - val_loss: 1.5081 - val_accuracy: 0.6250\n",
            "Epoch 93/200\n",
            "8/8 [==============================] - 23s 3s/step - loss: 0.1390 - accuracy: 1.0000 - val_loss: 1.2963 - val_accuracy: 0.6875\n",
            "Epoch 94/200\n",
            "8/8 [==============================] - 27s 4s/step - loss: 0.1715 - accuracy: 0.9688 - val_loss: 1.2526 - val_accuracy: 0.6250\n",
            "Epoch 95/200\n",
            "8/8 [==============================] - 22s 3s/step - loss: 0.1474 - accuracy: 1.0000 - val_loss: 1.2531 - val_accuracy: 0.6250\n",
            "Epoch 96/200\n",
            "8/8 [==============================] - 22s 3s/step - loss: 0.1516 - accuracy: 0.9844 - val_loss: 1.3223 - val_accuracy: 0.5625\n",
            "Epoch 97/200\n",
            "8/8 [==============================] - 28s 4s/step - loss: 0.1362 - accuracy: 1.0000 - val_loss: 1.0382 - val_accuracy: 0.6250\n",
            "Epoch 98/200\n",
            "8/8 [==============================] - 22s 3s/step - loss: 0.1653 - accuracy: 0.9844 - val_loss: 1.4427 - val_accuracy: 0.5625\n",
            "Epoch 99/200\n",
            "8/8 [==============================] - 22s 3s/step - loss: 0.1281 - accuracy: 1.0000 - val_loss: 1.2253 - val_accuracy: 0.4375\n",
            "Epoch 100/200\n",
            "8/8 [==============================] - 23s 3s/step - loss: 0.1380 - accuracy: 0.9844 - val_loss: 1.6995 - val_accuracy: 0.6250\n",
            "Epoch 101/200\n",
            "8/8 [==============================] - 24s 3s/step - loss: 0.1621 - accuracy: 1.0000 - val_loss: 1.2980 - val_accuracy: 0.6250\n",
            "Epoch 102/200\n",
            "8/8 [==============================] - 22s 3s/step - loss: 0.1604 - accuracy: 1.0000 - val_loss: 1.1896 - val_accuracy: 0.6250\n",
            "Epoch 103/200\n",
            "8/8 [==============================] - 22s 3s/step - loss: 0.1703 - accuracy: 0.9688 - val_loss: 1.3449 - val_accuracy: 0.5625\n",
            "Epoch 104/200\n",
            "8/8 [==============================] - 21s 3s/step - loss: 0.1068 - accuracy: 0.9844 - val_loss: 1.5548 - val_accuracy: 0.4375\n",
            "Epoch 105/200\n",
            "8/8 [==============================] - 21s 3s/step - loss: 0.2016 - accuracy: 0.9688 - val_loss: 1.2419 - val_accuracy: 0.6875\n",
            "Epoch 106/200\n",
            "8/8 [==============================] - 22s 3s/step - loss: 0.1688 - accuracy: 0.9844 - val_loss: 1.1902 - val_accuracy: 0.5625\n",
            "Epoch 107/200\n",
            "8/8 [==============================] - 22s 3s/step - loss: 0.1178 - accuracy: 1.0000 - val_loss: 1.5431 - val_accuracy: 0.5000\n",
            "Epoch 108/200\n",
            "8/8 [==============================] - 21s 3s/step - loss: 0.1646 - accuracy: 0.9844 - val_loss: 1.3825 - val_accuracy: 0.5625\n",
            "Epoch 109/200\n",
            "8/8 [==============================] - 22s 3s/step - loss: 0.1241 - accuracy: 1.0000 - val_loss: 1.5472 - val_accuracy: 0.4375\n",
            "Epoch 110/200\n",
            "8/8 [==============================] - 27s 4s/step - loss: 0.1078 - accuracy: 1.0000 - val_loss: 1.3538 - val_accuracy: 0.6875\n",
            "Epoch 111/200\n",
            "8/8 [==============================] - 22s 3s/step - loss: 0.0601 - accuracy: 1.0000 - val_loss: 1.2622 - val_accuracy: 0.6250\n",
            "Epoch 112/200\n",
            "8/8 [==============================] - 27s 3s/step - loss: 0.1047 - accuracy: 1.0000 - val_loss: 1.5040 - val_accuracy: 0.3750\n",
            "Epoch 113/200\n",
            "8/8 [==============================] - 22s 3s/step - loss: 0.1096 - accuracy: 1.0000 - val_loss: 1.2849 - val_accuracy: 0.6875\n",
            "Epoch 114/200\n",
            "8/8 [==============================] - 23s 3s/step - loss: 0.1545 - accuracy: 0.9844 - val_loss: 1.4994 - val_accuracy: 0.4375\n",
            "Epoch 115/200\n",
            "8/8 [==============================] - 23s 3s/step - loss: 0.1314 - accuracy: 0.9844 - val_loss: 1.5365 - val_accuracy: 0.5625\n",
            "Epoch 116/200\n",
            "8/8 [==============================] - 22s 3s/step - loss: 0.1638 - accuracy: 0.9688 - val_loss: 1.5460 - val_accuracy: 0.5625\n",
            "Epoch 117/200\n",
            "8/8 [==============================] - 20s 3s/step - loss: 0.1484 - accuracy: 0.9844 - val_loss: 1.4186 - val_accuracy: 0.6875\n",
            "Epoch 118/200\n",
            "8/8 [==============================] - 27s 4s/step - loss: 0.1494 - accuracy: 1.0000 - val_loss: 1.2072 - val_accuracy: 0.5000\n",
            "Epoch 119/200\n",
            "8/8 [==============================] - 27s 4s/step - loss: 0.0980 - accuracy: 0.9844 - val_loss: 1.4440 - val_accuracy: 0.5625\n",
            "Epoch 120/200\n",
            "8/8 [==============================] - 22s 3s/step - loss: 0.0712 - accuracy: 1.0000 - val_loss: 1.4094 - val_accuracy: 0.5625\n",
            "Epoch 121/200\n",
            "8/8 [==============================] - 22s 3s/step - loss: 0.1431 - accuracy: 0.9844 - val_loss: 1.3671 - val_accuracy: 0.6250\n",
            "Epoch 122/200\n",
            "8/8 [==============================] - 22s 3s/step - loss: 0.1718 - accuracy: 0.9531 - val_loss: 1.2590 - val_accuracy: 0.6250\n",
            "Epoch 123/200\n",
            "8/8 [==============================] - 22s 3s/step - loss: 0.0820 - accuracy: 1.0000 - val_loss: 1.2395 - val_accuracy: 0.5625\n",
            "Epoch 124/200\n",
            "8/8 [==============================] - 22s 3s/step - loss: 0.0622 - accuracy: 1.0000 - val_loss: 1.1505 - val_accuracy: 0.6250\n",
            "Epoch 125/200\n",
            "8/8 [==============================] - 22s 3s/step - loss: 0.1013 - accuracy: 1.0000 - val_loss: 1.4293 - val_accuracy: 0.6875\n",
            "Epoch 126/200\n",
            "8/8 [==============================] - 22s 3s/step - loss: 0.0827 - accuracy: 1.0000 - val_loss: 1.0702 - val_accuracy: 0.7500\n",
            "Epoch 127/200\n",
            "8/8 [==============================] - 23s 3s/step - loss: 0.1115 - accuracy: 0.9844 - val_loss: 1.4327 - val_accuracy: 0.5625\n",
            "Epoch 128/200\n",
            "8/8 [==============================] - 23s 3s/step - loss: 0.1073 - accuracy: 1.0000 - val_loss: 1.3574 - val_accuracy: 0.5625\n",
            "Epoch 129/200\n",
            "8/8 [==============================] - 23s 3s/step - loss: 0.1267 - accuracy: 0.9844 - val_loss: 1.8490 - val_accuracy: 0.3750\n",
            "Epoch 130/200\n",
            "8/8 [==============================] - 23s 3s/step - loss: 0.1488 - accuracy: 0.9844 - val_loss: 1.2128 - val_accuracy: 0.5625\n",
            "Epoch 131/200\n",
            "8/8 [==============================] - 22s 3s/step - loss: 0.1169 - accuracy: 0.9844 - val_loss: 1.2856 - val_accuracy: 0.5000\n",
            "Epoch 132/200\n",
            "8/8 [==============================] - 22s 3s/step - loss: 0.0802 - accuracy: 0.9844 - val_loss: 1.5183 - val_accuracy: 0.5000\n",
            "Epoch 133/200\n",
            "8/8 [==============================] - 24s 3s/step - loss: 0.1246 - accuracy: 0.9844 - val_loss: 1.4588 - val_accuracy: 0.5000\n",
            "Epoch 134/200\n",
            "8/8 [==============================] - 22s 3s/step - loss: 0.1215 - accuracy: 1.0000 - val_loss: 1.4903 - val_accuracy: 0.5625\n",
            "Epoch 135/200\n",
            "8/8 [==============================] - 22s 3s/step - loss: 0.1000 - accuracy: 0.9844 - val_loss: 1.2899 - val_accuracy: 0.5625\n",
            "Epoch 136/200\n",
            "8/8 [==============================] - 22s 3s/step - loss: 0.0649 - accuracy: 1.0000 - val_loss: 1.4187 - val_accuracy: 0.5000\n",
            "Epoch 137/200\n",
            "8/8 [==============================] - 22s 3s/step - loss: 0.1252 - accuracy: 0.9844 - val_loss: 1.4154 - val_accuracy: 0.4375\n",
            "Epoch 138/200\n",
            "8/8 [==============================] - 22s 3s/step - loss: 0.1463 - accuracy: 0.9844 - val_loss: 1.4226 - val_accuracy: 0.4375\n",
            "Epoch 139/200\n",
            "8/8 [==============================] - 23s 3s/step - loss: 0.0953 - accuracy: 1.0000 - val_loss: 1.4397 - val_accuracy: 0.6250\n",
            "Epoch 140/200\n",
            "8/8 [==============================] - 20s 3s/step - loss: 0.0535 - accuracy: 1.0000 - val_loss: 1.3402 - val_accuracy: 0.6875\n",
            "Epoch 141/200\n",
            "8/8 [==============================] - 23s 3s/step - loss: 0.1010 - accuracy: 1.0000 - val_loss: 1.3464 - val_accuracy: 0.6250\n",
            "Epoch 142/200\n",
            "8/8 [==============================] - 22s 3s/step - loss: 0.1015 - accuracy: 0.9844 - val_loss: 1.6046 - val_accuracy: 0.5000\n",
            "Epoch 143/200\n",
            "8/8 [==============================] - 23s 3s/step - loss: 0.1535 - accuracy: 0.9688 - val_loss: 1.3033 - val_accuracy: 0.5625\n",
            "Epoch 144/200\n",
            "8/8 [==============================] - 28s 4s/step - loss: 0.0744 - accuracy: 1.0000 - val_loss: 1.6169 - val_accuracy: 0.5000\n",
            "Epoch 145/200\n",
            "8/8 [==============================] - 23s 3s/step - loss: 0.1228 - accuracy: 1.0000 - val_loss: 1.3806 - val_accuracy: 0.6875\n",
            "Epoch 146/200\n",
            "8/8 [==============================] - 21s 3s/step - loss: 0.1699 - accuracy: 0.9844 - val_loss: 1.3350 - val_accuracy: 0.3750\n",
            "Epoch 147/200\n",
            "8/8 [==============================] - 22s 3s/step - loss: 0.0964 - accuracy: 1.0000 - val_loss: 1.3038 - val_accuracy: 0.6250\n",
            "Epoch 148/200\n",
            "8/8 [==============================] - 22s 3s/step - loss: 0.1325 - accuracy: 0.9844 - val_loss: 1.4874 - val_accuracy: 0.5625\n",
            "Epoch 149/200\n",
            "8/8 [==============================] - 24s 3s/step - loss: 0.1207 - accuracy: 0.9844 - val_loss: 1.4673 - val_accuracy: 0.6250\n",
            "Epoch 150/200\n",
            "8/8 [==============================] - 27s 4s/step - loss: 0.0788 - accuracy: 0.9844 - val_loss: 1.5387 - val_accuracy: 0.6250\n",
            "Epoch 151/200\n",
            "8/8 [==============================] - 22s 3s/step - loss: 0.1103 - accuracy: 1.0000 - val_loss: 1.2397 - val_accuracy: 0.5625\n",
            "Epoch 152/200\n",
            "8/8 [==============================] - 22s 3s/step - loss: 0.0863 - accuracy: 1.0000 - val_loss: 1.2158 - val_accuracy: 0.5625\n",
            "Epoch 153/200\n",
            "8/8 [==============================] - 22s 3s/step - loss: 0.0927 - accuracy: 1.0000 - val_loss: 1.1561 - val_accuracy: 0.6875\n",
            "Epoch 154/200\n",
            "8/8 [==============================] - 22s 3s/step - loss: 0.0786 - accuracy: 0.9844 - val_loss: 1.1915 - val_accuracy: 0.5625\n",
            "Epoch 155/200\n",
            "8/8 [==============================] - 21s 3s/step - loss: 0.0650 - accuracy: 0.9844 - val_loss: 1.5497 - val_accuracy: 0.5625\n",
            "Epoch 156/200\n",
            "8/8 [==============================] - 21s 3s/step - loss: 0.0758 - accuracy: 0.9844 - val_loss: 1.3245 - val_accuracy: 0.6250\n",
            "Epoch 157/200\n",
            "8/8 [==============================] - 23s 3s/step - loss: 0.0674 - accuracy: 1.0000 - val_loss: 1.3102 - val_accuracy: 0.5625\n",
            "Epoch 158/200\n",
            "8/8 [==============================] - 25s 3s/step - loss: 0.0680 - accuracy: 1.0000 - val_loss: 1.0178 - val_accuracy: 0.7500\n",
            "Epoch 159/200\n",
            "8/8 [==============================] - 23s 3s/step - loss: 0.0861 - accuracy: 0.9844 - val_loss: 1.5608 - val_accuracy: 0.5625\n",
            "Epoch 160/200\n",
            "8/8 [==============================] - 23s 3s/step - loss: 0.0777 - accuracy: 1.0000 - val_loss: 1.1801 - val_accuracy: 0.6875\n",
            "Epoch 161/200\n",
            "8/8 [==============================] - 22s 3s/step - loss: 0.0739 - accuracy: 1.0000 - val_loss: 1.9315 - val_accuracy: 0.4375\n",
            "Epoch 162/200\n",
            "8/8 [==============================] - 22s 3s/step - loss: 0.1582 - accuracy: 0.9688 - val_loss: 1.3643 - val_accuracy: 0.6250\n",
            "Epoch 163/200\n",
            "8/8 [==============================] - 21s 3s/step - loss: 0.0435 - accuracy: 1.0000 - val_loss: 1.5603 - val_accuracy: 0.6250\n",
            "Epoch 164/200\n",
            "8/8 [==============================] - 22s 3s/step - loss: 0.0494 - accuracy: 1.0000 - val_loss: 1.4205 - val_accuracy: 0.6250\n",
            "Epoch 165/200\n",
            "8/8 [==============================] - 22s 3s/step - loss: 0.0552 - accuracy: 1.0000 - val_loss: 1.4691 - val_accuracy: 0.5000\n",
            "Epoch 166/200\n",
            "8/8 [==============================] - 22s 3s/step - loss: 0.1579 - accuracy: 0.9844 - val_loss: 2.0716 - val_accuracy: 0.4375\n",
            "Epoch 167/200\n",
            "8/8 [==============================] - 23s 3s/step - loss: 0.0664 - accuracy: 1.0000 - val_loss: 1.3276 - val_accuracy: 0.5000\n",
            "Epoch 168/200\n",
            "8/8 [==============================] - 21s 3s/step - loss: 0.0501 - accuracy: 1.0000 - val_loss: 1.4059 - val_accuracy: 0.5625\n",
            "Epoch 169/200\n",
            "8/8 [==============================] - 23s 3s/step - loss: 0.0616 - accuracy: 1.0000 - val_loss: 1.6503 - val_accuracy: 0.4375\n",
            "Epoch 170/200\n",
            "8/8 [==============================] - 21s 3s/step - loss: 0.0828 - accuracy: 1.0000 - val_loss: 1.6131 - val_accuracy: 0.5625\n",
            "Epoch 171/200\n",
            "8/8 [==============================] - 23s 3s/step - loss: 0.0677 - accuracy: 1.0000 - val_loss: 1.7074 - val_accuracy: 0.5000\n",
            "Epoch 172/200\n",
            "8/8 [==============================] - 27s 4s/step - loss: 0.0621 - accuracy: 1.0000 - val_loss: 1.3970 - val_accuracy: 0.6250\n",
            "Epoch 173/200\n",
            "8/8 [==============================] - 21s 3s/step - loss: 0.0554 - accuracy: 1.0000 - val_loss: 1.6960 - val_accuracy: 0.5000\n",
            "Epoch 174/200\n",
            "8/8 [==============================] - 22s 3s/step - loss: 0.0541 - accuracy: 1.0000 - val_loss: 1.5646 - val_accuracy: 0.6875\n",
            "Epoch 175/200\n",
            "8/8 [==============================] - 23s 3s/step - loss: 0.0328 - accuracy: 1.0000 - val_loss: 1.4573 - val_accuracy: 0.4375\n",
            "Epoch 176/200\n",
            "8/8 [==============================] - 27s 4s/step - loss: 0.0798 - accuracy: 0.9844 - val_loss: 1.3207 - val_accuracy: 0.5625\n",
            "Epoch 177/200\n",
            "8/8 [==============================] - 22s 3s/step - loss: 0.0797 - accuracy: 1.0000 - val_loss: 1.4383 - val_accuracy: 0.5000\n",
            "Epoch 178/200\n",
            "8/8 [==============================] - 23s 3s/step - loss: 0.0658 - accuracy: 1.0000 - val_loss: 1.2650 - val_accuracy: 0.5625\n",
            "Epoch 179/200\n",
            "8/8 [==============================] - 27s 4s/step - loss: 0.0409 - accuracy: 1.0000 - val_loss: 1.3024 - val_accuracy: 0.6875\n",
            "Epoch 180/200\n",
            "8/8 [==============================] - 28s 4s/step - loss: 0.0594 - accuracy: 1.0000 - val_loss: 1.4446 - val_accuracy: 0.5625\n",
            "Epoch 181/200\n",
            "8/8 [==============================] - 22s 3s/step - loss: 0.0823 - accuracy: 0.9844 - val_loss: 1.5367 - val_accuracy: 0.5625\n",
            "Epoch 182/200\n",
            "8/8 [==============================] - 22s 3s/step - loss: 0.0678 - accuracy: 0.9844 - val_loss: 1.6251 - val_accuracy: 0.5625\n",
            "Epoch 183/200\n",
            "8/8 [==============================] - 23s 3s/step - loss: 0.0741 - accuracy: 1.0000 - val_loss: 1.3539 - val_accuracy: 0.6250\n",
            "Epoch 184/200\n",
            "8/8 [==============================] - 23s 3s/step - loss: 0.0461 - accuracy: 1.0000 - val_loss: 1.5448 - val_accuracy: 0.3750\n",
            "Epoch 185/200\n",
            "8/8 [==============================] - 27s 4s/step - loss: 0.0390 - accuracy: 1.0000 - val_loss: 1.4718 - val_accuracy: 0.6875\n",
            "Epoch 186/200\n",
            "8/8 [==============================] - 21s 3s/step - loss: 0.0450 - accuracy: 1.0000 - val_loss: 1.4432 - val_accuracy: 0.6250\n",
            "Epoch 187/200\n",
            "8/8 [==============================] - 22s 3s/step - loss: 0.0950 - accuracy: 0.9844 - val_loss: 1.3321 - val_accuracy: 0.6250\n",
            "Epoch 188/200\n",
            "8/8 [==============================] - 24s 3s/step - loss: 0.0446 - accuracy: 1.0000 - val_loss: 1.3614 - val_accuracy: 0.5625\n",
            "Epoch 189/200\n",
            "8/8 [==============================] - 27s 4s/step - loss: 0.1172 - accuracy: 0.9844 - val_loss: 1.4705 - val_accuracy: 0.5625\n",
            "Epoch 190/200\n",
            "8/8 [==============================] - 22s 3s/step - loss: 0.0404 - accuracy: 1.0000 - val_loss: 1.3344 - val_accuracy: 0.6250\n",
            "Epoch 191/200\n",
            "8/8 [==============================] - 22s 3s/step - loss: 0.0708 - accuracy: 1.0000 - val_loss: 1.4188 - val_accuracy: 0.6250\n",
            "Epoch 192/200\n",
            "8/8 [==============================] - 23s 3s/step - loss: 0.0542 - accuracy: 1.0000 - val_loss: 1.1649 - val_accuracy: 0.5625\n",
            "Epoch 193/200\n",
            "8/8 [==============================] - 22s 3s/step - loss: 0.0671 - accuracy: 1.0000 - val_loss: 1.2923 - val_accuracy: 0.6250\n",
            "Epoch 194/200\n",
            "8/8 [==============================] - 22s 3s/step - loss: 0.0298 - accuracy: 1.0000 - val_loss: 1.2159 - val_accuracy: 0.6250\n",
            "Epoch 195/200\n",
            "8/8 [==============================] - 22s 3s/step - loss: 0.0456 - accuracy: 1.0000 - val_loss: 1.4431 - val_accuracy: 0.6250\n",
            "Epoch 196/200\n",
            "8/8 [==============================] - 22s 3s/step - loss: 0.0906 - accuracy: 1.0000 - val_loss: 1.2236 - val_accuracy: 0.6250\n",
            "Epoch 197/200\n",
            "8/8 [==============================] - 22s 3s/step - loss: 0.0605 - accuracy: 1.0000 - val_loss: 1.4026 - val_accuracy: 0.5625\n",
            "Epoch 198/200\n",
            "8/8 [==============================] - 22s 3s/step - loss: 0.0527 - accuracy: 0.9844 - val_loss: 1.1355 - val_accuracy: 0.6250\n",
            "Epoch 199/200\n",
            "8/8 [==============================] - 22s 3s/step - loss: 0.0671 - accuracy: 1.0000 - val_loss: 1.4689 - val_accuracy: 0.5625\n",
            "Epoch 200/200\n",
            "8/8 [==============================] - 22s 3s/step - loss: 0.0704 - accuracy: 1.0000 - val_loss: 1.4989 - val_accuracy: 0.5625\n"
          ]
        }
      ]
    },
    {
      "cell_type": "code",
      "source": [
        "%matplotlib inline\n",
        "\n",
        "import matplotlib.pyplot as plt\n",
        "import matplotlib.image as mpimg"
      ],
      "metadata": {
        "id": "4MvFUbBPwCLB"
      },
      "execution_count": 19,
      "outputs": []
    },
    {
      "cell_type": "code",
      "source": [
        "# Retrieve a list of accuracy results on training and validation data\n",
        "# sets for each training epoch\n",
        "acc = history.history['accuracy']\n",
        "val_acc = history.history['val_accuracy']"
      ],
      "metadata": {
        "id": "Z-wVahm0wPEQ"
      },
      "execution_count": 20,
      "outputs": []
    },
    {
      "cell_type": "code",
      "source": [
        "# Retrieve a list of list results on training and validation data\n",
        "# sets for each training epoch\n",
        "loss = history.history['loss']\n",
        "val_loss = history.history['val_loss']"
      ],
      "metadata": {
        "id": "ubz2F05fwwdf"
      },
      "execution_count": 21,
      "outputs": []
    },
    {
      "cell_type": "code",
      "source": [
        "# Get number of epochs\n",
        "epochs = range(len(acc))"
      ],
      "metadata": {
        "id": "uEDKPpDbwzLm"
      },
      "execution_count": 22,
      "outputs": []
    },
    {
      "cell_type": "code",
      "source": [
        "# Plot training and validation accuracy per epoch\n",
        "plt.plot(epochs, acc)\n",
        "plt.plot(epochs, val_acc)\n",
        "plt.title('Training and validation accuracy')\n",
        "plt.figure()"
      ],
      "metadata": {
        "colab": {
          "base_uri": "https://localhost:8080/",
          "height": 486
        },
        "id": "YnJInD4Bw0zP",
        "outputId": "33d443d5-2cdb-4aef-dfe0-ccf429c8d8a1"
      },
      "execution_count": 23,
      "outputs": [
        {
          "output_type": "execute_result",
          "data": {
            "text/plain": [
              "<Figure size 640x480 with 0 Axes>"
            ]
          },
          "metadata": {},
          "execution_count": 23
        },
        {
          "output_type": "display_data",
          "data": {
            "text/plain": [
              "<Figure size 640x480 with 1 Axes>"
            ],
            "image/png": "[encoded data removed]"
          },
          "metadata": {}
        },
        {
          "output_type": "display_data",
          "data": {
            "text/plain": [
              "<Figure size 640x480 with 0 Axes>"
            ]
          },
          "metadata": {}
        }
      ]
    },
    {
      "cell_type": "code",
      "source": [
        "# Plot training and validation loss per epoch\n",
        "plt.plot(epochs, loss)\n",
        "plt.plot(epochs, val_loss)\n",
        "plt.title('Training and validation loss')\n",
        "plt.figure()"
      ],
      "metadata": {
        "colab": {
          "base_uri": "https://localhost:8080/",
          "height": 486
        },
        "id": "fvk6-WYAw2tG",
        "outputId": "00a11348-1fd4-4332-8974-6b80132f3b70"
      },
      "execution_count": 24,
      "outputs": [
        {
          "output_type": "execute_result",
          "data": {
            "text/plain": [
              "<Figure size 640x480 with 0 Axes>"
            ]
          },
          "metadata": {},
          "execution_count": 24
        },
        {
          "output_type": "display_data",
          "data": {
            "text/plain": [
              "<Figure size 640x480 with 1 Axes>"
            ],
            "image/png": "[encoded data removed]"
          },
          "metadata": {}
        },
        {
          "output_type": "display_data",
          "data": {
            "text/plain": [
              "<Figure size 640x480 with 0 Axes>"
            ]
          },
          "metadata": {}
        }
      ]
    },
    {
      "cell_type": "code",
      "source": [
        "# Save the model\n",
        "#model.save('path/to/save/model')"
      ],
      "metadata": {
        "id": "TQIpONwbnHGD"
      },
      "execution_count": 25,
      "outputs": []
    }
  ]
}