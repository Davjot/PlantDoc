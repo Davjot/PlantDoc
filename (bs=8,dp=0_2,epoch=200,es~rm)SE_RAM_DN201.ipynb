{
  "nbformat": 4,
  "nbformat_minor": 0,
  "metadata": {
    "colab": {
      "provenance": [],
      "include_colab_link": true
    },
    "kernelspec": {
      "name": "python3",
      "display_name": "Python 3"
    },
    "language_info": {
      "name": "python"
    }
  },
  "cells": [
    {
      "cell_type": "markdown",
      "metadata": {
        "id": "view-in-github",
        "colab_type": "text"
      },
      "source": [
        "<a href=\"https://colab.research.google.com/github/Davjot/PlantDoc/blob/main/(bs%3D8%2Cdp%3D0_2%2Cepoch%3D200%2Ces~rm)SE_RAM_DN201.ipynb\" target=\"_parent\"><img src=\"https://colab.research.google.com/assets/colab-badge.svg\" alt=\"Open In Colab\"/></a>"
      ]
    },
    {
      "cell_type": "code",
      "execution_count": null,
      "metadata": {
        "id": "1pMp8LsxjjLE"
      },
      "outputs": [],
      "source": [
        "import numpy as np\n",
        "import pandas as pd\n",
        "import tensorflow as tf\n",
        "from tensorflow.keras.preprocessing.image import ImageDataGenerator\n",
        "from tensorflow.keras.applications.densenet import DenseNet201\n",
        "from tensorflow.keras.layers import Dense, GlobalAveragePooling2D, Dropout\n",
        "from tensorflow.keras.models import Model\n",
        "from tensorflow.keras.optimizers import Adam\n",
        "from tensorflow.keras.callbacks import ModelCheckpoint, EarlyStopping , TensorBoard\n",
        "from tensorflow.keras.layers import Reshape, multiply, add, Conv2D, MaxPooling2D, BatchNormalization, Activation, ZeroPadding2D, AveragePooling2D"
      ]
    },
    {
      "cell_type": "code",
      "source": [
        "# Set the batch size\n",
        "batch_size = 8\n",
        "\n",
        "# Set the number of epochs\n",
        "epochs = 200\n",
        "\n",
        "# Set the image size\n",
        "img_size = 224\n",
        "\n",
        "# Set the number of classes\n",
        "num_classes = 8"
      ],
      "metadata": {
        "id": "5OMN2Igzjs3N"
      },
      "execution_count": null,
      "outputs": []
    },
    {
      "cell_type": "code",
      "source": [
        "# Define the data generator for preprocessing the images\n",
        "datagen = ImageDataGenerator(rescale=1./255,\n",
        "                             rotation_range=20,\n",
        "                             width_shift_range=0.2,\n",
        "                             height_shift_range=0.2,\n",
        "                             shear_range=0.2,\n",
        "                             zoom_range=0.2,\n",
        "                             horizontal_flip=True,\n",
        "                             vertical_flip=True,\n",
        "                             validation_split = 0.2)\n",
        "#if necessary add validation_split factor =0.2\n",
        "#val_datagen = ImageDataGenerator(rescale=1./255)"
      ],
      "metadata": {
        "id": "uoXam99ujxhV"
      },
      "execution_count": null,
      "outputs": []
    },
    {
      "cell_type": "code",
      "source": [
        "from google.colab import drive\n",
        "drive.mount('/content/drive')"
      ],
      "metadata": {
        "colab": {
          "base_uri": "https://localhost:8080/"
        },
        "id": "Fk7POQ_gkOEV",
        "outputId": "bfa0332d-b6b8-458b-ea44-027b8b187b32"
      },
      "execution_count": null,
      "outputs": [
        {
          "output_type": "stream",
          "name": "stdout",
          "text": [
            "Mounted at /content/drive\n"
          ]
        }
      ]
    },
    {
      "cell_type": "code",
      "source": [
        "import os\n",
        "base_dir = '/content/drive/MyDrive/Plantdoc'\n",
        "train_dir = os.path.join(base_dir)\n",
        "#validation_dir = os.path.join(base_dir)"
      ],
      "metadata": {
        "id": "0i3b9wSPkMCb"
      },
      "execution_count": null,
      "outputs": []
    },
    {
      "cell_type": "code",
      "source": [
        "#train set\n",
        "train_apple_leaf_dir = os.path.join(train_dir, 'Apple leaf')\n",
        "train_apple_rust_leaf_dir = os.path.join(train_dir, 'Apple rust leaf')\n",
        "train_apple_scab_leaf_dir = os.path.join(train_dir, 'Apple scab leaf')\n",
        "train_bell_pepper_leaf_dir = os.path.join(train_dir, 'Bell pepper leaf')\n",
        "train_bell_pepper_leaf_spot_dir = os.path.join(train_dir, 'Bell pepper leaf spot')\n",
        "train_blueberry_leaf_dir = os.path.join(train_dir, 'Blueberry leaf')\n",
        "train_cherry_leaf_dir = os.path.join(train_dir, 'Cherry leaf')\n",
        "train_corn_gray_leaf_spot_dir = os.path.join(train_dir, 'Corn Gray leaf spot')"
      ],
      "metadata": {
        "id": "EagZapKC5bU-"
      },
      "execution_count": null,
      "outputs": []
    },
    {
      "cell_type": "code",
      "source": [
        "# validation set\n",
        "# validation_apple_leaf_dir = os.path.join(validation_dir, 'Apple leaf')\n",
        "# validation_apple_rust_leaf_dir = os.path.join(validation_dir, 'Apple rust leaf')\n",
        "# validation_apple_scab_leaf_dir = os.path.join(validation_dir, 'Apple scab leaf')\n",
        "# validation_bell_pepper_leaf_dir = os.path.join(validation_dir, 'Bell pepper leaf')\n",
        "# validation_bell_pepper_leaf_spot_dir = os.path.join(validation_dir, 'Bell pepper leaf spot')\n",
        "# validation_blueberry_leaf_dir = os.path.join(validation_dir, 'Blueberry leaf')\n",
        "# validation_cherry_leaf_dir = os.path.join(validation_dir, 'Cherry leaf')\n",
        "# validation_corn_gray_leaf_spot_dir = os.path.join(validation_dir, 'Corn Gray leaf spot')"
      ],
      "metadata": {
        "id": "dwOMCcCc6JPC"
      },
      "execution_count": null,
      "outputs": []
    },
    {
      "cell_type": "code",
      "source": [
        "# Load the training set\n",
        "train_generator = datagen.flow_from_directory(\n",
        "    train_dir,\n",
        "    target_size=(img_size, img_size),\n",
        "    batch_size=batch_size,\n",
        "    class_mode='categorical',\n",
        "    subset='training')"
      ],
      "metadata": {
        "colab": {
          "base_uri": "https://localhost:8080/"
        },
        "id": "FeGGICNOkFjv",
        "outputId": "2d6c14a9-e068-4e78-9d20-125a34eb598a"
      },
      "execution_count": null,
      "outputs": [
        {
          "output_type": "stream",
          "name": "stdout",
          "text": [
            "Found 64 images belonging to 8 classes.\n"
          ]
        }
      ]
    },
    {
      "cell_type": "code",
      "source": [
        "# Load the validation set\n",
        "val_generator = datagen.flow_from_directory(\n",
        "    train_dir,\n",
        "    target_size=(img_size, img_size),\n",
        "    batch_size=batch_size,\n",
        "    class_mode='categorical',\n",
        "    subset='validation')"
      ],
      "metadata": {
        "colab": {
          "base_uri": "https://localhost:8080/"
        },
        "id": "RC9-xURLkmNr",
        "outputId": "dfdb158d-fcc7-42ea-fb80-e1a0653fd926"
      },
      "execution_count": null,
      "outputs": [
        {
          "output_type": "stream",
          "name": "stdout",
          "text": [
            "Found 16 images belonging to 8 classes.\n"
          ]
        }
      ]
    },
    {
      "cell_type": "code",
      "source": [
        "# Load the DenseNet201 model\n",
        "base_model = DenseNet201(weights='imagenet', include_top=False, input_shape=(img_size, img_size, 3))"
      ],
      "metadata": {
        "id": "_5L4Dr5jmDVy",
        "colab": {
          "base_uri": "https://localhost:8080/"
        },
        "outputId": "94f1073d-ad7a-4931-8781-aed8fdcdcc89"
      },
      "execution_count": null,
      "outputs": [
        {
          "output_type": "stream",
          "name": "stdout",
          "text": [
            "Downloading data from https://storage.googleapis.com/tensorflow/keras-applications/densenet/densenet201_weights_tf_dim_ordering_tf_kernels_notop.h5\n",
            "74836368/74836368 [==============================] - 1s 0us/step\n"
          ]
        }
      ]
    },
    {
      "cell_type": "code",
      "source": [
        "# Add SE mechanism\n",
        "def squeeze_excite_block(input, ratio=16):\n",
        "    init = input\n",
        "    channel_axis = 3\n",
        "\n",
        "    filters = init.shape[channel_axis]\n",
        "    se_shape = (1, 1, filters)\n",
        "\n",
        "    se = GlobalAveragePooling2D()(init)\n",
        "    se = Reshape(se_shape)(se)\n",
        "    se = Dense(filters // ratio, activation='relu', kernel_initializer='he_normal', use_bias=True)(se)\n",
        "    se = Dense(filters, activation='sigmoid', kernel_initializer='he_normal', use_bias=True)(se)\n",
        "\n",
        "    x = multiply([input, se])\n",
        "    return x"
      ],
      "metadata": {
        "id": "f3Ana2jtmPoZ"
      },
      "execution_count": null,
      "outputs": []
    },
    {
      "cell_type": "code",
      "source": [
        "# Add Residual Attention Mechanism\n",
        "def RAM(input, filters):\n",
        "    # First RAM layer\n",
        "    x = Conv2D(filters=filters, kernel_size=1, strides=1, padding='same')(input)\n",
        "    x = BatchNormalization()(x)\n",
        "    x = Activation('relu')(x)\n",
        "\n",
        "    # Second RAM layer\n",
        "    x = Conv2D(filters=filters, kernel_size=3, strides=1, padding='same')(x)\n",
        "    x = BatchNormalization()(x)\n",
        "    x = Activation('relu')(x)\n",
        "\n",
        "    # Third RAM layer\n",
        "    x = Conv2D(filters=filters, kernel_size=1, strides=1, padding='same')(x)\n",
        "    x = BatchNormalization()(x)\n",
        "\n",
        "    # Residual connection\n",
        "    shortcut = Conv2D(filters=filters, kernel_size=1, strides=1, padding='same')(input)\n",
        "    shortcut = BatchNormalization()(shortcut)\n",
        "\n",
        "    x = add([x, shortcut])\n",
        "    x = Activation('relu')(x)\n",
        "\n",
        "    # Squeeze-and-Excite mechanism\n",
        "    x = squeeze_excite_block(x)\n",
        "\n",
        "    # Final RAM layer\n",
        "    x = Conv2D(filters=filters, kernel_size=1, strides=1, padding='same')(x)\n",
        "    x = BatchNormalization()(x)\n",
        "\n",
        "    x = add([x, shortcut])\n",
        "    x = Activation('relu')(x)\n",
        "\n",
        "    # Squeeze-and-Excite mechanism\n",
        "    x = squeeze_excite_block(x)\n",
        "\n",
        "    return x"
      ],
      "metadata": {
        "id": "4nIAwatRmehV"
      },
      "execution_count": null,
      "outputs": []
    },
    {
      "cell_type": "code",
      "source": [
        "# Add the Residual Attention Mechanism to the DenseNet201 model\n",
        "x = base_model.output\n",
        "x = RAM(x, 192)\n",
        "x = GlobalAveragePooling2D()(x)\n",
        "x = Dropout(0.2)(x) # change the dropout to 0.2 later \n",
        "output = Dense(num_classes, activation='softmax')(x)"
      ],
      "metadata": {
        "id": "9GyIAo_SmpJn"
      },
      "execution_count": null,
      "outputs": []
    },
    {
      "cell_type": "code",
      "source": [
        "model = Model(inputs=base_model.input, outputs=output)"
      ],
      "metadata": {
        "id": "yYmWXBZ5msmC"
      },
      "execution_count": null,
      "outputs": []
    },
    {
      "cell_type": "code",
      "source": [
        "# Set the layers of the DenseNet201 model to be non-trainable\n",
        "for layer in base_model.layers:\n",
        "    layer.trainable = False"
      ],
      "metadata": {
        "id": "WMMIMd6Cmvho"
      },
      "execution_count": null,
      "outputs": []
    },
    {
      "cell_type": "code",
      "source": [
        "# Compile the model\n",
        "model.compile(optimizer=Adam(learning_rate=0.0001), \n",
        "              loss='categorical_crossentropy', \n",
        "              metrics=['accuracy'])"
      ],
      "metadata": {
        "id": "ZFUU0EWDmyHm"
      },
      "execution_count": null,
      "outputs": []
    },
    {
      "cell_type": "markdown",
      "source": [
        "the **model checkpoints** will be saved with the epoch number and the validation loss in the filename. The directory of the filepath should not be reused by any other callbacks to avoid conflicts.\n",
        "\n",
        "save_best_only: if save_best_only=True, it only saves when the model is considered the \"best\" and the latest best model according to the quantity monitored will not be overwritten. If filepath doesn't contain formatting options like {epoch} then filepath will be overwritten by each new better model."
      ],
      "metadata": {
        "id": "sFVWaOUFpq0H"
      }
    },
    {
      "cell_type": "markdown",
      "source": [],
      "metadata": {
        "id": "jl3tXIh38S2t"
      }
    },
    {
      "cell_type": "code",
      "source": [
        "# Define the checkpoint and early stopping and tensorboard callbacks\n",
        "checkpoint = ModelCheckpoint('/content/drive/MyDrive/modelcheckpoint_dn201', monitor='val_loss', save_best_only=True, save_weights_only=True, mode='min')\n",
        "#early_stopping = EarlyStopping(monitor='val_loss', patience=5, mode='min', verbose=1)\n",
        "log_dir = TensorBoard(log_dir = '/content/drive/MyDrive/logdir_dn201')"
      ],
      "metadata": {
        "id": "uB3PstO1m2Wc"
      },
      "execution_count": null,
      "outputs": []
    },
    {
      "cell_type": "code",
      "source": [
        "# Train the model\n",
        "history = model.fit(train_generator, \n",
        "                    epochs=epochs, \n",
        "                    validation_data=val_generator, \n",
        "                    #verbose = 2,\n",
        "                    callbacks=[checkpoint, log_dir])\n",
        "# removing early stopping for now from callbacks"
      ],
      "metadata": {
        "colab": {
          "base_uri": "https://localhost:8080/"
        },
        "id": "c24efUI7nCdp",
        "outputId": "e269d1fd-cfb0-43a2-8946-f67e510d7a34"
      },
      "execution_count": null,
      "outputs": [
        {
          "output_type": "stream",
          "name": "stdout",
          "text": [
            "Epoch 1/200\n",
            "8/8 [==============================] - 65s 6s/step - loss: 2.1701 - accuracy: 0.1250 - val_loss: 2.1455 - val_accuracy: 0.1250\n",
            "Epoch 2/200\n",
            "8/8 [==============================] - 25s 3s/step - loss: 1.9520 - accuracy: 0.2500 - val_loss: 2.0429 - val_accuracy: 0.1875\n",
            "Epoch 3/200\n",
            "8/8 [==============================] - 25s 3s/step - loss: 1.8844 - accuracy: 0.2812 - val_loss: 2.0256 - val_accuracy: 0.0625\n",
            "Epoch 4/200\n",
            "8/8 [==============================] - 29s 4s/step - loss: 1.7148 - accuracy: 0.4531 - val_loss: 1.8715 - val_accuracy: 0.3125\n",
            "Epoch 5/200\n",
            "8/8 [==============================] - 23s 3s/step - loss: 1.6325 - accuracy: 0.4219 - val_loss: 2.0062 - val_accuracy: 0.1875\n",
            "Epoch 6/200\n",
            "8/8 [==============================] - 23s 3s/step - loss: 1.5935 - accuracy: 0.5781 - val_loss: 1.8707 - val_accuracy: 0.3125\n",
            "Epoch 7/200\n",
            "8/8 [==============================] - 24s 3s/step - loss: 1.4824 - accuracy: 0.6094 - val_loss: 1.8101 - val_accuracy: 0.2500\n",
            "Epoch 8/200\n",
            "8/8 [==============================] - 23s 3s/step - loss: 1.4621 - accuracy: 0.6250 - val_loss: 1.8912 - val_accuracy: 0.1875\n",
            "Epoch 9/200\n",
            "8/8 [==============================] - 24s 3s/step - loss: 1.3303 - accuracy: 0.7031 - val_loss: 1.8080 - val_accuracy: 0.2500\n",
            "Epoch 10/200\n",
            "8/8 [==============================] - 25s 3s/step - loss: 1.2144 - accuracy: 0.7656 - val_loss: 1.7937 - val_accuracy: 0.3750\n",
            "Epoch 11/200\n",
            "8/8 [==============================] - 28s 4s/step - loss: 1.1499 - accuracy: 0.7969 - val_loss: 1.8697 - val_accuracy: 0.2500\n",
            "Epoch 12/200\n",
            "8/8 [==============================] - 24s 3s/step - loss: 1.0839 - accuracy: 0.7969 - val_loss: 1.7269 - val_accuracy: 0.4375\n",
            "Epoch 13/200\n",
            "8/8 [==============================] - 24s 3s/step - loss: 0.9894 - accuracy: 0.8438 - val_loss: 1.7141 - val_accuracy: 0.4375\n",
            "Epoch 14/200\n",
            "8/8 [==============================] - 31s 4s/step - loss: 0.9882 - accuracy: 0.8594 - val_loss: 1.6683 - val_accuracy: 0.3750\n",
            "Epoch 15/200\n",
            "8/8 [==============================] - 24s 3s/step - loss: 0.9355 - accuracy: 0.8125 - val_loss: 1.6238 - val_accuracy: 0.3125\n",
            "Epoch 16/200\n",
            "8/8 [==============================] - 24s 3s/step - loss: 0.9434 - accuracy: 0.8281 - val_loss: 1.6157 - val_accuracy: 0.3125\n",
            "Epoch 17/200\n",
            "8/8 [==============================] - 23s 3s/step - loss: 0.9079 - accuracy: 0.8750 - val_loss: 1.7248 - val_accuracy: 0.3750\n",
            "Epoch 18/200\n",
            "8/8 [==============================] - 26s 3s/step - loss: 0.7419 - accuracy: 0.9219 - val_loss: 1.4842 - val_accuracy: 0.5000\n",
            "Epoch 19/200\n",
            "8/8 [==============================] - 23s 3s/step - loss: 0.7998 - accuracy: 0.8906 - val_loss: 1.6106 - val_accuracy: 0.4375\n",
            "Epoch 20/200\n",
            "8/8 [==============================] - 23s 3s/step - loss: 0.7655 - accuracy: 0.8906 - val_loss: 1.6977 - val_accuracy: 0.3125\n",
            "Epoch 21/200\n",
            "8/8 [==============================] - 23s 3s/step - loss: 0.7769 - accuracy: 0.8594 - val_loss: 1.5636 - val_accuracy: 0.5000\n",
            "Epoch 22/200\n",
            "8/8 [==============================] - 22s 3s/step - loss: 0.6012 - accuracy: 0.9688 - val_loss: 1.7681 - val_accuracy: 0.2500\n",
            "Epoch 23/200\n",
            "8/8 [==============================] - 24s 3s/step - loss: 0.7052 - accuracy: 0.8906 - val_loss: 1.5564 - val_accuracy: 0.4375\n",
            "Epoch 24/200\n",
            "8/8 [==============================] - 23s 3s/step - loss: 0.5242 - accuracy: 0.9531 - val_loss: 1.5562 - val_accuracy: 0.5000\n",
            "Epoch 25/200\n",
            "8/8 [==============================] - 21s 3s/step - loss: 0.6003 - accuracy: 0.9219 - val_loss: 1.5049 - val_accuracy: 0.6250\n",
            "Epoch 26/200\n",
            "8/8 [==============================] - 21s 3s/step - loss: 0.6211 - accuracy: 0.9062 - val_loss: 1.4964 - val_accuracy: 0.3750\n",
            "Epoch 27/200\n",
            "8/8 [==============================] - 23s 3s/step - loss: 0.5064 - accuracy: 0.9688 - val_loss: 1.5010 - val_accuracy: 0.3750\n",
            "Epoch 28/200\n",
            "8/8 [==============================] - 25s 3s/step - loss: 0.4977 - accuracy: 0.9688 - val_loss: 1.3379 - val_accuracy: 0.5625\n",
            "Epoch 29/200\n",
            "8/8 [==============================] - 28s 4s/step - loss: 0.4900 - accuracy: 0.9531 - val_loss: 1.4563 - val_accuracy: 0.5625\n",
            "Epoch 30/200\n",
            "8/8 [==============================] - 28s 4s/step - loss: 0.4022 - accuracy: 1.0000 - val_loss: 1.4426 - val_accuracy: 0.5000\n",
            "Epoch 31/200\n",
            "8/8 [==============================] - 28s 4s/step - loss: 0.4665 - accuracy: 0.9688 - val_loss: 1.4613 - val_accuracy: 0.4375\n",
            "Epoch 32/200\n",
            "8/8 [==============================] - 22s 3s/step - loss: 0.4745 - accuracy: 0.9531 - val_loss: 1.4948 - val_accuracy: 0.4375\n",
            "Epoch 33/200\n",
            "8/8 [==============================] - 29s 4s/step - loss: 0.4132 - accuracy: 0.9844 - val_loss: 1.6215 - val_accuracy: 0.4375\n",
            "Epoch 34/200\n",
            "8/8 [==============================] - 23s 3s/step - loss: 0.3404 - accuracy: 0.9844 - val_loss: 1.6792 - val_accuracy: 0.5000\n",
            "Epoch 35/200\n",
            "8/8 [==============================] - 23s 3s/step - loss: 0.3745 - accuracy: 0.9688 - val_loss: 1.5052 - val_accuracy: 0.4375\n",
            "Epoch 36/200\n",
            "8/8 [==============================] - 23s 3s/step - loss: 0.3389 - accuracy: 1.0000 - val_loss: 1.5421 - val_accuracy: 0.4375\n",
            "Epoch 37/200\n",
            "8/8 [==============================] - 22s 3s/step - loss: 0.3388 - accuracy: 0.9688 - val_loss: 1.5521 - val_accuracy: 0.4375\n",
            "Epoch 38/200\n",
            "8/8 [==============================] - 23s 3s/step - loss: 0.3810 - accuracy: 0.9688 - val_loss: 1.5428 - val_accuracy: 0.5625\n",
            "Epoch 39/200\n",
            "8/8 [==============================] - 26s 3s/step - loss: 0.3143 - accuracy: 0.9688 - val_loss: 1.4419 - val_accuracy: 0.4375\n",
            "Epoch 40/200\n",
            "8/8 [==============================] - 28s 4s/step - loss: 0.2850 - accuracy: 0.9844 - val_loss: 1.5059 - val_accuracy: 0.5000\n",
            "Epoch 41/200\n",
            "8/8 [==============================] - 23s 3s/step - loss: 0.2436 - accuracy: 1.0000 - val_loss: 1.6070 - val_accuracy: 0.4375\n",
            "Epoch 42/200\n",
            "8/8 [==============================] - 23s 3s/step - loss: 0.3033 - accuracy: 1.0000 - val_loss: 1.4294 - val_accuracy: 0.5625\n",
            "Epoch 43/200\n",
            "8/8 [==============================] - 23s 3s/step - loss: 0.2623 - accuracy: 1.0000 - val_loss: 1.5070 - val_accuracy: 0.5000\n",
            "Epoch 44/200\n",
            "8/8 [==============================] - 23s 3s/step - loss: 0.2507 - accuracy: 0.9688 - val_loss: 1.8933 - val_accuracy: 0.3125\n",
            "Epoch 45/200\n",
            "8/8 [==============================] - 23s 3s/step - loss: 0.3389 - accuracy: 0.9531 - val_loss: 1.6978 - val_accuracy: 0.3750\n",
            "Epoch 46/200\n",
            "8/8 [==============================] - 23s 3s/step - loss: 0.2939 - accuracy: 0.9375 - val_loss: 1.7616 - val_accuracy: 0.4375\n",
            "Epoch 47/200\n",
            "8/8 [==============================] - 21s 3s/step - loss: 0.2457 - accuracy: 1.0000 - val_loss: 1.5436 - val_accuracy: 0.5000\n",
            "Epoch 48/200\n",
            "8/8 [==============================] - 23s 3s/step - loss: 0.2403 - accuracy: 0.9844 - val_loss: 1.4453 - val_accuracy: 0.5625\n",
            "Epoch 49/200\n",
            "8/8 [==============================] - 28s 4s/step - loss: 0.2084 - accuracy: 0.9844 - val_loss: 1.4899 - val_accuracy: 0.6250\n",
            "Epoch 50/200\n",
            "8/8 [==============================] - 23s 3s/step - loss: 0.2275 - accuracy: 1.0000 - val_loss: 1.4583 - val_accuracy: 0.6250\n",
            "Epoch 51/200\n",
            "8/8 [==============================] - 23s 3s/step - loss: 0.2383 - accuracy: 1.0000 - val_loss: 1.5684 - val_accuracy: 0.5000\n",
            "Epoch 52/200\n",
            "8/8 [==============================] - 24s 3s/step - loss: 0.2087 - accuracy: 0.9844 - val_loss: 1.4843 - val_accuracy: 0.4375\n",
            "Epoch 53/200\n",
            "8/8 [==============================] - 23s 3s/step - loss: 0.2203 - accuracy: 1.0000 - val_loss: 1.4960 - val_accuracy: 0.5000\n",
            "Epoch 54/200\n",
            "8/8 [==============================] - 23s 3s/step - loss: 0.2249 - accuracy: 0.9688 - val_loss: 1.3619 - val_accuracy: 0.7500\n",
            "Epoch 55/200\n",
            "8/8 [==============================] - 23s 3s/step - loss: 0.1949 - accuracy: 1.0000 - val_loss: 1.4371 - val_accuracy: 0.6250\n",
            "Epoch 56/200\n",
            "8/8 [==============================] - 28s 4s/step - loss: 0.1736 - accuracy: 1.0000 - val_loss: 1.5591 - val_accuracy: 0.6250\n",
            "Epoch 57/200\n",
            "8/8 [==============================] - 23s 3s/step - loss: 0.1938 - accuracy: 0.9844 - val_loss: 1.5317 - val_accuracy: 0.3750\n",
            "Epoch 58/200\n",
            "8/8 [==============================] - 22s 3s/step - loss: 0.1332 - accuracy: 0.9844 - val_loss: 1.3471 - val_accuracy: 0.6250\n",
            "Epoch 59/200\n",
            "8/8 [==============================] - 23s 3s/step - loss: 0.1710 - accuracy: 1.0000 - val_loss: 1.4869 - val_accuracy: 0.5625\n",
            "Epoch 60/200\n",
            "8/8 [==============================] - 28s 4s/step - loss: 0.1883 - accuracy: 0.9688 - val_loss: 1.5393 - val_accuracy: 0.4375\n",
            "Epoch 61/200\n",
            "8/8 [==============================] - 23s 3s/step - loss: 0.1237 - accuracy: 1.0000 - val_loss: 1.3499 - val_accuracy: 0.5625\n",
            "Epoch 62/200\n",
            "8/8 [==============================] - 22s 3s/step - loss: 0.1528 - accuracy: 1.0000 - val_loss: 1.5154 - val_accuracy: 0.5625\n",
            "Epoch 63/200\n",
            "8/8 [==============================] - 23s 3s/step - loss: 0.1563 - accuracy: 1.0000 - val_loss: 1.6680 - val_accuracy: 0.4375\n",
            "Epoch 64/200\n",
            "8/8 [==============================] - 21s 3s/step - loss: 0.1556 - accuracy: 1.0000 - val_loss: 1.4786 - val_accuracy: 0.5000\n",
            "Epoch 65/200\n",
            "8/8 [==============================] - 23s 3s/step - loss: 0.1342 - accuracy: 1.0000 - val_loss: 1.5217 - val_accuracy: 0.5625\n",
            "Epoch 66/200\n",
            "8/8 [==============================] - 23s 3s/step - loss: 0.1346 - accuracy: 0.9844 - val_loss: 1.6364 - val_accuracy: 0.4375\n",
            "Epoch 67/200\n",
            "8/8 [==============================] - 23s 3s/step - loss: 0.1370 - accuracy: 0.9844 - val_loss: 1.5904 - val_accuracy: 0.5000\n",
            "Epoch 68/200\n",
            "8/8 [==============================] - 21s 3s/step - loss: 0.1461 - accuracy: 0.9844 - val_loss: 1.3547 - val_accuracy: 0.3750\n",
            "Epoch 69/200\n",
            "8/8 [==============================] - 22s 3s/step - loss: 0.1245 - accuracy: 0.9844 - val_loss: 1.5362 - val_accuracy: 0.5000\n",
            "Epoch 70/200\n",
            "8/8 [==============================] - 23s 3s/step - loss: 0.1830 - accuracy: 0.9688 - val_loss: 1.5648 - val_accuracy: 0.6875\n",
            "Epoch 71/200\n",
            "8/8 [==============================] - 23s 3s/step - loss: 0.1042 - accuracy: 1.0000 - val_loss: 1.5195 - val_accuracy: 0.5625\n",
            "Epoch 72/200\n",
            "8/8 [==============================] - 24s 3s/step - loss: 0.1370 - accuracy: 0.9844 - val_loss: 1.5877 - val_accuracy: 0.5625\n",
            "Epoch 73/200\n",
            "8/8 [==============================] - 23s 3s/step - loss: 0.0834 - accuracy: 1.0000 - val_loss: 1.9147 - val_accuracy: 0.4375\n",
            "Epoch 74/200\n",
            "8/8 [==============================] - 22s 3s/step - loss: 0.1547 - accuracy: 0.9844 - val_loss: 1.4300 - val_accuracy: 0.5625\n",
            "Epoch 75/200\n",
            "8/8 [==============================] - 23s 3s/step - loss: 0.1024 - accuracy: 1.0000 - val_loss: 1.6087 - val_accuracy: 0.6250\n",
            "Epoch 76/200\n",
            "8/8 [==============================] - 24s 3s/step - loss: 0.1008 - accuracy: 1.0000 - val_loss: 1.2999 - val_accuracy: 0.6250\n",
            "Epoch 77/200\n",
            "8/8 [==============================] - 23s 3s/step - loss: 0.1138 - accuracy: 0.9844 - val_loss: 1.3652 - val_accuracy: 0.6875\n",
            "Epoch 78/200\n",
            "8/8 [==============================] - 27s 3s/step - loss: 0.0704 - accuracy: 1.0000 - val_loss: 1.3729 - val_accuracy: 0.5625\n",
            "Epoch 79/200\n",
            "8/8 [==============================] - 23s 3s/step - loss: 0.1158 - accuracy: 0.9844 - val_loss: 1.5067 - val_accuracy: 0.6250\n",
            "Epoch 80/200\n",
            "8/8 [==============================] - 23s 3s/step - loss: 0.0700 - accuracy: 1.0000 - val_loss: 1.6558 - val_accuracy: 0.5625\n",
            "Epoch 81/200\n",
            "8/8 [==============================] - 28s 4s/step - loss: 0.0914 - accuracy: 1.0000 - val_loss: 1.5467 - val_accuracy: 0.5625\n",
            "Epoch 82/200\n",
            "8/8 [==============================] - 22s 3s/step - loss: 0.1125 - accuracy: 0.9844 - val_loss: 1.8027 - val_accuracy: 0.5000\n",
            "Epoch 83/200\n",
            "8/8 [==============================] - 23s 3s/step - loss: 0.1008 - accuracy: 0.9844 - val_loss: 1.2765 - val_accuracy: 0.6250\n",
            "Epoch 84/200\n",
            "8/8 [==============================] - 24s 3s/step - loss: 0.0957 - accuracy: 1.0000 - val_loss: 1.3880 - val_accuracy: 0.5625\n",
            "Epoch 85/200\n",
            "8/8 [==============================] - 28s 4s/step - loss: 0.1181 - accuracy: 0.9844 - val_loss: 1.6731 - val_accuracy: 0.5625\n",
            "Epoch 86/200\n",
            "8/8 [==============================] - 28s 4s/step - loss: 0.0745 - accuracy: 0.9844 - val_loss: 1.8858 - val_accuracy: 0.5625\n",
            "Epoch 87/200\n",
            "8/8 [==============================] - 23s 3s/step - loss: 0.0475 - accuracy: 1.0000 - val_loss: 1.5014 - val_accuracy: 0.5625\n",
            "Epoch 88/200\n",
            "8/8 [==============================] - 22s 3s/step - loss: 0.0894 - accuracy: 1.0000 - val_loss: 1.4819 - val_accuracy: 0.5625\n",
            "Epoch 89/200\n",
            "8/8 [==============================] - 23s 3s/step - loss: 0.0590 - accuracy: 1.0000 - val_loss: 1.3476 - val_accuracy: 0.5625\n",
            "Epoch 90/200\n",
            "8/8 [==============================] - 28s 4s/step - loss: 0.1196 - accuracy: 0.9844 - val_loss: 1.4842 - val_accuracy: 0.5625\n",
            "Epoch 91/200\n",
            "8/8 [==============================] - 23s 3s/step - loss: 0.1506 - accuracy: 0.9688 - val_loss: 1.5686 - val_accuracy: 0.4375\n",
            "Epoch 92/200\n",
            "8/8 [==============================] - 23s 3s/step - loss: 0.0831 - accuracy: 1.0000 - val_loss: 1.5089 - val_accuracy: 0.5625\n",
            "Epoch 93/200\n",
            "8/8 [==============================] - 28s 4s/step - loss: 0.0883 - accuracy: 1.0000 - val_loss: 1.5208 - val_accuracy: 0.6250\n",
            "Epoch 94/200\n",
            "8/8 [==============================] - 22s 3s/step - loss: 0.0774 - accuracy: 1.0000 - val_loss: 1.9410 - val_accuracy: 0.4375\n",
            "Epoch 95/200\n",
            "8/8 [==============================] - 23s 3s/step - loss: 0.1133 - accuracy: 1.0000 - val_loss: 1.8614 - val_accuracy: 0.5000\n",
            "Epoch 96/200\n",
            "8/8 [==============================] - 23s 3s/step - loss: 0.0859 - accuracy: 1.0000 - val_loss: 1.7497 - val_accuracy: 0.3750\n",
            "Epoch 97/200\n",
            "8/8 [==============================] - 22s 3s/step - loss: 0.1126 - accuracy: 0.9844 - val_loss: 1.7075 - val_accuracy: 0.3750\n",
            "Epoch 98/200\n",
            "8/8 [==============================] - 23s 3s/step - loss: 0.0842 - accuracy: 1.0000 - val_loss: 1.6520 - val_accuracy: 0.6250\n",
            "Epoch 99/200\n",
            "8/8 [==============================] - 22s 3s/step - loss: 0.1175 - accuracy: 0.9844 - val_loss: 1.8117 - val_accuracy: 0.3750\n",
            "Epoch 100/200\n",
            "8/8 [==============================] - 22s 3s/step - loss: 0.0646 - accuracy: 1.0000 - val_loss: 1.6544 - val_accuracy: 0.5625\n",
            "Epoch 101/200\n",
            "8/8 [==============================] - 22s 3s/step - loss: 0.0631 - accuracy: 1.0000 - val_loss: 1.5493 - val_accuracy: 0.3750\n",
            "Epoch 102/200\n",
            "8/8 [==============================] - 22s 3s/step - loss: 0.0487 - accuracy: 1.0000 - val_loss: 1.5868 - val_accuracy: 0.3750\n",
            "Epoch 103/200\n",
            "8/8 [==============================] - 24s 3s/step - loss: 0.0826 - accuracy: 1.0000 - val_loss: 1.3532 - val_accuracy: 0.5000\n",
            "Epoch 104/200\n",
            "8/8 [==============================] - 23s 3s/step - loss: 0.0686 - accuracy: 1.0000 - val_loss: 1.6577 - val_accuracy: 0.4375\n",
            "Epoch 105/200\n",
            "8/8 [==============================] - 21s 3s/step - loss: 0.0785 - accuracy: 1.0000 - val_loss: 1.4590 - val_accuracy: 0.5625\n",
            "Epoch 106/200\n",
            "8/8 [==============================] - 29s 4s/step - loss: 0.0580 - accuracy: 1.0000 - val_loss: 1.1952 - val_accuracy: 0.7500\n",
            "Epoch 107/200\n",
            "8/8 [==============================] - 28s 4s/step - loss: 0.0552 - accuracy: 1.0000 - val_loss: 1.4962 - val_accuracy: 0.5000\n",
            "Epoch 108/200\n",
            "8/8 [==============================] - 28s 4s/step - loss: 0.0762 - accuracy: 0.9844 - val_loss: 1.5263 - val_accuracy: 0.5000\n",
            "Epoch 109/200\n",
            "8/8 [==============================] - 22s 3s/step - loss: 0.0637 - accuracy: 1.0000 - val_loss: 1.4454 - val_accuracy: 0.4375\n",
            "Epoch 110/200\n",
            "8/8 [==============================] - 23s 3s/step - loss: 0.0875 - accuracy: 0.9844 - val_loss: 1.5130 - val_accuracy: 0.5000\n",
            "Epoch 111/200\n",
            "8/8 [==============================] - 23s 3s/step - loss: 0.0551 - accuracy: 1.0000 - val_loss: 1.7445 - val_accuracy: 0.5000\n",
            "Epoch 112/200\n",
            "8/8 [==============================] - 23s 3s/step - loss: 0.1192 - accuracy: 0.9688 - val_loss: 1.4951 - val_accuracy: 0.5000\n",
            "Epoch 113/200\n",
            "8/8 [==============================] - 28s 4s/step - loss: 0.1008 - accuracy: 0.9844 - val_loss: 1.4781 - val_accuracy: 0.6250\n",
            "Epoch 114/200\n",
            "8/8 [==============================] - 23s 3s/step - loss: 0.0413 - accuracy: 1.0000 - val_loss: 1.4001 - val_accuracy: 0.5625\n",
            "Epoch 115/200\n",
            "8/8 [==============================] - 23s 3s/step - loss: 0.0540 - accuracy: 1.0000 - val_loss: 1.3068 - val_accuracy: 0.6250\n",
            "Epoch 116/200\n",
            "8/8 [==============================] - 29s 4s/step - loss: 0.0587 - accuracy: 1.0000 - val_loss: 1.0582 - val_accuracy: 0.6875\n",
            "Epoch 117/200\n",
            "8/8 [==============================] - 23s 3s/step - loss: 0.0879 - accuracy: 1.0000 - val_loss: 1.6410 - val_accuracy: 0.5625\n",
            "Epoch 118/200\n",
            "8/8 [==============================] - 22s 3s/step - loss: 0.0579 - accuracy: 1.0000 - val_loss: 1.2654 - val_accuracy: 0.5000\n",
            "Epoch 119/200\n",
            "8/8 [==============================] - 22s 3s/step - loss: 0.0777 - accuracy: 0.9844 - val_loss: 1.5438 - val_accuracy: 0.6250\n",
            "Epoch 120/200\n",
            "8/8 [==============================] - 22s 3s/step - loss: 0.0557 - accuracy: 1.0000 - val_loss: 1.0547 - val_accuracy: 0.6875\n",
            "Epoch 121/200\n",
            "8/8 [==============================] - 23s 3s/step - loss: 0.0461 - accuracy: 1.0000 - val_loss: 1.2762 - val_accuracy: 0.6875\n",
            "Epoch 122/200\n",
            "8/8 [==============================] - 23s 3s/step - loss: 0.0464 - accuracy: 1.0000 - val_loss: 1.1823 - val_accuracy: 0.5625\n",
            "Epoch 123/200\n",
            "8/8 [==============================] - 28s 4s/step - loss: 0.0642 - accuracy: 0.9844 - val_loss: 1.7670 - val_accuracy: 0.3750\n",
            "Epoch 124/200\n",
            "8/8 [==============================] - 28s 4s/step - loss: 0.1748 - accuracy: 0.9688 - val_loss: 1.7303 - val_accuracy: 0.5000\n",
            "Epoch 125/200\n",
            "8/8 [==============================] - 22s 3s/step - loss: 0.0371 - accuracy: 1.0000 - val_loss: 1.7913 - val_accuracy: 0.3750\n",
            "Epoch 126/200\n",
            "8/8 [==============================] - 23s 3s/step - loss: 0.0463 - accuracy: 1.0000 - val_loss: 1.3385 - val_accuracy: 0.5625\n",
            "Epoch 127/200\n",
            "8/8 [==============================] - 24s 3s/step - loss: 0.0883 - accuracy: 1.0000 - val_loss: 1.0428 - val_accuracy: 0.7500\n",
            "Epoch 128/200\n",
            "8/8 [==============================] - 23s 3s/step - loss: 0.0411 - accuracy: 0.9844 - val_loss: 1.6191 - val_accuracy: 0.5625\n",
            "Epoch 129/200\n",
            "8/8 [==============================] - 23s 3s/step - loss: 0.0646 - accuracy: 1.0000 - val_loss: 1.3861 - val_accuracy: 0.6250\n",
            "Epoch 130/200\n",
            "8/8 [==============================] - 24s 3s/step - loss: 0.0458 - accuracy: 1.0000 - val_loss: 1.1256 - val_accuracy: 0.5625\n",
            "Epoch 131/200\n",
            "8/8 [==============================] - 24s 3s/step - loss: 0.0560 - accuracy: 0.9844 - val_loss: 1.2133 - val_accuracy: 0.6250\n",
            "Epoch 132/200\n",
            "8/8 [==============================] - 23s 3s/step - loss: 0.0522 - accuracy: 1.0000 - val_loss: 1.2549 - val_accuracy: 0.6875\n",
            "Epoch 133/200\n",
            "8/8 [==============================] - 28s 4s/step - loss: 0.0567 - accuracy: 1.0000 - val_loss: 1.7420 - val_accuracy: 0.4375\n",
            "Epoch 134/200\n",
            "8/8 [==============================] - 28s 4s/step - loss: 0.0440 - accuracy: 1.0000 - val_loss: 1.1626 - val_accuracy: 0.6875\n",
            "Epoch 135/200\n",
            "8/8 [==============================] - 23s 3s/step - loss: 0.0569 - accuracy: 1.0000 - val_loss: 1.7963 - val_accuracy: 0.4375\n",
            "Epoch 136/200\n",
            "8/8 [==============================] - 21s 3s/step - loss: 0.0239 - accuracy: 1.0000 - val_loss: 1.5861 - val_accuracy: 0.5000\n",
            "Epoch 137/200\n",
            "8/8 [==============================] - 22s 3s/step - loss: 0.0717 - accuracy: 0.9844 - val_loss: 1.2745 - val_accuracy: 0.6250\n",
            "Epoch 138/200\n",
            "8/8 [==============================] - 23s 3s/step - loss: 0.0241 - accuracy: 1.0000 - val_loss: 1.6650 - val_accuracy: 0.4375\n",
            "Epoch 139/200\n",
            "8/8 [==============================] - 23s 3s/step - loss: 0.0513 - accuracy: 1.0000 - val_loss: 1.7966 - val_accuracy: 0.4375\n",
            "Epoch 140/200\n",
            "8/8 [==============================] - 22s 3s/step - loss: 0.0265 - accuracy: 1.0000 - val_loss: 1.3814 - val_accuracy: 0.5625\n",
            "Epoch 141/200\n",
            "8/8 [==============================] - 23s 3s/step - loss: 0.0311 - accuracy: 1.0000 - val_loss: 1.3966 - val_accuracy: 0.3750\n",
            "Epoch 142/200\n",
            "8/8 [==============================] - 23s 3s/step - loss: 0.0370 - accuracy: 1.0000 - val_loss: 1.4815 - val_accuracy: 0.6875\n",
            "Epoch 143/200\n",
            "8/8 [==============================] - 24s 3s/step - loss: 0.0249 - accuracy: 1.0000 - val_loss: 1.9566 - val_accuracy: 0.4375\n",
            "Epoch 144/200\n",
            "8/8 [==============================] - 28s 4s/step - loss: 0.0676 - accuracy: 0.9844 - val_loss: 1.7462 - val_accuracy: 0.5000\n",
            "Epoch 145/200\n",
            "8/8 [==============================] - 23s 3s/step - loss: 0.0475 - accuracy: 1.0000 - val_loss: 1.7453 - val_accuracy: 0.5000\n",
            "Epoch 146/200\n",
            "8/8 [==============================] - 21s 3s/step - loss: 0.0452 - accuracy: 1.0000 - val_loss: 1.6435 - val_accuracy: 0.5625\n",
            "Epoch 147/200\n",
            "8/8 [==============================] - 22s 3s/step - loss: 0.0363 - accuracy: 1.0000 - val_loss: 1.3391 - val_accuracy: 0.5000\n",
            "Epoch 148/200\n",
            "8/8 [==============================] - 23s 3s/step - loss: 0.0459 - accuracy: 1.0000 - val_loss: 1.6189 - val_accuracy: 0.5625\n",
            "Epoch 149/200\n",
            "8/8 [==============================] - 21s 3s/step - loss: 0.0420 - accuracy: 0.9844 - val_loss: 1.8231 - val_accuracy: 0.3750\n",
            "Epoch 150/200\n",
            "8/8 [==============================] - 22s 3s/step - loss: 0.0303 - accuracy: 1.0000 - val_loss: 1.7177 - val_accuracy: 0.5000\n",
            "Epoch 151/200\n",
            "8/8 [==============================] - 24s 3s/step - loss: 0.0288 - accuracy: 1.0000 - val_loss: 1.6590 - val_accuracy: 0.4375\n",
            "Epoch 152/200\n",
            "8/8 [==============================] - 23s 3s/step - loss: 0.0626 - accuracy: 1.0000 - val_loss: 1.8493 - val_accuracy: 0.4375\n",
            "Epoch 153/200\n",
            "8/8 [==============================] - 22s 3s/step - loss: 0.0284 - accuracy: 1.0000 - val_loss: 1.5302 - val_accuracy: 0.5000\n",
            "Epoch 154/200\n",
            "8/8 [==============================] - 23s 3s/step - loss: 0.0377 - accuracy: 1.0000 - val_loss: 1.8459 - val_accuracy: 0.5000\n",
            "Epoch 155/200\n",
            "8/8 [==============================] - 24s 3s/step - loss: 0.0698 - accuracy: 1.0000 - val_loss: 1.7575 - val_accuracy: 0.4375\n",
            "Epoch 156/200\n",
            "8/8 [==============================] - 28s 4s/step - loss: 0.0170 - accuracy: 1.0000 - val_loss: 1.6407 - val_accuracy: 0.3750\n",
            "Epoch 157/200\n",
            "8/8 [==============================] - 23s 3s/step - loss: 0.0256 - accuracy: 1.0000 - val_loss: 1.6702 - val_accuracy: 0.4375\n",
            "Epoch 158/200\n",
            "8/8 [==============================] - 22s 3s/step - loss: 0.0408 - accuracy: 1.0000 - val_loss: 1.7559 - val_accuracy: 0.4375\n",
            "Epoch 159/200\n",
            "8/8 [==============================] - 22s 3s/step - loss: 0.0898 - accuracy: 0.9844 - val_loss: 1.6793 - val_accuracy: 0.5625\n",
            "Epoch 160/200\n",
            "8/8 [==============================] - 23s 3s/step - loss: 0.0318 - accuracy: 1.0000 - val_loss: 1.4684 - val_accuracy: 0.5000\n",
            "Epoch 161/200\n",
            "8/8 [==============================] - 27s 4s/step - loss: 0.0480 - accuracy: 0.9844 - val_loss: 1.4708 - val_accuracy: 0.4375\n",
            "Epoch 162/200\n",
            "8/8 [==============================] - 28s 4s/step - loss: 0.0418 - accuracy: 1.0000 - val_loss: 1.2425 - val_accuracy: 0.6250\n",
            "Epoch 163/200\n",
            "8/8 [==============================] - 22s 3s/step - loss: 0.0424 - accuracy: 1.0000 - val_loss: 1.3317 - val_accuracy: 0.6875\n",
            "Epoch 164/200\n",
            "8/8 [==============================] - 23s 3s/step - loss: 0.0315 - accuracy: 1.0000 - val_loss: 1.3576 - val_accuracy: 0.5625\n",
            "Epoch 165/200\n",
            "8/8 [==============================] - 23s 3s/step - loss: 0.0276 - accuracy: 1.0000 - val_loss: 1.5678 - val_accuracy: 0.5625\n",
            "Epoch 166/200\n",
            "8/8 [==============================] - 22s 3s/step - loss: 0.0366 - accuracy: 1.0000 - val_loss: 1.4160 - val_accuracy: 0.6875\n",
            "Epoch 167/200\n",
            "8/8 [==============================] - 23s 3s/step - loss: 0.0312 - accuracy: 1.0000 - val_loss: 1.3879 - val_accuracy: 0.6250\n",
            "Epoch 168/200\n",
            "8/8 [==============================] - 23s 3s/step - loss: 0.0685 - accuracy: 1.0000 - val_loss: 1.7891 - val_accuracy: 0.5625\n",
            "Epoch 169/200\n",
            "8/8 [==============================] - 22s 3s/step - loss: 0.0824 - accuracy: 0.9844 - val_loss: 1.5592 - val_accuracy: 0.5000\n",
            "Epoch 170/200\n",
            "8/8 [==============================] - 22s 3s/step - loss: 0.0205 - accuracy: 1.0000 - val_loss: 1.5945 - val_accuracy: 0.4375\n",
            "Epoch 171/200\n",
            "8/8 [==============================] - 22s 3s/step - loss: 0.0337 - accuracy: 1.0000 - val_loss: 2.0574 - val_accuracy: 0.4375\n",
            "Epoch 172/200\n",
            "8/8 [==============================] - 22s 3s/step - loss: 0.0306 - accuracy: 1.0000 - val_loss: 1.6354 - val_accuracy: 0.5625\n",
            "Epoch 173/200\n",
            "8/8 [==============================] - 22s 3s/step - loss: 0.1208 - accuracy: 0.9688 - val_loss: 1.7627 - val_accuracy: 0.5000\n",
            "Epoch 174/200\n",
            "8/8 [==============================] - 23s 3s/step - loss: 0.0361 - accuracy: 1.0000 - val_loss: 1.4437 - val_accuracy: 0.5625\n",
            "Epoch 175/200\n",
            "8/8 [==============================] - 21s 3s/step - loss: 0.0559 - accuracy: 1.0000 - val_loss: 1.4572 - val_accuracy: 0.5625\n",
            "Epoch 176/200\n",
            "8/8 [==============================] - 27s 4s/step - loss: 0.0509 - accuracy: 1.0000 - val_loss: 1.6804 - val_accuracy: 0.5000\n",
            "Epoch 177/200\n",
            "8/8 [==============================] - 22s 3s/step - loss: 0.0269 - accuracy: 1.0000 - val_loss: 1.8858 - val_accuracy: 0.4375\n",
            "Epoch 178/200\n",
            "8/8 [==============================] - 23s 3s/step - loss: 0.0651 - accuracy: 0.9844 - val_loss: 1.4695 - val_accuracy: 0.5000\n",
            "Epoch 179/200\n",
            "8/8 [==============================] - 23s 3s/step - loss: 0.0317 - accuracy: 1.0000 - val_loss: 1.1720 - val_accuracy: 0.6250\n",
            "Epoch 180/200\n",
            "8/8 [==============================] - 21s 3s/step - loss: 0.0236 - accuracy: 1.0000 - val_loss: 1.8952 - val_accuracy: 0.6250\n",
            "Epoch 181/200\n",
            "8/8 [==============================] - 28s 4s/step - loss: 0.0357 - accuracy: 1.0000 - val_loss: 1.6332 - val_accuracy: 0.5000\n",
            "Epoch 182/200\n",
            "8/8 [==============================] - 22s 3s/step - loss: 0.0224 - accuracy: 1.0000 - val_loss: 1.2933 - val_accuracy: 0.7500\n",
            "Epoch 183/200\n",
            "8/8 [==============================] - 22s 3s/step - loss: 0.0290 - accuracy: 1.0000 - val_loss: 1.5606 - val_accuracy: 0.4375\n",
            "Epoch 184/200\n",
            "8/8 [==============================] - 22s 3s/step - loss: 0.0192 - accuracy: 1.0000 - val_loss: 1.5049 - val_accuracy: 0.6250\n",
            "Epoch 185/200\n",
            "8/8 [==============================] - 22s 3s/step - loss: 0.0222 - accuracy: 1.0000 - val_loss: 1.6694 - val_accuracy: 0.5625\n",
            "Epoch 186/200\n",
            "8/8 [==============================] - 28s 4s/step - loss: 0.0467 - accuracy: 0.9844 - val_loss: 1.8469 - val_accuracy: 0.5000\n",
            "Epoch 187/200\n",
            "8/8 [==============================] - 27s 4s/step - loss: 0.0235 - accuracy: 1.0000 - val_loss: 1.5765 - val_accuracy: 0.4375\n",
            "Epoch 188/200\n",
            "8/8 [==============================] - 22s 3s/step - loss: 0.0382 - accuracy: 0.9844 - val_loss: 1.7282 - val_accuracy: 0.5625\n",
            "Epoch 189/200\n",
            "8/8 [==============================] - 23s 3s/step - loss: 0.0577 - accuracy: 0.9844 - val_loss: 1.5201 - val_accuracy: 0.3750\n",
            "Epoch 190/200\n",
            "8/8 [==============================] - 22s 3s/step - loss: 0.0351 - accuracy: 1.0000 - val_loss: 1.9108 - val_accuracy: 0.4375\n",
            "Epoch 191/200\n",
            "8/8 [==============================] - 22s 3s/step - loss: 0.0291 - accuracy: 1.0000 - val_loss: 1.6608 - val_accuracy: 0.5000\n",
            "Epoch 192/200\n",
            "8/8 [==============================] - 24s 3s/step - loss: 0.0536 - accuracy: 0.9844 - val_loss: 1.3538 - val_accuracy: 0.5000\n",
            "Epoch 193/200\n",
            "8/8 [==============================] - 23s 3s/step - loss: 0.0182 - accuracy: 1.0000 - val_loss: 1.3486 - val_accuracy: 0.6250\n",
            "Epoch 194/200\n",
            "8/8 [==============================] - 23s 3s/step - loss: 0.0237 - accuracy: 1.0000 - val_loss: 2.2530 - val_accuracy: 0.3750\n",
            "Epoch 195/200\n",
            "8/8 [==============================] - 22s 3s/step - loss: 0.0338 - accuracy: 1.0000 - val_loss: 1.7712 - val_accuracy: 0.5625\n",
            "Epoch 196/200\n",
            "8/8 [==============================] - 24s 3s/step - loss: 0.0190 - accuracy: 1.0000 - val_loss: 1.9677 - val_accuracy: 0.4375\n",
            "Epoch 197/200\n",
            "8/8 [==============================] - 23s 3s/step - loss: 0.0312 - accuracy: 1.0000 - val_loss: 1.8187 - val_accuracy: 0.5625\n",
            "Epoch 198/200\n",
            "8/8 [==============================] - 21s 3s/step - loss: 0.0232 - accuracy: 1.0000 - val_loss: 1.7158 - val_accuracy: 0.5625\n",
            "Epoch 199/200\n",
            "8/8 [==============================] - 23s 3s/step - loss: 0.0195 - accuracy: 1.0000 - val_loss: 1.8589 - val_accuracy: 0.4375\n",
            "Epoch 200/200\n",
            "8/8 [==============================] - 23s 3s/step - loss: 0.0784 - accuracy: 0.9844 - val_loss: 1.2493 - val_accuracy: 0.6250\n"
          ]
        }
      ]
    },
    {
      "cell_type": "code",
      "source": [
        "%matplotlib inline\n",
        "\n",
        "import matplotlib.pyplot as plt\n",
        "import matplotlib.image as mpimg"
      ],
      "metadata": {
        "id": "4MvFUbBPwCLB"
      },
      "execution_count": null,
      "outputs": []
    },
    {
      "cell_type": "code",
      "source": [
        "# Retrieve a list of accuracy results on training and validation data\n",
        "# sets for each training epoch\n",
        "acc = history.history['accuracy']\n",
        "val_acc = history.history['val_accuracy']"
      ],
      "metadata": {
        "id": "Z-wVahm0wPEQ"
      },
      "execution_count": null,
      "outputs": []
    },
    {
      "cell_type": "code",
      "source": [
        "# Retrieve a list of list results on training and validation data\n",
        "# sets for each training epoch\n",
        "loss = history.history['loss']\n",
        "val_loss = history.history['val_loss']"
      ],
      "metadata": {
        "id": "ubz2F05fwwdf"
      },
      "execution_count": null,
      "outputs": []
    },
    {
      "cell_type": "code",
      "source": [
        "# Get number of epochs\n",
        "epochs = range(len(acc))"
      ],
      "metadata": {
        "id": "uEDKPpDbwzLm"
      },
      "execution_count": null,
      "outputs": []
    },
    {
      "cell_type": "code",
      "source": [
        "# Plot training and validation accuracy per epoch\n",
        "plt.plot(epochs, acc)\n",
        "plt.plot(epochs, val_acc)\n",
        "plt.title('Training and validation accuracy')\n",
        "plt.figure()"
      ],
      "metadata": {
        "colab": {
          "base_uri": "https://localhost:8080/",
          "height": 486
        },
        "id": "YnJInD4Bw0zP",
        "outputId": "ba185178-33d5-472d-cd9e-869b42838552"
      },
      "execution_count": null,
      "outputs": [
        {
          "output_type": "execute_result",
          "data": {
            "text/plain": [
              "<Figure size 640x480 with 0 Axes>"
            ]
          },
          "metadata": {},
          "execution_count": 23
        },
        {
          "output_type": "display_data",
          "data": {
            "text/plain": [
              "<Figure size 640x480 with 1 Axes>"
            ],
            "image/png": "[encoded data removed]"
          },
          "metadata": {}
        },
        {
          "output_type": "display_data",
          "data": {
            "text/plain": [
              "<Figure size 640x480 with 0 Axes>"
            ]
          },
          "metadata": {}
        }
      ]
    },
    {
      "cell_type": "code",
      "source": [
        "# Plot training and validation loss per epoch\n",
        "plt.plot(epochs, loss)\n",
        "plt.plot(epochs, val_loss)\n",
        "plt.title('Training and validation loss')\n",
        "plt.figure()"
      ],
      "metadata": {
        "colab": {
          "base_uri": "https://localhost:8080/",
          "height": 486
        },
        "id": "fvk6-WYAw2tG",
        "outputId": "e56dc154-972e-44bd-f54a-9afdc6e3e022"
      },
      "execution_count": null,
      "outputs": [
        {
          "output_type": "execute_result",
          "data": {
            "text/plain": [
              "<Figure size 640x480 with 0 Axes>"
            ]
          },
          "metadata": {},
          "execution_count": 24
        },
        {
          "output_type": "display_data",
          "data": {
            "text/plain": [
              "<Figure size 640x480 with 1 Axes>"
            ],
            "image/png": "[encoded data removed]"
          },
          "metadata": {}
        },
        {
          "output_type": "display_data",
          "data": {
            "text/plain": [
              "<Figure size 640x480 with 0 Axes>"
            ]
          },
          "metadata": {}
        }
      ]
    },
    {
      "cell_type": "code",
      "source": [
        "# Save the model\n",
        "#model.save('path/to/save/model')"
      ],
      "metadata": {
        "id": "TQIpONwbnHGD"
      },
      "execution_count": null,
      "outputs": []
    }
  ]
}