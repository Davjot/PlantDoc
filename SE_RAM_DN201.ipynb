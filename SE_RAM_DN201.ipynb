{
  "nbformat": 4,
  "nbformat_minor": 0,
  "metadata": {
    "colab": {
      "provenance": [],
      "authorship_tag": "ABX9TyOwYeUjeiXJNkLBKZ3qfMbo",
      "include_colab_link": true
    },
    "kernelspec": {
      "name": "python3",
      "display_name": "Python 3"
    },
    "language_info": {
      "name": "python"
    }
  },
  "cells": [
    {
      "cell_type": "markdown",
      "metadata": {
        "id": "view-in-github",
        "colab_type": "text"
      },
      "source": [
        "<a href=\"https://colab.research.google.com/github/Davjot/PlantDoc/blob/main/SE_RAM_DN201.ipynb\" target=\"_parent\"><img src=\"https://colab.research.google.com/assets/colab-badge.svg\" alt=\"Open In Colab\"/></a>"
      ]
    },
    {
      "cell_type": "code",
      "execution_count": 36,
      "metadata": {
        "id": "1pMp8LsxjjLE"
      },
      "outputs": [],
      "source": [
        "import numpy as np\n",
        "import pandas as pd\n",
        "import tensorflow as tf\n",
        "from tensorflow.keras.preprocessing.image import ImageDataGenerator\n",
        "from tensorflow.keras.applications.densenet import DenseNet201\n",
        "from tensorflow.keras.layers import Dense, GlobalAveragePooling2D, Dropout\n",
        "from tensorflow.keras.models import Model\n",
        "from tensorflow.keras.optimizers import Adam\n",
        "from tensorflow.keras.callbacks import ModelCheckpoint, EarlyStopping , TensorBoard\n",
        "from tensorflow.keras.layers import Reshape, multiply, add, Conv2D, MaxPooling2D, BatchNormalization, Activation, ZeroPadding2D, AveragePooling2D"
      ]
    },
    {
      "cell_type": "code",
      "source": [
        "# Set the batch size\n",
        "batch_size = 32\n",
        "\n",
        "# Set the number of epochs\n",
        "epochs = 50\n",
        "\n",
        "# Set the image size\n",
        "img_size = 224\n",
        "\n",
        "# Set the number of classes\n",
        "num_classes = 8"
      ],
      "metadata": {
        "id": "5OMN2Igzjs3N"
      },
      "execution_count": 37,
      "outputs": []
    },
    {
      "cell_type": "code",
      "source": [
        "# Define the data generator for preprocessing the images\n",
        "datagen = ImageDataGenerator(rescale=1./255,\n",
        "                             rotation_range=20,\n",
        "                             width_shift_range=0.2,\n",
        "                             height_shift_range=0.2,\n",
        "                             shear_range=0.2,\n",
        "                             zoom_range=0.2,\n",
        "                             horizontal_flip=True,\n",
        "                             vertical_flip=True,\n",
        "                             validation_split = 0.2)\n",
        "#if necessary add validation_split factor =0.2\n",
        "#val_datagen = ImageDataGenerator(rescale=1./255)"
      ],
      "metadata": {
        "id": "uoXam99ujxhV"
      },
      "execution_count": 38,
      "outputs": []
    },
    {
      "cell_type": "code",
      "source": [
        "from google.colab import drive\n",
        "drive.mount('/content/drive')"
      ],
      "metadata": {
        "colab": {
          "base_uri": "https://localhost:8080/"
        },
        "id": "Fk7POQ_gkOEV",
        "outputId": "306baf61-bec7-406d-f387-9803667581f5"
      },
      "execution_count": 39,
      "outputs": [
        {
          "output_type": "stream",
          "name": "stdout",
          "text": [
            "Drive already mounted at /content/drive; to attempt to forcibly remount, call drive.mount(\"/content/drive\", force_remount=True).\n"
          ]
        }
      ]
    },
    {
      "cell_type": "code",
      "source": [
        "import os\n",
        "base_dir = '/content/drive/MyDrive/Plantdoc'\n",
        "train_dir = os.path.join(base_dir)\n",
        "#validation_dir = os.path.join(base_dir)"
      ],
      "metadata": {
        "id": "0i3b9wSPkMCb"
      },
      "execution_count": 40,
      "outputs": []
    },
    {
      "cell_type": "code",
      "source": [
        "train_apple_rust_leaf_dir = os.path.join(train_dir, 'Apple rust leaf')\n",
        "# validation_apple_rust_leaf_dir = os.path.join(validation_dir, 'Apple rust leaf')\n",
        "train_blueberry_leaf_dir = os.path.join(train_dir, 'Blueberry leaf')\n",
        "# validation_blueberry_leaf_dir = os.path.join(validation_dir, 'Blueberry leaf')\n",
        "#train_apple_rust_leaf_fnames = os.listdir(train_apple_rust_leaf_dir) \n",
        "#training set\n",
        "train_apple_leaf_dir = os.path.join(train_dir, 'Apple leaf')\n",
        "train_apple_scab_leaf_dir = os.path.join(train_dir, 'Apple scab leaf')\n",
        "train_bell_pepper_leaf_dir = os.path.join(train_dir, 'Bell pepper leaf')\n",
        "train_bell_pepper_leaf_spot_dir = os.path.join(train_dir, 'Bell pepper leaf spot')\n",
        "train_cherry_leaf_dir = os.path.join(train_dir, 'Cherry leaf')\n",
        "train_corn_gray_leaf_spot_dir = os.path.join(train_dir, 'Corn Gray leaf spot')\n",
        "\n",
        "#validation set\n",
        "# validation_apple_leaf_dir = os.path.join(validation_dir, 'Apple leaf')\n",
        "# validation_apple_scab_leaf_dir = os.path.join(validation_dir, 'Apple scab leaf')\n",
        "# validation_bell_pepper_leaf_dir = os.path.join(validation_dir, 'Bell pepper leaf')\n",
        "# validation_bell_pepper_leaf_spot_dir = os.path.join(validation_dir, 'Bell pepper leaf spot')\n",
        "# validation_cherry_leaf_dir = os.path.join(validation_dir, 'Cherry leaf')\n",
        "# validation_corn_gray_leaf_spot_dir = os.path.join(validation_dir, 'Corn Gray leaf spot')"
      ],
      "metadata": {
        "id": "wEYt9zvfkIYp"
      },
      "execution_count": 41,
      "outputs": []
    },
    {
      "cell_type": "code",
      "source": [
        "# Load the training set\n",
        "train_generator = datagen.flow_from_directory(\n",
        "    train_dir,\n",
        "    target_size=(img_size, img_size),\n",
        "    batch_size=batch_size,\n",
        "    class_mode='categorical',\n",
        "    subset='training')"
      ],
      "metadata": {
        "colab": {
          "base_uri": "https://localhost:8080/"
        },
        "id": "FeGGICNOkFjv",
        "outputId": "fc5483be-86bb-47e4-ba10-acfeb4bcbe9b"
      },
      "execution_count": 42,
      "outputs": [
        {
          "output_type": "stream",
          "name": "stdout",
          "text": [
            "Found 64 images belonging to 8 classes.\n"
          ]
        }
      ]
    },
    {
      "cell_type": "code",
      "source": [
        "# Load the validation set\n",
        "val_generator = datagen.flow_from_directory(\n",
        "    train_dir,\n",
        "    target_size=(img_size, img_size),\n",
        "    batch_size=batch_size,\n",
        "    class_mode='categorical',\n",
        "    subset='validation')"
      ],
      "metadata": {
        "colab": {
          "base_uri": "https://localhost:8080/"
        },
        "id": "RC9-xURLkmNr",
        "outputId": "442f3fb4-5fb4-4194-897c-69f18411225e"
      },
      "execution_count": 43,
      "outputs": [
        {
          "output_type": "stream",
          "name": "stdout",
          "text": [
            "Found 16 images belonging to 8 classes.\n"
          ]
        }
      ]
    },
    {
      "cell_type": "code",
      "source": [
        "# Load the DenseNet201 model\n",
        "base_model = DenseNet201(weights='imagenet', include_top=False, input_shape=(img_size, img_size, 3))"
      ],
      "metadata": {
        "id": "_5L4Dr5jmDVy"
      },
      "execution_count": 44,
      "outputs": []
    },
    {
      "cell_type": "code",
      "source": [
        "# Add SE mechanism\n",
        "def squeeze_excite_block(input, ratio=16):\n",
        "    init = input\n",
        "    channel_axis = 3\n",
        "\n",
        "    filters = init.shape[channel_axis]\n",
        "    se_shape = (1, 1, filters)\n",
        "\n",
        "    se = GlobalAveragePooling2D()(init)\n",
        "    se = Reshape(se_shape)(se)\n",
        "    se = Dense(filters // ratio, activation='relu', kernel_initializer='he_normal', use_bias=True)(se)\n",
        "    se = Dense(filters, activation='sigmoid', kernel_initializer='he_normal', use_bias=True)(se)\n",
        "\n",
        "    x = multiply([input, se])\n",
        "    return x"
      ],
      "metadata": {
        "id": "f3Ana2jtmPoZ"
      },
      "execution_count": 45,
      "outputs": []
    },
    {
      "cell_type": "code",
      "source": [
        "# Add Residual Attention Mechanism\n",
        "def RAM(input, filters):\n",
        "    # First RAM layer\n",
        "    x = Conv2D(filters=filters, kernel_size=1, strides=1, padding='same')(input)\n",
        "    x = BatchNormalization()(x)\n",
        "    x = Activation('relu')(x)\n",
        "\n",
        "    # Second RAM layer\n",
        "    x = Conv2D(filters=filters, kernel_size=3, strides=1, padding='same')(x)\n",
        "    x = BatchNormalization()(x)\n",
        "    x = Activation('relu')(x)\n",
        "\n",
        "    # Third RAM layer\n",
        "    x = Conv2D(filters=filters, kernel_size=1, strides=1, padding='same')(x)\n",
        "    x = BatchNormalization()(x)\n",
        "\n",
        "    # Residual connection\n",
        "    shortcut = Conv2D(filters=filters, kernel_size=1, strides=1, padding='same')(input)\n",
        "    shortcut = BatchNormalization()(shortcut)\n",
        "\n",
        "    x = add([x, shortcut])\n",
        "    x = Activation('relu')(x)\n",
        "\n",
        "    # Squeeze-and-Excite mechanism\n",
        "    x = squeeze_excite_block(x)\n",
        "\n",
        "    # Final RAM layer\n",
        "    x = Conv2D(filters=filters, kernel_size=1, strides=1, padding='same')(x)\n",
        "    x = BatchNormalization()(x)\n",
        "\n",
        "    x = add([x, shortcut])\n",
        "    x = Activation('relu')(x)\n",
        "\n",
        "    # Squeeze-and-Excite mechanism\n",
        "    x = squeeze_excite_block(x)\n",
        "\n",
        "    return x"
      ],
      "metadata": {
        "id": "4nIAwatRmehV"
      },
      "execution_count": 46,
      "outputs": []
    },
    {
      "cell_type": "code",
      "source": [
        "# Add the Residual Attention Mechanism to the DenseNet201 model\n",
        "x = base_model.output\n",
        "x = RAM(x, 192)\n",
        "x = GlobalAveragePooling2D()(x)\n",
        "x = Dropout(0.5)(x) # change the dropout to 0.2 later \n",
        "output = Dense(num_classes, activation='softmax')(x)"
      ],
      "metadata": {
        "id": "9GyIAo_SmpJn"
      },
      "execution_count": 47,
      "outputs": []
    },
    {
      "cell_type": "code",
      "source": [
        "model = Model(inputs=base_model.input, outputs=output)"
      ],
      "metadata": {
        "id": "yYmWXBZ5msmC"
      },
      "execution_count": 48,
      "outputs": []
    },
    {
      "cell_type": "code",
      "source": [
        "# Set the layers of the DenseNet201 model to be non-trainable\n",
        "for layer in base_model.layers:\n",
        "    layer.trainable = False"
      ],
      "metadata": {
        "id": "WMMIMd6Cmvho"
      },
      "execution_count": 49,
      "outputs": []
    },
    {
      "cell_type": "code",
      "source": [
        "# Compile the model\n",
        "model.compile(optimizer=Adam(learning_rate=0.0001), \n",
        "              loss='categorical_crossentropy', \n",
        "              metrics=['accuracy'])"
      ],
      "metadata": {
        "id": "ZFUU0EWDmyHm"
      },
      "execution_count": 50,
      "outputs": []
    },
    {
      "cell_type": "markdown",
      "source": [
        "the model checkpoints will be saved with the epoch number and the validation loss in the filename. The directory of the filepath should not be reused by any other callbacks to avoid conflicts."
      ],
      "metadata": {
        "id": "sFVWaOUFpq0H"
      }
    },
    {
      "cell_type": "code",
      "source": [
        "# Define the checkpoint and early stopping and tensorboard callbacks\n",
        "checkpoint = ModelCheckpoint('/content/drive/MyDrive/modelcheckpoint_dn201', monitor='val_loss', save_best_only=True, save_weights_only=True, mode='min')\n",
        "early_stopping = EarlyStopping(monitor='val_loss', patience=5, mode='min', verbose=1)\n",
        "log_dir = TensorBoard(log_dir = '/content/drive/MyDrive/logdir_dn201')"
      ],
      "metadata": {
        "id": "uB3PstO1m2Wc"
      },
      "execution_count": 51,
      "outputs": []
    },
    {
      "cell_type": "code",
      "source": [
        "# Train the model\n",
        "history = model.fit(train_generator, \n",
        "                    epochs=epochs, \n",
        "                    validation_data=val_generator, \n",
        "                    #verbose = 2,\n",
        "                    callbacks=[checkpoint, early_stopping, log_dir])"
      ],
      "metadata": {
        "colab": {
          "base_uri": "https://localhost:8080/"
        },
        "id": "c24efUI7nCdp",
        "outputId": "7b9e1bd7-4e16-49ee-d924-298c7bb9599d"
      },
      "execution_count": 52,
      "outputs": [
        {
          "output_type": "stream",
          "name": "stdout",
          "text": [
            "Epoch 1/50\n",
            "2/2 [==============================] - 49s 19s/step - loss: 2.2704 - accuracy: 0.1406 - val_loss: 2.1634 - val_accuracy: 0.1250\n",
            "Epoch 2/50\n",
            "2/2 [==============================] - 31s 18s/step - loss: 2.2648 - accuracy: 0.1406 - val_loss: 2.1582 - val_accuracy: 0.0625\n",
            "Epoch 3/50\n",
            "2/2 [==============================] - 26s 14s/step - loss: 2.2271 - accuracy: 0.1719 - val_loss: 2.0919 - val_accuracy: 0.1875\n",
            "Epoch 4/50\n",
            "2/2 [==============================] - 26s 13s/step - loss: 2.0138 - accuracy: 0.1875 - val_loss: 2.1683 - val_accuracy: 0.0625\n",
            "Epoch 5/50\n",
            "2/2 [==============================] - 25s 13s/step - loss: 2.0302 - accuracy: 0.1875 - val_loss: 2.1151 - val_accuracy: 0.1250\n",
            "Epoch 6/50\n",
            "2/2 [==============================] - 25s 14s/step - loss: 2.1004 - accuracy: 0.2344 - val_loss: 2.1385 - val_accuracy: 0.0625\n",
            "Epoch 7/50\n",
            "2/2 [==============================] - 26s 14s/step - loss: 1.9232 - accuracy: 0.3281 - val_loss: 2.0143 - val_accuracy: 0.1250\n",
            "Epoch 8/50\n",
            "2/2 [==============================] - 26s 13s/step - loss: 1.8601 - accuracy: 0.3281 - val_loss: 2.0419 - val_accuracy: 0.0625\n",
            "Epoch 9/50\n",
            "2/2 [==============================] - 25s 14s/step - loss: 1.9481 - accuracy: 0.2969 - val_loss: 1.9865 - val_accuracy: 0.1875\n",
            "Epoch 10/50\n",
            "2/2 [==============================] - 23s 12s/step - loss: 1.6646 - accuracy: 0.3281 - val_loss: 2.0342 - val_accuracy: 0.1875\n",
            "Epoch 11/50\n",
            "2/2 [==============================] - 24s 13s/step - loss: 1.7237 - accuracy: 0.3594 - val_loss: 2.0497 - val_accuracy: 0.2500\n",
            "Epoch 12/50\n",
            "2/2 [==============================] - 26s 15s/step - loss: 1.6657 - accuracy: 0.3750 - val_loss: 1.9710 - val_accuracy: 0.3125\n",
            "Epoch 13/50\n",
            "2/2 [==============================] - 26s 13s/step - loss: 1.5451 - accuracy: 0.4062 - val_loss: 2.0168 - val_accuracy: 0.1875\n",
            "Epoch 14/50\n",
            "2/2 [==============================] - 26s 13s/step - loss: 1.7416 - accuracy: 0.4062 - val_loss: 1.9792 - val_accuracy: 0.2500\n",
            "Epoch 15/50\n",
            "2/2 [==============================] - 31s 19s/step - loss: 1.5224 - accuracy: 0.4219 - val_loss: 1.9203 - val_accuracy: 0.3125\n",
            "Epoch 16/50\n",
            "2/2 [==============================] - 27s 14s/step - loss: 1.5650 - accuracy: 0.4531 - val_loss: 1.9164 - val_accuracy: 0.3125\n",
            "Epoch 17/50\n",
            "2/2 [==============================] - 28s 15s/step - loss: 1.4770 - accuracy: 0.4062 - val_loss: 1.8975 - val_accuracy: 0.3125\n",
            "Epoch 18/50\n",
            "2/2 [==============================] - 33s 15s/step - loss: 1.6357 - accuracy: 0.4219 - val_loss: 1.9066 - val_accuracy: 0.1875\n",
            "Epoch 19/50\n",
            "2/2 [==============================] - 26s 13s/step - loss: 1.5106 - accuracy: 0.4531 - val_loss: 1.9578 - val_accuracy: 0.2500\n",
            "Epoch 20/50\n",
            "2/2 [==============================] - 25s 13s/step - loss: 1.5059 - accuracy: 0.4844 - val_loss: 1.9480 - val_accuracy: 0.3125\n",
            "Epoch 21/50\n",
            "2/2 [==============================] - 26s 14s/step - loss: 1.3653 - accuracy: 0.6094 - val_loss: 1.8157 - val_accuracy: 0.3125\n",
            "Epoch 22/50\n",
            "2/2 [==============================] - 31s 18s/step - loss: 1.3010 - accuracy: 0.6406 - val_loss: 1.9571 - val_accuracy: 0.2500\n",
            "Epoch 23/50\n",
            "2/2 [==============================] - 30s 18s/step - loss: 1.4585 - accuracy: 0.5000 - val_loss: 1.8595 - val_accuracy: 0.3750\n",
            "Epoch 24/50\n",
            "2/2 [==============================] - 30s 17s/step - loss: 1.2499 - accuracy: 0.5625 - val_loss: 1.9294 - val_accuracy: 0.2500\n",
            "Epoch 25/50\n",
            "2/2 [==============================] - 26s 14s/step - loss: 1.3568 - accuracy: 0.6562 - val_loss: 1.7858 - val_accuracy: 0.3750\n",
            "Epoch 26/50\n",
            "2/2 [==============================] - 29s 17s/step - loss: 1.2336 - accuracy: 0.6562 - val_loss: 1.8409 - val_accuracy: 0.5000\n",
            "Epoch 27/50\n",
            "2/2 [==============================] - 29s 17s/step - loss: 1.1505 - accuracy: 0.7188 - val_loss: 1.7936 - val_accuracy: 0.3125\n",
            "Epoch 28/50\n",
            "2/2 [==============================] - 25s 13s/step - loss: 1.2277 - accuracy: 0.6250 - val_loss: 1.7995 - val_accuracy: 0.5000\n",
            "Epoch 29/50\n",
            "2/2 [==============================] - 24s 12s/step - loss: 1.1415 - accuracy: 0.6250 - val_loss: 1.8074 - val_accuracy: 0.4375\n",
            "Epoch 30/50\n",
            "2/2 [==============================] - 24s 12s/step - loss: 1.0315 - accuracy: 0.7812 - val_loss: 1.9209 - val_accuracy: 0.3125\n",
            "Epoch 30: early stopping\n"
          ]
        }
      ]
    },
    {
      "cell_type": "code",
      "source": [
        "%matplotlib inline\n",
        "\n",
        "import matplotlib.pyplot as plt\n",
        "import matplotlib.image as mpimg"
      ],
      "metadata": {
        "id": "4MvFUbBPwCLB"
      },
      "execution_count": 54,
      "outputs": []
    },
    {
      "cell_type": "code",
      "source": [
        "# Retrieve a list of accuracy results on training and validation data\n",
        "# sets for each training epoch\n",
        "acc = history.history['accuracy']\n",
        "val_acc = history.history['val_accuracy']"
      ],
      "metadata": {
        "id": "Z-wVahm0wPEQ"
      },
      "execution_count": 55,
      "outputs": []
    },
    {
      "cell_type": "code",
      "source": [
        "# Retrieve a list of list results on training and validation data\n",
        "# sets for each training epoch\n",
        "loss = history.history['loss']\n",
        "val_loss = history.history['val_loss']"
      ],
      "metadata": {
        "id": "ubz2F05fwwdf"
      },
      "execution_count": 56,
      "outputs": []
    },
    {
      "cell_type": "code",
      "source": [
        "# Get number of epochs\n",
        "epochs = range(len(acc))"
      ],
      "metadata": {
        "id": "uEDKPpDbwzLm"
      },
      "execution_count": 57,
      "outputs": []
    },
    {
      "cell_type": "code",
      "source": [
        "# Plot training and validation accuracy per epoch\n",
        "plt.plot(epochs, acc)\n",
        "plt.plot(epochs, val_acc)\n",
        "plt.title('Training and validation accuracy')\n",
        "plt.figure()"
      ],
      "metadata": {
        "colab": {
          "base_uri": "https://localhost:8080/",
          "height": 486
        },
        "id": "YnJInD4Bw0zP",
        "outputId": "bc7e28f0-b19a-42d7-cadc-b2da143ffb37"
      },
      "execution_count": 58,
      "outputs": [
        {
          "output_type": "execute_result",
          "data": {
            "text/plain": [
              "<Figure size 640x480 with 0 Axes>"
            ]
          },
          "metadata": {},
          "execution_count": 58
        },
        {
          "output_type": "display_data",
          "data": {
            "text/plain": [
              "<Figure size 640x480 with 1 Axes>"
            ],
            "image/png": "[encoded data removed]"
          },
          "metadata": {}
        },
        {
          "output_type": "display_data",
          "data": {
            "text/plain": [
              "<Figure size 640x480 with 0 Axes>"
            ]
          },
          "metadata": {}
        }
      ]
    },
    {
      "cell_type": "code",
      "source": [
        "# Plot training and validation loss per epoch\n",
        "plt.plot(epochs, loss)\n",
        "plt.plot(epochs, val_loss)\n",
        "plt.title('Training and validation loss')\n",
        "plt.figure()"
      ],
      "metadata": {
        "colab": {
          "base_uri": "https://localhost:8080/",
          "height": 486
        },
        "id": "fvk6-WYAw2tG",
        "outputId": "4c8e5b2d-8cdf-4612-f7a6-01c18b56a74f"
      },
      "execution_count": 59,
      "outputs": [
        {
          "output_type": "execute_result",
          "data": {
            "text/plain": [
              "<Figure size 640x480 with 0 Axes>"
            ]
          },
          "metadata": {},
          "execution_count": 59
        },
        {
          "output_type": "display_data",
          "data": {
            "text/plain": [
              "<Figure size 640x480 with 1 Axes>"
            ],
            "image/png": "[encoded data removed]"
          },
          "metadata": {}
        },
        {
          "output_type": "display_data",
          "data": {
            "text/plain": [
              "<Figure size 640x480 with 0 Axes>"
            ]
          },
          "metadata": {}
        }
      ]
    },
    {
      "cell_type": "code",
      "source": [
        "# Save the model\n",
        "#model.save('path/to/save/model')"
      ],
      "metadata": {
        "id": "TQIpONwbnHGD"
      },
      "execution_count": 53,
      "outputs": []
    }
  ]
}