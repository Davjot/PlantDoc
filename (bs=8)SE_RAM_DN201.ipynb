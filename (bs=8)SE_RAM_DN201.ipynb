{
  "nbformat": 4,
  "nbformat_minor": 0,
  "metadata": {
    "colab": {
      "provenance": [],
      "include_colab_link": true
    },
    "kernelspec": {
      "name": "python3",
      "display_name": "Python 3"
    },
    "language_info": {
      "name": "python"
    }
  },
  "cells": [
    {
      "cell_type": "markdown",
      "metadata": {
        "id": "view-in-github",
        "colab_type": "text"
      },
      "source": [
        "<a href=\"https://colab.research.google.com/github/Davjot/PlantDoc/blob/main/(bs%3D8)SE_RAM_DN201.ipynb\" target=\"_parent\"><img src=\"https://colab.research.google.com/assets/colab-badge.svg\" alt=\"Open In Colab\"/></a>"
      ]
    },
    {
      "cell_type": "code",
      "execution_count": 1,
      "metadata": {
        "id": "1pMp8LsxjjLE"
      },
      "outputs": [],
      "source": [
        "import numpy as np\n",
        "import pandas as pd\n",
        "import tensorflow as tf\n",
        "from tensorflow.keras.preprocessing.image import ImageDataGenerator\n",
        "from tensorflow.keras.applications.densenet import DenseNet201\n",
        "from tensorflow.keras.layers import Dense, GlobalAveragePooling2D, Dropout\n",
        "from tensorflow.keras.models import Model\n",
        "from tensorflow.keras.optimizers import Adam\n",
        "from tensorflow.keras.callbacks import ModelCheckpoint, EarlyStopping , TensorBoard\n",
        "from tensorflow.keras.layers import Reshape, multiply, add, Conv2D, MaxPooling2D, BatchNormalization, Activation, ZeroPadding2D, AveragePooling2D"
      ]
    },
    {
      "cell_type": "code",
      "source": [
        "# Set the batch size\n",
        "batch_size = 8\n",
        "\n",
        "# Set the number of epochs\n",
        "epochs = 50\n",
        "\n",
        "# Set the image size\n",
        "img_size = 224\n",
        "\n",
        "# Set the number of classes\n",
        "num_classes = 8"
      ],
      "metadata": {
        "id": "5OMN2Igzjs3N"
      },
      "execution_count": 2,
      "outputs": []
    },
    {
      "cell_type": "code",
      "source": [
        "# Define the data generator for preprocessing the images\n",
        "datagen = ImageDataGenerator(rescale=1./255,\n",
        "                             rotation_range=20,\n",
        "                             width_shift_range=0.2,\n",
        "                             height_shift_range=0.2,\n",
        "                             shear_range=0.2,\n",
        "                             zoom_range=0.2,\n",
        "                             horizontal_flip=True,\n",
        "                             vertical_flip=True,\n",
        "                             validation_split = 0.2)\n",
        "#if necessary add validation_split factor =0.2\n",
        "#val_datagen = ImageDataGenerator(rescale=1./255)"
      ],
      "metadata": {
        "id": "uoXam99ujxhV"
      },
      "execution_count": 3,
      "outputs": []
    },
    {
      "cell_type": "code",
      "source": [
        "from google.colab import drive\n",
        "drive.mount('/content/drive')"
      ],
      "metadata": {
        "colab": {
          "base_uri": "https://localhost:8080/"
        },
        "id": "Fk7POQ_gkOEV",
        "outputId": "f0871663-4d51-47a6-8b4a-d25f8d12261b"
      },
      "execution_count": 4,
      "outputs": [
        {
          "output_type": "stream",
          "name": "stdout",
          "text": [
            "Mounted at /content/drive\n"
          ]
        }
      ]
    },
    {
      "cell_type": "code",
      "source": [
        "import os\n",
        "base_dir = '/content/drive/MyDrive/Plantdoc'\n",
        "train_dir = os.path.join(base_dir)\n",
        "#validation_dir = os.path.join(base_dir)"
      ],
      "metadata": {
        "id": "0i3b9wSPkMCb"
      },
      "execution_count": 5,
      "outputs": []
    },
    {
      "cell_type": "code",
      "source": [
        "#train set\n",
        "train_apple_leaf_dir = os.path.join(train_dir, 'Apple leaf')\n",
        "train_apple_rust_leaf_dir = os.path.join(train_dir, 'Apple rust leaf')\n",
        "train_apple_scab_leaf_dir = os.path.join(train_dir, 'Apple scab leaf')\n",
        "train_bell_pepper_leaf_dir = os.path.join(train_dir, 'Bell pepper leaf')\n",
        "train_bell_pepper_leaf_spot_dir = os.path.join(train_dir, 'Bell pepper leaf spot')\n",
        "train_blueberry_leaf_dir = os.path.join(train_dir, 'Blueberry leaf')\n",
        "train_cherry_leaf_dir = os.path.join(train_dir, 'Cherry leaf')\n",
        "train_corn_gray_leaf_spot_dir = os.path.join(train_dir, 'Corn Gray leaf spot')"
      ],
      "metadata": {
        "id": "EagZapKC5bU-"
      },
      "execution_count": 6,
      "outputs": []
    },
    {
      "cell_type": "code",
      "source": [
        "# validation set\n",
        "# validation_apple_leaf_dir = os.path.join(validation_dir, 'Apple leaf')\n",
        "# validation_apple_rust_leaf_dir = os.path.join(validation_dir, 'Apple rust leaf')\n",
        "# validation_apple_scab_leaf_dir = os.path.join(validation_dir, 'Apple scab leaf')\n",
        "# validation_bell_pepper_leaf_dir = os.path.join(validation_dir, 'Bell pepper leaf')\n",
        "# validation_bell_pepper_leaf_spot_dir = os.path.join(validation_dir, 'Bell pepper leaf spot')\n",
        "# validation_blueberry_leaf_dir = os.path.join(validation_dir, 'Blueberry leaf')\n",
        "# validation_cherry_leaf_dir = os.path.join(validation_dir, 'Cherry leaf')\n",
        "# validation_corn_gray_leaf_spot_dir = os.path.join(validation_dir, 'Corn Gray leaf spot')"
      ],
      "metadata": {
        "id": "dwOMCcCc6JPC"
      },
      "execution_count": 7,
      "outputs": []
    },
    {
      "cell_type": "code",
      "source": [
        "# Load the training set\n",
        "train_generator = datagen.flow_from_directory(\n",
        "    train_dir,\n",
        "    target_size=(img_size, img_size),\n",
        "    batch_size=batch_size,\n",
        "    class_mode='categorical',\n",
        "    subset='training')"
      ],
      "metadata": {
        "colab": {
          "base_uri": "https://localhost:8080/"
        },
        "id": "FeGGICNOkFjv",
        "outputId": "7a942bc3-554a-4287-c351-8c7e8038b116"
      },
      "execution_count": 8,
      "outputs": [
        {
          "output_type": "stream",
          "name": "stdout",
          "text": [
            "Found 64 images belonging to 8 classes.\n"
          ]
        }
      ]
    },
    {
      "cell_type": "code",
      "source": [
        "# Load the validation set\n",
        "val_generator = datagen.flow_from_directory(\n",
        "    train_dir,\n",
        "    target_size=(img_size, img_size),\n",
        "    batch_size=batch_size,\n",
        "    class_mode='categorical',\n",
        "    subset='validation')"
      ],
      "metadata": {
        "colab": {
          "base_uri": "https://localhost:8080/"
        },
        "id": "RC9-xURLkmNr",
        "outputId": "84144543-57bd-4a1a-b767-6d71588182dc"
      },
      "execution_count": 9,
      "outputs": [
        {
          "output_type": "stream",
          "name": "stdout",
          "text": [
            "Found 16 images belonging to 8 classes.\n"
          ]
        }
      ]
    },
    {
      "cell_type": "code",
      "source": [
        "# Load the DenseNet201 model\n",
        "base_model = DenseNet201(weights='imagenet', include_top=False, input_shape=(img_size, img_size, 3))"
      ],
      "metadata": {
        "id": "_5L4Dr5jmDVy",
        "colab": {
          "base_uri": "https://localhost:8080/"
        },
        "outputId": "55d016c5-4f29-40d8-eea2-f9638675016b"
      },
      "execution_count": 10,
      "outputs": [
        {
          "output_type": "stream",
          "name": "stdout",
          "text": [
            "Downloading data from https://storage.googleapis.com/tensorflow/keras-applications/densenet/densenet201_weights_tf_dim_ordering_tf_kernels_notop.h5\n",
            "74836368/74836368 [==============================] - 1s 0us/step\n"
          ]
        }
      ]
    },
    {
      "cell_type": "code",
      "source": [
        "# Add SE mechanism\n",
        "def squeeze_excite_block(input, ratio=16):\n",
        "    init = input\n",
        "    channel_axis = 3\n",
        "\n",
        "    filters = init.shape[channel_axis]\n",
        "    se_shape = (1, 1, filters)\n",
        "\n",
        "    se = GlobalAveragePooling2D()(init)\n",
        "    se = Reshape(se_shape)(se)\n",
        "    se = Dense(filters // ratio, activation='relu', kernel_initializer='he_normal', use_bias=True)(se)\n",
        "    se = Dense(filters, activation='sigmoid', kernel_initializer='he_normal', use_bias=True)(se)\n",
        "\n",
        "    x = multiply([input, se])\n",
        "    return x"
      ],
      "metadata": {
        "id": "f3Ana2jtmPoZ"
      },
      "execution_count": 11,
      "outputs": []
    },
    {
      "cell_type": "code",
      "source": [
        "# Add Residual Attention Mechanism\n",
        "def RAM(input, filters):\n",
        "    # First RAM layer\n",
        "    x = Conv2D(filters=filters, kernel_size=1, strides=1, padding='same')(input)\n",
        "    x = BatchNormalization()(x)\n",
        "    x = Activation('relu')(x)\n",
        "\n",
        "    # Second RAM layer\n",
        "    x = Conv2D(filters=filters, kernel_size=3, strides=1, padding='same')(x)\n",
        "    x = BatchNormalization()(x)\n",
        "    x = Activation('relu')(x)\n",
        "\n",
        "    # Third RAM layer\n",
        "    x = Conv2D(filters=filters, kernel_size=1, strides=1, padding='same')(x)\n",
        "    x = BatchNormalization()(x)\n",
        "\n",
        "    # Residual connection\n",
        "    shortcut = Conv2D(filters=filters, kernel_size=1, strides=1, padding='same')(input)\n",
        "    shortcut = BatchNormalization()(shortcut)\n",
        "\n",
        "    x = add([x, shortcut])\n",
        "    x = Activation('relu')(x)\n",
        "\n",
        "    # Squeeze-and-Excite mechanism\n",
        "    x = squeeze_excite_block(x)\n",
        "\n",
        "    # Final RAM layer\n",
        "    x = Conv2D(filters=filters, kernel_size=1, strides=1, padding='same')(x)\n",
        "    x = BatchNormalization()(x)\n",
        "\n",
        "    x = add([x, shortcut])\n",
        "    x = Activation('relu')(x)\n",
        "\n",
        "    # Squeeze-and-Excite mechanism\n",
        "    x = squeeze_excite_block(x)\n",
        "\n",
        "    return x"
      ],
      "metadata": {
        "id": "4nIAwatRmehV"
      },
      "execution_count": 12,
      "outputs": []
    },
    {
      "cell_type": "code",
      "source": [
        "# Add the Residual Attention Mechanism to the DenseNet201 model\n",
        "x = base_model.output\n",
        "x = RAM(x, 192)\n",
        "x = GlobalAveragePooling2D()(x)\n",
        "x = Dropout(0.5)(x) # change the dropout to 0.2 later \n",
        "output = Dense(num_classes, activation='softmax')(x)"
      ],
      "metadata": {
        "id": "9GyIAo_SmpJn"
      },
      "execution_count": 13,
      "outputs": []
    },
    {
      "cell_type": "code",
      "source": [
        "model = Model(inputs=base_model.input, outputs=output)"
      ],
      "metadata": {
        "id": "yYmWXBZ5msmC"
      },
      "execution_count": 14,
      "outputs": []
    },
    {
      "cell_type": "code",
      "source": [
        "# Set the layers of the DenseNet201 model to be non-trainable\n",
        "for layer in base_model.layers:\n",
        "    layer.trainable = False"
      ],
      "metadata": {
        "id": "WMMIMd6Cmvho"
      },
      "execution_count": 15,
      "outputs": []
    },
    {
      "cell_type": "code",
      "source": [
        "# Compile the model\n",
        "model.compile(optimizer=Adam(learning_rate=0.0001), \n",
        "              loss='categorical_crossentropy', \n",
        "              metrics=['accuracy'])"
      ],
      "metadata": {
        "id": "ZFUU0EWDmyHm"
      },
      "execution_count": 16,
      "outputs": []
    },
    {
      "cell_type": "markdown",
      "source": [
        "the **model checkpoints** will be saved with the epoch number and the validation loss in the filename. The directory of the filepath should not be reused by any other callbacks to avoid conflicts.\n",
        "\n",
        "save_best_only: if save_best_only=True, it only saves when the model is considered the \"best\" and the latest best model according to the quantity monitored will not be overwritten. If filepath doesn't contain formatting options like {epoch} then filepath will be overwritten by each new better model."
      ],
      "metadata": {
        "id": "sFVWaOUFpq0H"
      }
    },
    {
      "cell_type": "markdown",
      "source": [],
      "metadata": {
        "id": "jl3tXIh38S2t"
      }
    },
    {
      "cell_type": "code",
      "source": [
        "# Define the checkpoint and early stopping and tensorboard callbacks\n",
        "checkpoint = ModelCheckpoint('/content/drive/MyDrive/modelcheckpoint_dn201', monitor='val_loss', save_best_only=True, save_weights_only=True, mode='min')\n",
        "early_stopping = EarlyStopping(monitor='val_loss', patience=5, mode='min', verbose=1)\n",
        "log_dir = TensorBoard(log_dir = '/content/drive/MyDrive/logdir_dn201')"
      ],
      "metadata": {
        "id": "uB3PstO1m2Wc"
      },
      "execution_count": 17,
      "outputs": []
    },
    {
      "cell_type": "code",
      "source": [
        "# Train the model\n",
        "history = model.fit(train_generator, \n",
        "                    epochs=epochs, \n",
        "                    validation_data=val_generator, \n",
        "                    #verbose = 2,\n",
        "                    callbacks=[checkpoint, early_stopping, log_dir])"
      ],
      "metadata": {
        "colab": {
          "base_uri": "https://localhost:8080/"
        },
        "id": "c24efUI7nCdp",
        "outputId": "e16ce685-ab66-40b5-fbac-e5712ad443ac"
      },
      "execution_count": 18,
      "outputs": [
        {
          "output_type": "stream",
          "name": "stdout",
          "text": [
            "Epoch 1/50\n",
            "8/8 [==============================] - 61s 5s/step - loss: 2.1210 - accuracy: 0.2188 - val_loss: 2.2028 - val_accuracy: 0.1250\n",
            "Epoch 2/50\n",
            "8/8 [==============================] - 25s 3s/step - loss: 2.0219 - accuracy: 0.1562 - val_loss: 2.1661 - val_accuracy: 0.1875\n",
            "Epoch 3/50\n",
            "8/8 [==============================] - 29s 4s/step - loss: 1.9187 - accuracy: 0.2500 - val_loss: 2.0514 - val_accuracy: 0.2500\n",
            "Epoch 4/50\n",
            "8/8 [==============================] - 28s 4s/step - loss: 1.7875 - accuracy: 0.3438 - val_loss: 2.1216 - val_accuracy: 0.1875\n",
            "Epoch 5/50\n",
            "8/8 [==============================] - 25s 3s/step - loss: 1.7972 - accuracy: 0.3125 - val_loss: 1.9886 - val_accuracy: 0.3750\n",
            "Epoch 6/50\n",
            "8/8 [==============================] - 28s 4s/step - loss: 1.6251 - accuracy: 0.4531 - val_loss: 1.9266 - val_accuracy: 0.3125\n",
            "Epoch 7/50\n",
            "8/8 [==============================] - 23s 3s/step - loss: 1.5812 - accuracy: 0.4531 - val_loss: 2.0054 - val_accuracy: 0.2500\n",
            "Epoch 8/50\n",
            "8/8 [==============================] - 28s 4s/step - loss: 1.6726 - accuracy: 0.4219 - val_loss: 2.0172 - val_accuracy: 0.1875\n",
            "Epoch 9/50\n",
            "8/8 [==============================] - 29s 4s/step - loss: 1.5111 - accuracy: 0.4844 - val_loss: 1.9213 - val_accuracy: 0.3125\n",
            "Epoch 10/50\n",
            "8/8 [==============================] - 24s 3s/step - loss: 1.4081 - accuracy: 0.5469 - val_loss: 1.8676 - val_accuracy: 0.2500\n",
            "Epoch 11/50\n",
            "8/8 [==============================] - 23s 3s/step - loss: 1.4306 - accuracy: 0.5312 - val_loss: 1.8587 - val_accuracy: 0.3125\n",
            "Epoch 12/50\n",
            "8/8 [==============================] - 23s 3s/step - loss: 1.3940 - accuracy: 0.5938 - val_loss: 1.8867 - val_accuracy: 0.2500\n",
            "Epoch 13/50\n",
            "8/8 [==============================] - 26s 3s/step - loss: 1.2666 - accuracy: 0.7188 - val_loss: 1.7961 - val_accuracy: 0.3750\n",
            "Epoch 14/50\n",
            "8/8 [==============================] - 24s 3s/step - loss: 1.1717 - accuracy: 0.6875 - val_loss: 1.8226 - val_accuracy: 0.3750\n",
            "Epoch 15/50\n",
            "8/8 [==============================] - 24s 3s/step - loss: 1.1847 - accuracy: 0.6719 - val_loss: 1.6976 - val_accuracy: 0.3125\n",
            "Epoch 16/50\n",
            "8/8 [==============================] - 24s 3s/step - loss: 1.1903 - accuracy: 0.6875 - val_loss: 1.6945 - val_accuracy: 0.2500\n",
            "Epoch 17/50\n",
            "8/8 [==============================] - 24s 3s/step - loss: 1.1655 - accuracy: 0.6719 - val_loss: 1.7320 - val_accuracy: 0.3125\n",
            "Epoch 18/50\n",
            "8/8 [==============================] - 23s 3s/step - loss: 1.0455 - accuracy: 0.7188 - val_loss: 1.7400 - val_accuracy: 0.4375\n",
            "Epoch 19/50\n",
            "8/8 [==============================] - 22s 3s/step - loss: 0.9913 - accuracy: 0.8594 - val_loss: 1.6892 - val_accuracy: 0.3125\n",
            "Epoch 20/50\n",
            "8/8 [==============================] - 26s 3s/step - loss: 0.8981 - accuracy: 0.7969 - val_loss: 1.5575 - val_accuracy: 0.4375\n",
            "Epoch 21/50\n",
            "8/8 [==============================] - 25s 3s/step - loss: 0.9579 - accuracy: 0.7812 - val_loss: 1.5527 - val_accuracy: 0.3750\n",
            "Epoch 22/50\n",
            "8/8 [==============================] - 28s 4s/step - loss: 0.9749 - accuracy: 0.7500 - val_loss: 1.6780 - val_accuracy: 0.2500\n",
            "Epoch 23/50\n",
            "8/8 [==============================] - 29s 4s/step - loss: 0.9306 - accuracy: 0.8125 - val_loss: 1.5099 - val_accuracy: 0.5000\n",
            "Epoch 24/50\n",
            "8/8 [==============================] - 24s 3s/step - loss: 0.7499 - accuracy: 0.8594 - val_loss: 1.5138 - val_accuracy: 0.4375\n",
            "Epoch 25/50\n",
            "8/8 [==============================] - 24s 3s/step - loss: 0.9942 - accuracy: 0.7344 - val_loss: 1.6698 - val_accuracy: 0.5000\n",
            "Epoch 26/50\n",
            "8/8 [==============================] - 28s 4s/step - loss: 0.8881 - accuracy: 0.8438 - val_loss: 1.5516 - val_accuracy: 0.4375\n",
            "Epoch 27/50\n",
            "8/8 [==============================] - 23s 3s/step - loss: 0.8219 - accuracy: 0.8281 - val_loss: 1.5202 - val_accuracy: 0.3750\n",
            "Epoch 28/50\n",
            "8/8 [==============================] - 28s 4s/step - loss: 0.7429 - accuracy: 0.8906 - val_loss: 1.7003 - val_accuracy: 0.3125\n",
            "Epoch 28: early stopping\n"
          ]
        }
      ]
    },
    {
      "cell_type": "code",
      "source": [
        "%matplotlib inline\n",
        "\n",
        "import matplotlib.pyplot as plt\n",
        "import matplotlib.image as mpimg"
      ],
      "metadata": {
        "id": "4MvFUbBPwCLB"
      },
      "execution_count": 19,
      "outputs": []
    },
    {
      "cell_type": "code",
      "source": [
        "# Retrieve a list of accuracy results on training and validation data\n",
        "# sets for each training epoch\n",
        "acc = history.history['accuracy']\n",
        "val_acc = history.history['val_accuracy']"
      ],
      "metadata": {
        "id": "Z-wVahm0wPEQ"
      },
      "execution_count": 20,
      "outputs": []
    },
    {
      "cell_type": "code",
      "source": [
        "# Retrieve a list of list results on training and validation data\n",
        "# sets for each training epoch\n",
        "loss = history.history['loss']\n",
        "val_loss = history.history['val_loss']"
      ],
      "metadata": {
        "id": "ubz2F05fwwdf"
      },
      "execution_count": 21,
      "outputs": []
    },
    {
      "cell_type": "code",
      "source": [
        "# Get number of epochs\n",
        "epochs = range(len(acc))"
      ],
      "metadata": {
        "id": "uEDKPpDbwzLm"
      },
      "execution_count": 22,
      "outputs": []
    },
    {
      "cell_type": "code",
      "source": [
        "# Plot training and validation accuracy per epoch\n",
        "plt.plot(epochs, acc)\n",
        "plt.plot(epochs, val_acc)\n",
        "plt.title('Training and validation accuracy')\n",
        "plt.figure()"
      ],
      "metadata": {
        "colab": {
          "base_uri": "https://localhost:8080/",
          "height": 486
        },
        "id": "YnJInD4Bw0zP",
        "outputId": "6a29fd0c-e3df-46b9-d28e-bec0e1f2e85b"
      },
      "execution_count": 23,
      "outputs": [
        {
          "output_type": "execute_result",
          "data": {
            "text/plain": [
              "<Figure size 640x480 with 0 Axes>"
            ]
          },
          "metadata": {},
          "execution_count": 23
        },
        {
          "output_type": "display_data",
          "data": {
            "text/plain": [
              "<Figure size 640x480 with 1 Axes>"
            ],
            "image/png": "[encoded data removed]"
          },
          "metadata": {}
        },
        {
          "output_type": "display_data",
          "data": {
            "text/plain": [
              "<Figure size 640x480 with 0 Axes>"
            ]
          },
          "metadata": {}
        }
      ]
    },
    {
      "cell_type": "code",
      "source": [
        "# Plot training and validation loss per epoch\n",
        "plt.plot(epochs, loss)\n",
        "plt.plot(epochs, val_loss)\n",
        "plt.title('Training and validation loss')\n",
        "plt.figure()"
      ],
      "metadata": {
        "colab": {
          "base_uri": "https://localhost:8080/",
          "height": 486
        },
        "id": "fvk6-WYAw2tG",
        "outputId": "fc783155-7658-42ba-8433-9bc936b3d816"
      },
      "execution_count": 24,
      "outputs": [
        {
          "output_type": "execute_result",
          "data": {
            "text/plain": [
              "<Figure size 640x480 with 0 Axes>"
            ]
          },
          "metadata": {},
          "execution_count": 24
        },
        {
          "output_type": "display_data",
          "data": {
            "text/plain": [
              "<Figure size 640x480 with 1 Axes>"
            ],
            "image/png": "[encoded data removed]"
          },
          "metadata": {}
        },
        {
          "output_type": "display_data",
          "data": {
            "text/plain": [
              "<Figure size 640x480 with 0 Axes>"
            ]
          },
          "metadata": {}
        }
      ]
    },
    {
      "cell_type": "code",
      "source": [
        "# Save the model\n",
        "#model.save('path/to/save/model')"
      ],
      "metadata": {
        "id": "TQIpONwbnHGD"
      },
      "execution_count": 25,
      "outputs": []
    }
  ]
}