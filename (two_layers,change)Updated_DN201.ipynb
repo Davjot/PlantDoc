{
  "nbformat": 4,
  "nbformat_minor": 0,
  "metadata": {
    "colab": {
      "provenance": [],
      "include_colab_link": true
    },
    "kernelspec": {
      "name": "python3",
      "display_name": "Python 3"
    },
    "language_info": {
      "name": "python"
    }
  },
  "cells": [
    {
      "cell_type": "markdown",
      "metadata": {
        "id": "view-in-github",
        "colab_type": "text"
      },
      "source": [
        "<a href=\"https://colab.research.google.com/github/Davjot/PlantDoc/blob/main/(two_layers%2Cchange)Updated_DN201.ipynb\" target=\"_parent\"><img src=\"https://colab.research.google.com/assets/colab-badge.svg\" alt=\"Open In Colab\"/></a>"
      ]
    },
    {
      "cell_type": "markdown",
      "source": [
        "Changes: \n",
        "\n",
        "Dropout:0.2\n",
        "\n",
        "two layers added : 512 & 256\n",
        "\n",
        "batch size : 8\n",
        "\n",
        "epochs : 100\n",
        "\n",
        "kernel size : 3,3\n"
      ],
      "metadata": {
        "id": "aYTZoAhKiHAO"
      }
    },
    {
      "cell_type": "code",
      "source": [
        "#import tensorflow.keras.backend as K\n",
        "#K.clear_session()"
      ],
      "metadata": {
        "id": "SF6Cd5ypl6PL"
      },
      "execution_count": 1,
      "outputs": []
    },
    {
      "cell_type": "code",
      "execution_count": 2,
      "metadata": {
        "id": "eHPU6gRaenYc"
      },
      "outputs": [],
      "source": [
        "from keras.models import Model\n",
        "from keras.layers import Input, Dense, Dropout, BatchNormalization, Activation, Conv2D, MaxPooling2D, AveragePooling2D, GlobalAveragePooling2D, Concatenate, multiply, Add\n",
        "from keras.optimizers import Adam\n",
        "from keras.callbacks import EarlyStopping, ReduceLROnPlateau , TensorBoard, ModelCheckpoint\n",
        "from keras.preprocessing.image import ImageDataGenerator\n",
        "from keras.regularizers import l2\n",
        "from keras.applications.densenet import DenseNet201"
      ]
    },
    {
      "cell_type": "code",
      "source": [
        "# define input shape\n",
        "input_shape = (224, 224, 3)\n",
        "input_tensor = Input(shape=input_shape)"
      ],
      "metadata": {
        "id": "NiXNeuSPesk6"
      },
      "execution_count": 3,
      "outputs": []
    },
    {
      "cell_type": "code",
      "source": [
        "# initialize DenseNet201 model\n",
        "densenet = DenseNet201(input_tensor=input_tensor, weights='imagenet', include_top=False)"
      ],
      "metadata": {
        "colab": {
          "base_uri": "https://localhost:8080/"
        },
        "id": "-CIg9fb5evap",
        "outputId": "58932305-aaf7-4692-dc4c-dfe816e87239"
      },
      "execution_count": 4,
      "outputs": [
        {
          "output_type": "stream",
          "name": "stdout",
          "text": [
            "Downloading data from https://storage.googleapis.com/tensorflow/keras-applications/densenet/densenet201_weights_tf_dim_ordering_tf_kernels_notop.h5\n",
            "74836368/74836368 [==============================] - 3s 0us/step\n"
          ]
        }
      ]
    },
    {
      "cell_type": "code",
      "source": [
        "# add SE mechanism\n",
        "se_ratio = 16"
      ],
      "metadata": {
        "id": "LgANDHTMe0Ct"
      },
      "execution_count": 5,
      "outputs": []
    },
    {
      "cell_type": "code",
      "source": [
        "def squeeze_excite_block(input, filters):\n",
        "    se = GlobalAveragePooling2D()(input)\n",
        "    se = Dense(filters // se_ratio, activation='relu', kernel_initializer='he_normal', use_bias=False)(se)\n",
        "    se = Dense(filters, activation='sigmoid', kernel_initializer='he_normal', use_bias=False)(se)\n",
        "    return multiply([input, se])"
      ],
      "metadata": {
        "id": "Vonf8iute3Lc"
      },
      "execution_count": 6,
      "outputs": []
    },
    {
      "cell_type": "code",
      "source": [
        "# add Residual Attention Mechanism (RAM)\n",
        "def residual_attention_block(input, filters, stage):\n",
        "    conv1 = Conv2D(filters, kernel_size=(3, 3), strides=(1, 1), padding='same', kernel_initializer='he_normal', kernel_regularizer=l2(1e-4))(input)\n",
        "    conv1 = BatchNormalization()(conv1)\n",
        "    conv1 = Activation('relu')(conv1)\n",
        "\n",
        "    conv2 = Conv2D(filters, kernel_size=(3, 3), strides=(1, 1), padding='same', kernel_initializer='he_normal', kernel_regularizer=l2(1e-4))(conv1)\n",
        "    conv2 = BatchNormalization()(conv2)\n",
        "    conv2 = Activation('relu')(conv2)\n",
        "\n",
        "    conv3 = Conv2D(filters, kernel_size=(3, 3), strides=(1, 1), padding='same', kernel_initializer='he_normal', kernel_regularizer=l2(1e-4))(conv2)\n",
        "    conv3 = BatchNormalization()(conv3)\n",
        "    conv3 = Activation('relu')(conv3)\n",
        "\n",
        "    se = squeeze_excite_block(conv3, filters)\n",
        "    add = Add()([conv3, se])\n",
        "    res = Activation('relu')(add)\n",
        "\n",
        "    att = GlobalAveragePooling2D()(res)\n",
        "    att = Dense(filters // 8, activation='relu', kernel_initializer='he_normal', kernel_regularizer=l2(1e-4))(att)\n",
        "    att = Dense(filters, activation='sigmoid', kernel_initializer='he_normal', kernel_regularizer=l2(1e-4))(att)\n",
        "    att = multiply([res, att])\n",
        "\n",
        "    return att"
      ],
      "metadata": {
        "id": "zvTAdhEee7b6"
      },
      "execution_count": 7,
      "outputs": []
    },
    {
      "cell_type": "code",
      "source": [
        "# add RAM to DenseNet201\n",
        "x = densenet.layers[-1].output\n",
        "x = residual_attention_block(x, 2048, stage='stage_5')"
      ],
      "metadata": {
        "id": "IMG0DAn7fMeM"
      },
      "execution_count": 8,
      "outputs": []
    },
    {
      "cell_type": "code",
      "source": [
        "# add classification head\n",
        "x = GlobalAveragePooling2D()(x)\n",
        "x = Dropout(0.2)(x)\n",
        "x = Dense(512, activation='relu', kernel_regularizer=l2(1e-4))(x)\n",
        "x = Dense(256, activation='relu', kernel_regularizer=l2(1e-4))(x)\n",
        "x = BatchNormalization()(x)\n",
        "x = Dropout(0.2)(x)\n",
        "x = Dense(8, activation='softmax')(x)"
      ],
      "metadata": {
        "id": "ka5MfiS3fQrm"
      },
      "execution_count": 9,
      "outputs": []
    },
    {
      "cell_type": "code",
      "source": [
        "model = Model(inputs=input_tensor, outputs=x)"
      ],
      "metadata": {
        "id": "x1UwRXldfYBQ"
      },
      "execution_count": 10,
      "outputs": []
    },
    {
      "cell_type": "code",
      "source": [
        "# freeze layers\n",
        "for layer in model.layers[:-4]:\n",
        "    layer.trainable = False"
      ],
      "metadata": {
        "id": "63aYr7o8faN8"
      },
      "execution_count": 11,
      "outputs": []
    },
    {
      "cell_type": "code",
      "source": [
        "# compile model\n",
        "optimizer = Adam(learning_rate=0.001, decay=1e-5)\n",
        "model.compile(optimizer=optimizer, loss='categorical_crossentropy', metrics=['accuracy'])"
      ],
      "metadata": {
        "id": "aueh75jUfdGR"
      },
      "execution_count": 12,
      "outputs": []
    },
    {
      "cell_type": "code",
      "source": [
        "# Define the data generator for preprocessing the images\n",
        "datagen = ImageDataGenerator(rescale=1./255,\n",
        "                             rotation_range=20,\n",
        "                             width_shift_range=0.2,\n",
        "                             height_shift_range=0.2,\n",
        "                             shear_range=0.2,\n",
        "                             zoom_range=0.2,\n",
        "                             horizontal_flip=True,\n",
        "                             vertical_flip=True,\n",
        "                             validation_split = 0.2)\n",
        "#if necessary add validation_split factor =0.2\n",
        "#val_datagen = ImageDataGenerator(rescale=1./255)"
      ],
      "metadata": {
        "id": "NIxl9cKffgWI"
      },
      "execution_count": 13,
      "outputs": []
    },
    {
      "cell_type": "code",
      "source": [
        "test_datagen = ImageDataGenerator(rescale=1./255)"
      ],
      "metadata": {
        "id": "uNO4jYo-gj-e"
      },
      "execution_count": 14,
      "outputs": []
    },
    {
      "cell_type": "code",
      "source": [
        "from google.colab import drive\n",
        "drive.mount('/content/drive')"
      ],
      "metadata": {
        "colab": {
          "base_uri": "https://localhost:8080/"
        },
        "id": "9_B5xTqxiTKC",
        "outputId": "e4b4ed43-9362-4e8d-e424-f0d1376fa7e7"
      },
      "execution_count": 15,
      "outputs": [
        {
          "output_type": "stream",
          "name": "stdout",
          "text": [
            "Mounted at /content/drive\n"
          ]
        }
      ]
    },
    {
      "cell_type": "code",
      "source": [
        "import os\n",
        "base_dir = '/content/drive/MyDrive/Plantdoc'\n",
        "train_dir = os.path.join(base_dir)\n",
        "validation_dir = os.path.join(base_dir)\n",
        "base_dir_testing = '/content/drive/MyDrive/PD_test'\n",
        "test_dir = os.path.join(base_dir_testing)"
      ],
      "metadata": {
        "id": "ieor6CpGiVfG"
      },
      "execution_count": 16,
      "outputs": []
    },
    {
      "cell_type": "code",
      "source": [
        "#train set\n",
        "train_apple_leaf_dir = os.path.join(train_dir, 'Apple leaf')\n",
        "train_apple_rust_leaf_dir = os.path.join(train_dir, 'Apple rust leaf')\n",
        "train_apple_scab_leaf_dir = os.path.join(train_dir, 'Apple scab leaf')\n",
        "train_bell_pepper_leaf_dir = os.path.join(train_dir, 'Bell pepper leaf')\n",
        "train_bell_pepper_leaf_spot_dir = os.path.join(train_dir, 'Bell pepper leaf spot')\n",
        "train_blueberry_leaf_dir = os.path.join(train_dir, 'Blueberry leaf')\n",
        "train_cherry_leaf_dir = os.path.join(train_dir, 'Cherry leaf')\n",
        "train_corn_gray_leaf_spot_dir = os.path.join(train_dir, 'Corn Gray leaf spot')"
      ],
      "metadata": {
        "id": "1zdoViP3iVcZ"
      },
      "execution_count": 17,
      "outputs": []
    },
    {
      "cell_type": "code",
      "source": [
        "#validation set\n",
        "validation_apple_leaf_dir = os.path.join(validation_dir, 'Apple leaf')\n",
        "validation_apple_rust_leaf_dir = os.path.join(validation_dir, 'Apple rust leaf')\n",
        "validation_apple_scab_leaf_dir = os.path.join(validation_dir, 'Apple scab leaf')\n",
        "validation_bell_pepper_leaf_dir = os.path.join(validation_dir, 'Bell pepper leaf')\n",
        "validation_bell_pepper_leaf_spot_dir = os.path.join(validation_dir, 'Bell pepper leaf spot')\n",
        "validation_blueberry_leaf_dir = os.path.join(validation_dir, 'Blueberry leaf')\n",
        "validation_cherry_leaf_dir = os.path.join(validation_dir, 'Cherry leaf')\n",
        "validation_corn_gray_leaf_spot_dir = os.path.join(validation_dir, 'Corn Gray leaf spot')"
      ],
      "metadata": {
        "id": "M4g0TNoBiVZ8"
      },
      "execution_count": 18,
      "outputs": []
    },
    {
      "cell_type": "code",
      "source": [
        "train_generator = datagen.flow_from_directory(\n",
        "    train_dir,\n",
        "    target_size=(224, 224),\n",
        "    batch_size=8,\n",
        "    class_mode='categorical')\n"
      ],
      "metadata": {
        "colab": {
          "base_uri": "https://localhost:8080/"
        },
        "id": "tztwQDoNiVHl",
        "outputId": "8002c978-ede3-4043-e77e-6ca19a68f058"
      },
      "execution_count": 19,
      "outputs": [
        {
          "output_type": "stream",
          "name": "stdout",
          "text": [
            "Found 80 images belonging to 8 classes.\n"
          ]
        }
      ]
    },
    {
      "cell_type": "code",
      "source": [
        "validation_generator = test_datagen.flow_from_directory(\n",
        "    validation_dir,\n",
        "    target_size=(224, 224),\n",
        "    batch_size=8,\n",
        "    class_mode='categorical')\n"
      ],
      "metadata": {
        "colab": {
          "base_uri": "https://localhost:8080/"
        },
        "id": "BeVzP7MhiVFJ",
        "outputId": "ab5d70ac-ca37-4bfb-d318-7aedd43a9ba0"
      },
      "execution_count": 20,
      "outputs": [
        {
          "output_type": "stream",
          "name": "stdout",
          "text": [
            "Found 80 images belonging to 8 classes.\n"
          ]
        }
      ]
    },
    {
      "cell_type": "code",
      "source": [
        "# add callbacks\n",
        "early_stop = EarlyStopping(monitor='val_loss', patience=5, verbose=1, mode='min', restore_best_weights=True)\n",
        "reduce_lr = ReduceLROnPlateau(monitor='val_loss', factor=0.1, patience=2, verbose=0, mode='min')\n",
        "checkpointer = ModelCheckpoint(filepath='weights.hdf5', verbose=0, save_best_only=True)"
      ],
      "metadata": {
        "id": "4_BelYeXjlqL"
      },
      "execution_count": 21,
      "outputs": []
    },
    {
      "cell_type": "code",
      "source": [
        "# fit model\n",
        "history = model.fit(\n",
        "    train_generator,\n",
        "   # steps_per_epoch=train_generator.n//train_generator.batch_size,\n",
        "    epochs=100,\n",
        "    validation_data=validation_generator,\n",
        "   # validation_steps=validation_generator.n//validation_generator.batch_size,\n",
        "    callbacks=[early_stop, reduce_lr, checkpointer])"
      ],
      "metadata": {
        "colab": {
          "base_uri": "https://localhost:8080/"
        },
        "id": "DFRy8LwBjOyv",
        "outputId": "13fa0fba-9786-4b7f-c6ec-52c88b6aaae4"
      },
      "execution_count": 22,
      "outputs": [
        {
          "output_type": "stream",
          "name": "stdout",
          "text": [
            "Epoch 1/100\n",
            "10/10 [==============================] - 126s 11s/step - loss: 4.1940 - accuracy: 0.1750 - val_loss: 3.9064 - val_accuracy: 0.1375 - lr: 0.0010\n",
            "Epoch 2/100\n",
            "10/10 [==============================] - 88s 9s/step - loss: 4.2561 - accuracy: 0.1875 - val_loss: 3.8570 - val_accuracy: 0.1750 - lr: 0.0010\n",
            "Epoch 3/100\n",
            "10/10 [==============================] - 128s 14s/step - loss: 3.7703 - accuracy: 0.2875 - val_loss: 3.8010 - val_accuracy: 0.2125 - lr: 0.0010\n",
            "Epoch 4/100\n",
            "10/10 [==============================] - 90s 9s/step - loss: 3.7588 - accuracy: 0.3125 - val_loss: 3.7162 - val_accuracy: 0.1875 - lr: 0.0010\n",
            "Epoch 5/100\n",
            "10/10 [==============================] - 87s 9s/step - loss: 3.5597 - accuracy: 0.3750 - val_loss: 3.6647 - val_accuracy: 0.2625 - lr: 0.0010\n",
            "Epoch 6/100\n",
            "10/10 [==============================] - 88s 9s/step - loss: 3.5734 - accuracy: 0.3250 - val_loss: 3.5433 - val_accuracy: 0.4250 - lr: 0.0010\n",
            "Epoch 7/100\n",
            "10/10 [==============================] - 87s 9s/step - loss: 3.6807 - accuracy: 0.2750 - val_loss: 3.4833 - val_accuracy: 0.4375 - lr: 0.0010\n",
            "Epoch 8/100\n",
            "10/10 [==============================] - 128s 14s/step - loss: 3.4367 - accuracy: 0.3875 - val_loss: 3.4639 - val_accuracy: 0.4500 - lr: 0.0010\n",
            "Epoch 9/100\n",
            "10/10 [==============================] - 129s 14s/step - loss: 3.3858 - accuracy: 0.4625 - val_loss: 3.3811 - val_accuracy: 0.5125 - lr: 0.0010\n",
            "Epoch 10/100\n",
            "10/10 [==============================] - 127s 13s/step - loss: 3.3653 - accuracy: 0.4625 - val_loss: 3.3214 - val_accuracy: 0.4625 - lr: 0.0010\n",
            "Epoch 11/100\n",
            "10/10 [==============================] - 128s 14s/step - loss: 3.3578 - accuracy: 0.3750 - val_loss: 3.2792 - val_accuracy: 0.4875 - lr: 0.0010\n",
            "Epoch 12/100\n",
            "10/10 [==============================] - 127s 13s/step - loss: 3.3114 - accuracy: 0.4125 - val_loss: 3.1702 - val_accuracy: 0.5875 - lr: 0.0010\n",
            "Epoch 13/100\n",
            "10/10 [==============================] - 123s 13s/step - loss: 3.1169 - accuracy: 0.4750 - val_loss: 3.1813 - val_accuracy: 0.4625 - lr: 0.0010\n",
            "Epoch 14/100\n",
            "10/10 [==============================] - 87s 9s/step - loss: 3.2514 - accuracy: 0.4625 - val_loss: 3.1074 - val_accuracy: 0.5125 - lr: 0.0010\n",
            "Epoch 15/100\n",
            "10/10 [==============================] - 86s 9s/step - loss: 3.0487 - accuracy: 0.5375 - val_loss: 2.9709 - val_accuracy: 0.6750 - lr: 0.0010\n",
            "Epoch 16/100\n",
            "10/10 [==============================] - 87s 9s/step - loss: 3.3361 - accuracy: 0.5375 - val_loss: 2.9470 - val_accuracy: 0.6500 - lr: 0.0010\n",
            "Epoch 17/100\n",
            "10/10 [==============================] - 86s 9s/step - loss: 3.1783 - accuracy: 0.5500 - val_loss: 2.9252 - val_accuracy: 0.6375 - lr: 0.0010\n",
            "Epoch 18/100\n",
            "10/10 [==============================] - 127s 13s/step - loss: 3.2549 - accuracy: 0.4750 - val_loss: 2.8735 - val_accuracy: 0.6875 - lr: 0.0010\n",
            "Epoch 19/100\n",
            "10/10 [==============================] - 86s 9s/step - loss: 3.1907 - accuracy: 0.5625 - val_loss: 2.7555 - val_accuracy: 0.7750 - lr: 0.0010\n",
            "Epoch 20/100\n",
            "10/10 [==============================] - 86s 9s/step - loss: 3.0311 - accuracy: 0.5750 - val_loss: 2.7550 - val_accuracy: 0.7625 - lr: 0.0010\n",
            "Epoch 21/100\n",
            "10/10 [==============================] - 83s 9s/step - loss: 2.9722 - accuracy: 0.5750 - val_loss: 2.8354 - val_accuracy: 0.6125 - lr: 0.0010\n",
            "Epoch 22/100\n",
            "10/10 [==============================] - 122s 13s/step - loss: 2.9220 - accuracy: 0.6125 - val_loss: 2.7875 - val_accuracy: 0.6625 - lr: 0.0010\n",
            "Epoch 23/100\n",
            "10/10 [==============================] - 86s 9s/step - loss: 3.0309 - accuracy: 0.5875 - val_loss: 2.7414 - val_accuracy: 0.6875 - lr: 1.0000e-04\n",
            "Epoch 24/100\n",
            "10/10 [==============================] - 86s 9s/step - loss: 3.0104 - accuracy: 0.5375 - val_loss: 2.6982 - val_accuracy: 0.7625 - lr: 1.0000e-04\n",
            "Epoch 25/100\n",
            "10/10 [==============================] - 126s 13s/step - loss: 2.9592 - accuracy: 0.5750 - val_loss: 2.6572 - val_accuracy: 0.7625 - lr: 1.0000e-04\n",
            "Epoch 26/100\n",
            "10/10 [==============================] - 125s 13s/step - loss: 2.8781 - accuracy: 0.5750 - val_loss: 2.6112 - val_accuracy: 0.7750 - lr: 1.0000e-04\n",
            "Epoch 27/100\n",
            "10/10 [==============================] - 126s 13s/step - loss: 2.8666 - accuracy: 0.6250 - val_loss: 2.5773 - val_accuracy: 0.8000 - lr: 1.0000e-04\n",
            "Epoch 28/100\n",
            "10/10 [==============================] - 91s 10s/step - loss: 3.0926 - accuracy: 0.5250 - val_loss: 2.5498 - val_accuracy: 0.8000 - lr: 1.0000e-04\n",
            "Epoch 29/100\n",
            "10/10 [==============================] - 87s 9s/step - loss: 3.1135 - accuracy: 0.5000 - val_loss: 2.5208 - val_accuracy: 0.8125 - lr: 1.0000e-04\n",
            "Epoch 30/100\n",
            "10/10 [==============================] - 86s 9s/step - loss: 2.8620 - accuracy: 0.5875 - val_loss: 2.4987 - val_accuracy: 0.8250 - lr: 1.0000e-04\n",
            "Epoch 31/100\n",
            "10/10 [==============================] - 127s 14s/step - loss: 2.9522 - accuracy: 0.5500 - val_loss: 2.4815 - val_accuracy: 0.8250 - lr: 1.0000e-04\n",
            "Epoch 32/100\n",
            "10/10 [==============================] - 91s 9s/step - loss: 2.9898 - accuracy: 0.5375 - val_loss: 2.4698 - val_accuracy: 0.8125 - lr: 1.0000e-04\n",
            "Epoch 33/100\n",
            "10/10 [==============================] - 128s 14s/step - loss: 3.0043 - accuracy: 0.6250 - val_loss: 2.4615 - val_accuracy: 0.8000 - lr: 1.0000e-04\n",
            "Epoch 34/100\n",
            "10/10 [==============================] - 127s 13s/step - loss: 3.0328 - accuracy: 0.5250 - val_loss: 2.4491 - val_accuracy: 0.8125 - lr: 1.0000e-04\n",
            "Epoch 35/100\n",
            "10/10 [==============================] - 127s 13s/step - loss: 2.9957 - accuracy: 0.5625 - val_loss: 2.4344 - val_accuracy: 0.8250 - lr: 1.0000e-04\n",
            "Epoch 36/100\n",
            "10/10 [==============================] - 127s 13s/step - loss: 2.9893 - accuracy: 0.5875 - val_loss: 2.4246 - val_accuracy: 0.8250 - lr: 1.0000e-04\n",
            "Epoch 37/100\n",
            "10/10 [==============================] - 87s 9s/step - loss: 2.8688 - accuracy: 0.5875 - val_loss: 2.4099 - val_accuracy: 0.8250 - lr: 1.0000e-04\n",
            "Epoch 38/100\n",
            "10/10 [==============================] - 86s 9s/step - loss: 2.8322 - accuracy: 0.6250 - val_loss: 2.3973 - val_accuracy: 0.8250 - lr: 1.0000e-04\n",
            "Epoch 39/100\n",
            "10/10 [==============================] - 87s 9s/step - loss: 2.9332 - accuracy: 0.5750 - val_loss: 2.3893 - val_accuracy: 0.8125 - lr: 1.0000e-04\n",
            "Epoch 40/100\n",
            "10/10 [==============================] - 86s 9s/step - loss: 3.0033 - accuracy: 0.6125 - val_loss: 2.3821 - val_accuracy: 0.8500 - lr: 1.0000e-04\n",
            "Epoch 41/100\n",
            "10/10 [==============================] - 127s 13s/step - loss: 2.9023 - accuracy: 0.5875 - val_loss: 2.3715 - val_accuracy: 0.8500 - lr: 1.0000e-04\n",
            "Epoch 42/100\n",
            "10/10 [==============================] - 86s 9s/step - loss: 2.8038 - accuracy: 0.6625 - val_loss: 2.3664 - val_accuracy: 0.8250 - lr: 1.0000e-04\n",
            "Epoch 43/100\n",
            "10/10 [==============================] - 87s 9s/step - loss: 2.9456 - accuracy: 0.5875 - val_loss: 2.3571 - val_accuracy: 0.8375 - lr: 1.0000e-04\n",
            "Epoch 44/100\n",
            "10/10 [==============================] - 86s 9s/step - loss: 2.9454 - accuracy: 0.6000 - val_loss: 2.3443 - val_accuracy: 0.8625 - lr: 1.0000e-04\n",
            "Epoch 45/100\n",
            "10/10 [==============================] - 127s 14s/step - loss: 3.0379 - accuracy: 0.5750 - val_loss: 2.3349 - val_accuracy: 0.8625 - lr: 1.0000e-04\n",
            "Epoch 46/100\n",
            "10/10 [==============================] - 133s 14s/step - loss: 3.0189 - accuracy: 0.6125 - val_loss: 2.3252 - val_accuracy: 0.8500 - lr: 1.0000e-04\n",
            "Epoch 47/100\n",
            "10/10 [==============================] - 128s 14s/step - loss: 2.9283 - accuracy: 0.6250 - val_loss: 2.3207 - val_accuracy: 0.8625 - lr: 1.0000e-04\n",
            "Epoch 48/100\n",
            "10/10 [==============================] - 88s 9s/step - loss: 2.7842 - accuracy: 0.6625 - val_loss: 2.3182 - val_accuracy: 0.8625 - lr: 1.0000e-04\n",
            "Epoch 49/100\n",
            "10/10 [==============================] - 86s 9s/step - loss: 2.9969 - accuracy: 0.5750 - val_loss: 2.3160 - val_accuracy: 0.8625 - lr: 1.0000e-04\n",
            "Epoch 50/100\n",
            "10/10 [==============================] - 86s 9s/step - loss: 2.9890 - accuracy: 0.5750 - val_loss: 2.3118 - val_accuracy: 0.8625 - lr: 1.0000e-04\n",
            "Epoch 51/100\n",
            "10/10 [==============================] - 129s 13s/step - loss: 2.7249 - accuracy: 0.7250 - val_loss: 2.3091 - val_accuracy: 0.8625 - lr: 1.0000e-04\n",
            "Epoch 52/100\n",
            "10/10 [==============================] - 128s 14s/step - loss: 2.8909 - accuracy: 0.6750 - val_loss: 2.3008 - val_accuracy: 0.8750 - lr: 1.0000e-04\n",
            "Epoch 53/100\n",
            "10/10 [==============================] - 86s 9s/step - loss: 2.9547 - accuracy: 0.6125 - val_loss: 2.2975 - val_accuracy: 0.8875 - lr: 1.0000e-04\n",
            "Epoch 54/100\n",
            "10/10 [==============================] - 127s 14s/step - loss: 2.8386 - accuracy: 0.5625 - val_loss: 2.2904 - val_accuracy: 0.8500 - lr: 1.0000e-04\n",
            "Epoch 55/100\n",
            "10/10 [==============================] - 125s 13s/step - loss: 2.9327 - accuracy: 0.5875 - val_loss: 2.2822 - val_accuracy: 0.8750 - lr: 1.0000e-04\n",
            "Epoch 56/100\n",
            "10/10 [==============================] - 86s 9s/step - loss: 2.7523 - accuracy: 0.6375 - val_loss: 2.2818 - val_accuracy: 0.8750 - lr: 1.0000e-04\n",
            "Epoch 57/100\n",
            "10/10 [==============================] - 82s 9s/step - loss: 2.8635 - accuracy: 0.6500 - val_loss: 2.2833 - val_accuracy: 0.8625 - lr: 1.0000e-04\n",
            "Epoch 58/100\n",
            "10/10 [==============================] - 83s 9s/step - loss: 2.7943 - accuracy: 0.6000 - val_loss: 2.2865 - val_accuracy: 0.8625 - lr: 1.0000e-04\n",
            "Epoch 59/100\n",
            "10/10 [==============================] - 124s 13s/step - loss: 2.9515 - accuracy: 0.6500 - val_loss: 2.2853 - val_accuracy: 0.8625 - lr: 1.0000e-05\n",
            "Epoch 60/100\n",
            "10/10 [==============================] - 83s 9s/step - loss: 2.9235 - accuracy: 0.5750 - val_loss: 2.2834 - val_accuracy: 0.8625 - lr: 1.0000e-05\n",
            "Epoch 61/100\n",
            "10/10 [==============================] - ETA: 0s - loss: 2.7099 - accuracy: 0.6750Restoring model weights from the end of the best epoch: 56.\n",
            "10/10 [==============================] - 84s 9s/step - loss: 2.7099 - accuracy: 0.6750 - val_loss: 2.2838 - val_accuracy: 0.8750 - lr: 1.0000e-06\n",
            "Epoch 61: early stopping\n"
          ]
        }
      ]
    },
    {
      "cell_type": "code",
      "source": [
        "%matplotlib inline\n",
        "\n",
        "import matplotlib.pyplot as plt\n",
        "import matplotlib.image as mpimg"
      ],
      "metadata": {
        "id": "4oeBfuFQnDyZ"
      },
      "execution_count": 23,
      "outputs": []
    },
    {
      "cell_type": "code",
      "source": [
        "# Retrieve a list of accuracy results on training and validation data\n",
        "# sets for each training epoch\n",
        "acc = history.history['accuracy']\n",
        "val_acc = history.history['val_accuracy']"
      ],
      "metadata": {
        "id": "oKsKknv8nIqO"
      },
      "execution_count": 24,
      "outputs": []
    },
    {
      "cell_type": "code",
      "source": [
        "# Retrieve a list of list results on training and validation data\n",
        "# sets for each training epoch\n",
        "loss = history.history['loss']\n",
        "val_loss = history.history['val_loss']"
      ],
      "metadata": {
        "id": "xUv-tJO1nRE1"
      },
      "execution_count": 25,
      "outputs": []
    },
    {
      "cell_type": "code",
      "source": [
        "# Get number of epochs\n",
        "epochs = range(len(acc))"
      ],
      "metadata": {
        "id": "LEjjTaaonT6_"
      },
      "execution_count": 26,
      "outputs": []
    },
    {
      "cell_type": "code",
      "source": [
        "# Plot training and validation accuracy per epoch\n",
        "plt.plot(epochs, acc)\n",
        "plt.plot(epochs, val_acc)\n",
        "plt.title('Training and validation accuracy')\n",
        "plt.figure()"
      ],
      "metadata": {
        "colab": {
          "base_uri": "https://localhost:8080/",
          "height": 486
        },
        "id": "yyDgMH8XnWXC",
        "outputId": "ed6603fd-4176-4e25-da08-7c80939d6b5a"
      },
      "execution_count": 27,
      "outputs": [
        {
          "output_type": "execute_result",
          "data": {
            "text/plain": [
              "<Figure size 640x480 with 0 Axes>"
            ]
          },
          "metadata": {},
          "execution_count": 27
        },
        {
          "output_type": "display_data",
          "data": {
            "text/plain": [
              "<Figure size 640x480 with 1 Axes>"
            ],
            "image/png": "[encoded data removed]"
          },
          "metadata": {}
        },
        {
          "output_type": "display_data",
          "data": {
            "text/plain": [
              "<Figure size 640x480 with 0 Axes>"
            ]
          },
          "metadata": {}
        }
      ]
    },
    {
      "cell_type": "code",
      "source": [
        "# Plot training and validation loss per epoch\n",
        "plt.plot(epochs, loss)\n",
        "plt.plot(epochs, val_loss)\n",
        "plt.title('Training and validation loss')\n",
        "plt.figure()"
      ],
      "metadata": {
        "colab": {
          "base_uri": "https://localhost:8080/",
          "height": 486
        },
        "id": "vU4GvM7pnYX3",
        "outputId": "f31651ec-23d6-410d-fbb2-40ffb1157044"
      },
      "execution_count": 28,
      "outputs": [
        {
          "output_type": "execute_result",
          "data": {
            "text/plain": [
              "<Figure size 640x480 with 0 Axes>"
            ]
          },
          "metadata": {},
          "execution_count": 28
        },
        {
          "output_type": "display_data",
          "data": {
            "text/plain": [
              "<Figure size 640x480 with 1 Axes>"
            ],
            "image/png": "[encoded data removed]"
          },
          "metadata": {}
        },
        {
          "output_type": "display_data",
          "data": {
            "text/plain": [
              "<Figure size 640x480 with 0 Axes>"
            ]
          },
          "metadata": {}
        }
      ]
    },
    {
      "cell_type": "code",
      "source": [
        "test_generator = test_datagen.flow_from_directory(\n",
        "    test_dir,\n",
        "    target_size=(224, 224),\n",
        "    batch_size=8,\n",
        "    class_mode='categorical')"
      ],
      "metadata": {
        "colab": {
          "base_uri": "https://localhost:8080/"
        },
        "id": "xOjDE7ivm6Fu",
        "outputId": "cbebaf54-cd96-47f2-bde4-8a3e7146e0bf"
      },
      "execution_count": 29,
      "outputs": [
        {
          "output_type": "stream",
          "name": "stdout",
          "text": [
            "Found 71 images belonging to 8 classes.\n"
          ]
        }
      ]
    },
    {
      "cell_type": "code",
      "source": [
        "test_loss, test_acc = model.evaluate(test_generator)\n",
        "print('Test Loss:', test_loss)\n",
        "print('Test Accuracy:', test_acc)"
      ],
      "metadata": {
        "colab": {
          "base_uri": "https://localhost:8080/"
        },
        "id": "Q-ZHE9R8nA1l",
        "outputId": "4672bd39-1ba1-4d73-dd36-86b635ed89ca"
      },
      "execution_count": 30,
      "outputs": [
        {
          "output_type": "stream",
          "name": "stdout",
          "text": [
            "9/9 [==============================] - 43s 5s/step - loss: 4.3229 - accuracy: 0.3239\n",
            "Test Loss: 4.322903633117676\n",
            "Test Accuracy: 0.3239436745643616\n"
          ]
        }
      ]
    },
    {
      "cell_type": "code",
      "source": [
        "from sklearn.metrics import classification_report\n",
        "import numpy as np\n",
        "# Predict the labels of the test data\n",
        "y_pred = model.predict(test_generator)\n",
        "y_pred = np.argmax(y_pred, axis=1)\n",
        "y_true = test_generator.classes\n",
        "\n",
        "# Calculate the classification report\n",
        "report = classification_report(y_true, y_pred, target_names=test_generator.class_indices.keys())\n",
        "\n",
        "print(report)"
      ],
      "metadata": {
        "colab": {
          "base_uri": "https://localhost:8080/"
        },
        "id": "l9qXOduT0kjD",
        "outputId": "2b69f218-292a-49ec-9fe2-a98e39670019"
      },
      "execution_count": 31,
      "outputs": [
        {
          "output_type": "stream",
          "name": "stdout",
          "text": [
            "9/9 [==============================] - 39s 4s/step\n",
            "                       precision    recall  f1-score   support\n",
            "\n",
            "      Apple Scab leaf       0.00      0.00      0.00        10\n",
            "           Apple leaf       0.00      0.00      0.00         9\n",
            "      Apple rust leaf       0.05      0.10      0.06        10\n",
            "     Bell Pepper leaf       0.00      0.00      0.00         8\n",
            "Bell pepper leaf spot       0.00      0.00      0.00         9\n",
            "       Blueberry leaf       0.00      0.00      0.00        11\n",
            "          Cherry leaf       0.12      0.30      0.17        10\n",
            "  Corn Gray leaf spot       0.00      0.00      0.00         4\n",
            "\n",
            "             accuracy                           0.06        71\n",
            "            macro avg       0.02      0.05      0.03        71\n",
            "         weighted avg       0.02      0.06      0.03        71\n",
            "\n"
          ]
        }
      ]
    },
    {
      "cell_type": "code",
      "source": [
        "#Make predictions on a single image\n",
        "\n",
        "from tensorflow.keras.preprocessing import image\n",
        "import numpy as np\n",
        "\n",
        "img_path = '/content/drive/MyDrive/Apple leaf.jpg'\n",
        "img = image.load_img(img_path, target_size=(224, 224))\n",
        "img_array = image.img_to_array(img)\n",
        "img_array = np.expand_dims(img_array, axis=0)\n",
        "img_array /= 255.\n",
        "pred = model.predict(img_array)\n",
        "print(pred) # Predicted probabilities for each class"
      ],
      "metadata": {
        "colab": {
          "base_uri": "https://localhost:8080/"
        },
        "id": "6wt1WVzv039o",
        "outputId": "08adc3bb-8263-4c5b-ba20-d0c7bff0e9cd"
      },
      "execution_count": 32,
      "outputs": [
        {
          "output_type": "stream",
          "name": "stdout",
          "text": [
            "1/1 [==============================] - 4s 4s/step\n",
            "[[0.27340338 0.02802547 0.18741302 0.03183311 0.01338675 0.10081536\n",
            "  0.34872565 0.01639724]]\n"
          ]
        }
      ]
    },
    {
      "cell_type": "code",
      "source": [
        "pred_label = np.argmax(pred)\n",
        "print('Predicted label:', pred_label)"
      ],
      "metadata": {
        "colab": {
          "base_uri": "https://localhost:8080/"
        },
        "id": "MQmDr8lt1Vmk",
        "outputId": "225412e0-a126-4106-e41b-2a2e0eca1d25"
      },
      "execution_count": 33,
      "outputs": [
        {
          "output_type": "stream",
          "name": "stdout",
          "text": [
            "Predicted label: 6\n"
          ]
        }
      ]
    },
    {
      "cell_type": "code",
      "source": [
        "class_dict = test_generator.class_indices\n",
        "print('Class dictionary:', class_dict)"
      ],
      "metadata": {
        "colab": {
          "base_uri": "https://localhost:8080/"
        },
        "id": "6C_TqsAr1bnh",
        "outputId": "43daa3a3-6839-4291-eca2-715bdf7c0a8b"
      },
      "execution_count": 34,
      "outputs": [
        {
          "output_type": "stream",
          "name": "stdout",
          "text": [
            "Class dictionary: {'Apple Scab leaf': 0, 'Apple leaf': 1, 'Apple rust leaf': 2, 'Bell Pepper leaf': 3, 'Bell pepper leaf spot': 4, 'Blueberry leaf': 5, 'Cherry leaf': 6, 'Corn Gray leaf spot': 7}\n"
          ]
        }
      ]
    },
    {
      "cell_type": "code",
      "source": [
        "pred_class = list(class_dict.keys())[list(class_dict.values()).index(pred_label)]\n",
        "print('Predicted class:', pred_class)"
      ],
      "metadata": {
        "colab": {
          "base_uri": "https://localhost:8080/"
        },
        "id": "MVHKOxxt1c-0",
        "outputId": "bbbd70d7-2d8a-4c49-8f18-56809ebc5868"
      },
      "execution_count": 35,
      "outputs": [
        {
          "output_type": "stream",
          "name": "stdout",
          "text": [
            "Predicted class: Cherry leaf\n"
          ]
        }
      ]
    }
  ]
}