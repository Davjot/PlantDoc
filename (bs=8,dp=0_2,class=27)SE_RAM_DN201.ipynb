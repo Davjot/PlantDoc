{
  "nbformat": 4,
  "nbformat_minor": 0,
  "metadata": {
    "colab": {
      "provenance": [],
      "include_colab_link": true
    },
    "kernelspec": {
      "name": "python3",
      "display_name": "Python 3"
    },
    "language_info": {
      "name": "python"
    }
  },
  "cells": [
    {
      "cell_type": "markdown",
      "metadata": {
        "id": "view-in-github",
        "colab_type": "text"
      },
      "source": [
        "<a href=\"https://colab.research.google.com/github/Davjot/PlantDoc/blob/main/(bs%3D8%2Cdp%3D0_2%2Cclass%3D27)SE_RAM_DN201.ipynb\" target=\"_parent\"><img src=\"https://colab.research.google.com/assets/colab-badge.svg\" alt=\"Open In Colab\"/></a>"
      ]
    },
    {
      "cell_type": "code",
      "execution_count": 1,
      "metadata": {
        "id": "1pMp8LsxjjLE"
      },
      "outputs": [],
      "source": [
        "import numpy as np\n",
        "import pandas as pd\n",
        "import tensorflow as tf\n",
        "from tensorflow.keras.preprocessing.image import ImageDataGenerator\n",
        "from tensorflow.keras.applications.densenet import DenseNet201\n",
        "from tensorflow.keras.layers import Dense, GlobalAveragePooling2D, Dropout\n",
        "from tensorflow.keras.models import Model\n",
        "from tensorflow.keras.optimizers import Adam\n",
        "from tensorflow.keras.callbacks import ModelCheckpoint, EarlyStopping , TensorBoard\n",
        "from tensorflow.keras.layers import Reshape, multiply, add, Conv2D, MaxPooling2D, BatchNormalization, Activation, ZeroPadding2D, AveragePooling2D"
      ]
    },
    {
      "cell_type": "code",
      "source": [
        "# Set the batch size\n",
        "batch_size = 8\n",
        "\n",
        "# Set the number of epochs\n",
        "epochs = 50\n",
        "\n",
        "# Set the image size\n",
        "img_size = 224\n",
        "\n",
        "# Set the number of classes\n",
        "num_classes = 27"
      ],
      "metadata": {
        "id": "5OMN2Igzjs3N"
      },
      "execution_count": 2,
      "outputs": []
    },
    {
      "cell_type": "code",
      "source": [
        "# Define the data generator for preprocessing the images\n",
        "datagen = ImageDataGenerator(rescale=1./255,\n",
        "                             rotation_range=20,\n",
        "                             width_shift_range=0.2,\n",
        "                             height_shift_range=0.2,\n",
        "                             shear_range=0.2,\n",
        "                             zoom_range=0.2,\n",
        "                             horizontal_flip=True,\n",
        "                             vertical_flip=True,\n",
        "                             validation_split = 0.2)\n",
        "#if necessary add validation_split factor =0.2\n",
        "#val_datagen = ImageDataGenerator(rescale=1./255)"
      ],
      "metadata": {
        "id": "uoXam99ujxhV"
      },
      "execution_count": 3,
      "outputs": []
    },
    {
      "cell_type": "code",
      "source": [
        "from google.colab import drive\n",
        "drive.mount('/content/drive')"
      ],
      "metadata": {
        "colab": {
          "base_uri": "https://localhost:8080/"
        },
        "id": "Fk7POQ_gkOEV",
        "outputId": "63e4e763-8816-4449-fe5f-6694cf42ed3e"
      },
      "execution_count": 4,
      "outputs": [
        {
          "output_type": "stream",
          "name": "stdout",
          "text": [
            "Mounted at /content/drive\n"
          ]
        }
      ]
    },
    {
      "cell_type": "code",
      "source": [
        "import os\n",
        "base_dir = '/content/drive/MyDrive/PD/train'\n",
        "train_dir = os.path.join(base_dir)\n",
        "#validation_dir = os.path.join(base_dir)"
      ],
      "metadata": {
        "id": "0i3b9wSPkMCb"
      },
      "execution_count": 5,
      "outputs": []
    },
    {
      "cell_type": "code",
      "source": [
        "#train set of 27 classes\n",
        "train_apple_leaf_dir = os.path.join(train_dir, 'Apple leaf')\n",
        "train_apple_rust_leaf_dir = os.path.join(train_dir, 'Apple rust leaf')\n",
        "train_apple_scab_leaf_dir = os.path.join(train_dir, 'Apple scab leaf')\n",
        "train_bell_pepper_leaf_dir = os.path.join(train_dir, 'Bell pepper leaf')\n",
        "train_bell_pepper_leaf_spot_dir = os.path.join(train_dir, 'Bell pepper leaf spot')\n",
        "train_blueberry_leaf_dir = os.path.join(train_dir, 'Blueberry leaf')\n",
        "train_cherry_leaf_dir = os.path.join(train_dir, 'Cherry leaf')\n",
        "train_corn_gray_leaf_spot_dir = os.path.join(train_dir, 'Corn Gray leaf spot')\n",
        "train_corn_leaf_blight_dir = os.path.join(train_dir, 'Corn leaf blight')"
      ],
      "metadata": {
        "id": "EagZapKC5bU-"
      },
      "execution_count": 6,
      "outputs": []
    },
    {
      "cell_type": "code",
      "source": [
        "train_corn_rust_leaf_dir = os.path.join(train_dir, 'Corn rust leaf')\n",
        "train_grape_leaf_dir = os.path.join(train_dir, 'Grape leaf')\n",
        "train_grape_leaf_black_rot_dir = os.path.join(train_dir, 'Grape leaf black rot')\n",
        "train_peach_leaf_dir = os.path.join(train_dir, 'Peach leaf')\n",
        "train_potato_leaf_early_blight_dir = os.path.join(train_dir, 'Potato leaf early blight')\n",
        "train_potato_leaf_late_blight_dir = os.path.join(train_dir, 'Potato leaf late blight')\n",
        "train_raspberry_leaf_dir = os.path.join(train_dir, 'Raspberry leaf')\n",
        "train_soyabean_leaf_dir = os.path.join(train_dir, 'Soyabean leaf')\n",
        "train_squash_powdery_mildew_leaf_dir = os.path.join(train_dir, 'Squash Powdery mildew leaf')"
      ],
      "metadata": {
        "id": "AG8zP881moHB"
      },
      "execution_count": 7,
      "outputs": []
    },
    {
      "cell_type": "code",
      "source": [
        "train_strawberry_leaf_dir = os.path.join(train_dir, 'Strawberry leaf')\n",
        "train_tomato_early_blight_leaf_dir = os.path.join(train_dir, 'Tomato Early blight leaf')\n",
        "train_tomato_leaf_dir = os.path.join(train_dir, 'Tomato leaf')\n",
        "train_tomato_leaf_bacterial_spot_dir = os.path.join(train_dir, 'Tomato leaf bacterial spot')\n",
        "train_tomato_leaf_late_blight_dir = os.path.join(train_dir, 'Tomato leaf late blight')\n",
        "train_tomato_leaf_mosaic_virus_dir = os.path.join(train_dir, 'Tomato leaf mosaic virus')\n",
        "train_tomato_leaf_yellow_virus_dir = os.path.join(train_dir, 'Tomato leaf yellow virus')\n",
        "train_tomato_mold_leaf_dir = os.path.join(train_dir, 'Tomato mold leaf')\n",
        "train_tomato_septoria_leaf_spot_dir = os.path.join(train_dir, 'Tomato Septoria leaf spot')"
      ],
      "metadata": {
        "id": "OlV_XkFym-cI"
      },
      "execution_count": 8,
      "outputs": []
    },
    {
      "cell_type": "code",
      "source": [
        "# validation set\n",
        "# validation_apple_leaf_dir = os.path.join(validation_dir, 'Apple leaf')\n",
        "# validation_apple_rust_leaf_dir = os.path.join(validation_dir, 'Apple rust leaf')\n",
        "# validation_apple_scab_leaf_dir = os.path.join(validation_dir, 'Apple scab leaf')\n",
        "# validation_bell_pepper_leaf_dir = os.path.join(validation_dir, 'Bell pepper leaf')\n",
        "# validation_bell_pepper_leaf_spot_dir = os.path.join(validation_dir, 'Bell pepper leaf spot')\n",
        "# validation_blueberry_leaf_dir = os.path.join(validation_dir, 'Blueberry leaf')\n",
        "# validation_cherry_leaf_dir = os.path.join(validation_dir, 'Cherry leaf')\n",
        "# validation_corn_gray_leaf_spot_dir = os.path.join(validation_dir, 'Corn Gray leaf spot')"
      ],
      "metadata": {
        "id": "dwOMCcCc6JPC"
      },
      "execution_count": 9,
      "outputs": []
    },
    {
      "cell_type": "code",
      "source": [
        "# Load the training set\n",
        "train_generator = datagen.flow_from_directory(\n",
        "    train_dir,\n",
        "    target_size=(img_size, img_size),\n",
        "    batch_size=batch_size,\n",
        "    class_mode='categorical',\n",
        "    subset='training')"
      ],
      "metadata": {
        "colab": {
          "base_uri": "https://localhost:8080/"
        },
        "id": "FeGGICNOkFjv",
        "outputId": "cad87d22-52f1-4928-aa4e-3a7323ef0d99"
      },
      "execution_count": 10,
      "outputs": [
        {
          "output_type": "stream",
          "name": "stdout",
          "text": [
            "Found 1866 images belonging to 27 classes.\n"
          ]
        }
      ]
    },
    {
      "cell_type": "code",
      "source": [
        "# Load the validation set\n",
        "val_generator = datagen.flow_from_directory(\n",
        "    train_dir,\n",
        "    target_size=(img_size, img_size),\n",
        "    batch_size=batch_size,\n",
        "    class_mode='categorical',\n",
        "    subset='validation')"
      ],
      "metadata": {
        "colab": {
          "base_uri": "https://localhost:8080/"
        },
        "id": "RC9-xURLkmNr",
        "outputId": "6f3a647a-a7e6-49d7-b66c-c74cee718901"
      },
      "execution_count": 11,
      "outputs": [
        {
          "output_type": "stream",
          "name": "stdout",
          "text": [
            "Found 450 images belonging to 27 classes.\n"
          ]
        }
      ]
    },
    {
      "cell_type": "code",
      "source": [
        "# Load the DenseNet201 model\n",
        "base_model = DenseNet201(weights='imagenet', include_top=False, input_shape=(img_size, img_size, 3))"
      ],
      "metadata": {
        "id": "_5L4Dr5jmDVy",
        "colab": {
          "base_uri": "https://localhost:8080/"
        },
        "outputId": "a439847e-ea51-4e78-99bc-2eb305eafb88"
      },
      "execution_count": 12,
      "outputs": [
        {
          "output_type": "stream",
          "name": "stdout",
          "text": [
            "Downloading data from https://storage.googleapis.com/tensorflow/keras-applications/densenet/densenet201_weights_tf_dim_ordering_tf_kernels_notop.h5\n",
            "74836368/74836368 [==============================] - 1s 0us/step\n"
          ]
        }
      ]
    },
    {
      "cell_type": "code",
      "source": [
        "# Add SE mechanism\n",
        "def squeeze_excite_block(input, ratio=16):\n",
        "    init = input\n",
        "    channel_axis = 3\n",
        "\n",
        "    filters = init.shape[channel_axis]\n",
        "    se_shape = (1, 1, filters)\n",
        "\n",
        "    se = GlobalAveragePooling2D()(init)\n",
        "    se = Reshape(se_shape)(se)\n",
        "    se = Dense(filters // ratio, activation='relu', kernel_initializer='he_normal', use_bias=True)(se)\n",
        "    se = Dense(filters, activation='sigmoid', kernel_initializer='he_normal', use_bias=True)(se)\n",
        "\n",
        "    x = multiply([input, se])\n",
        "    return x"
      ],
      "metadata": {
        "id": "f3Ana2jtmPoZ"
      },
      "execution_count": 13,
      "outputs": []
    },
    {
      "cell_type": "code",
      "source": [
        "# Add Residual Attention Mechanism\n",
        "def RAM(input, filters):\n",
        "    # First RAM layer\n",
        "    x = Conv2D(filters=filters, kernel_size=1, strides=1, padding='same')(input)\n",
        "    x = BatchNormalization()(x)\n",
        "    x = Activation('relu')(x)\n",
        "\n",
        "    # Second RAM layer\n",
        "    x = Conv2D(filters=filters, kernel_size=3, strides=1, padding='same')(x)\n",
        "    x = BatchNormalization()(x)\n",
        "    x = Activation('relu')(x)\n",
        "\n",
        "    # Third RAM layer\n",
        "    x = Conv2D(filters=filters, kernel_size=1, strides=1, padding='same')(x)\n",
        "    x = BatchNormalization()(x)\n",
        "\n",
        "    # Residual connection\n",
        "    shortcut = Conv2D(filters=filters, kernel_size=1, strides=1, padding='same')(input)\n",
        "    shortcut = BatchNormalization()(shortcut)\n",
        "\n",
        "    x = add([x, shortcut])\n",
        "    x = Activation('relu')(x)\n",
        "\n",
        "    # Squeeze-and-Excite mechanism\n",
        "    x = squeeze_excite_block(x)\n",
        "\n",
        "    # Final RAM layer\n",
        "    x = Conv2D(filters=filters, kernel_size=1, strides=1, padding='same')(x)\n",
        "    x = BatchNormalization()(x)\n",
        "\n",
        "    x = add([x, shortcut])\n",
        "    x = Activation('relu')(x)\n",
        "\n",
        "    # Squeeze-and-Excite mechanism\n",
        "    x = squeeze_excite_block(x)\n",
        "\n",
        "    return x"
      ],
      "metadata": {
        "id": "4nIAwatRmehV"
      },
      "execution_count": 14,
      "outputs": []
    },
    {
      "cell_type": "code",
      "source": [
        "# Add the Residual Attention Mechanism to the DenseNet201 model\n",
        "x = base_model.output\n",
        "x = RAM(x, 192)\n",
        "x = GlobalAveragePooling2D()(x)\n",
        "x = Dropout(0.2)(x) # change the dropout to 0.2 later \n",
        "output = Dense(num_classes, activation='softmax')(x)"
      ],
      "metadata": {
        "id": "9GyIAo_SmpJn"
      },
      "execution_count": 15,
      "outputs": []
    },
    {
      "cell_type": "code",
      "source": [
        "model = Model(inputs=base_model.input, outputs=output)"
      ],
      "metadata": {
        "id": "yYmWXBZ5msmC"
      },
      "execution_count": 16,
      "outputs": []
    },
    {
      "cell_type": "code",
      "source": [
        "# Set the layers of the DenseNet201 model to be non-trainable\n",
        "for layer in base_model.layers:\n",
        "    layer.trainable = False"
      ],
      "metadata": {
        "id": "WMMIMd6Cmvho"
      },
      "execution_count": 17,
      "outputs": []
    },
    {
      "cell_type": "code",
      "source": [
        "# Compile the model\n",
        "model.compile(optimizer=Adam(learning_rate=0.0001), \n",
        "              loss='categorical_crossentropy', \n",
        "              metrics=['accuracy'])"
      ],
      "metadata": {
        "id": "ZFUU0EWDmyHm"
      },
      "execution_count": 18,
      "outputs": []
    },
    {
      "cell_type": "markdown",
      "source": [
        "the **model checkpoints** will be saved with the epoch number and the validation loss in the filename. The directory of the filepath should not be reused by any other callbacks to avoid conflicts.\n",
        "\n",
        "save_best_only: if save_best_only=True, it only saves when the model is considered the \"best\" and the latest best model according to the quantity monitored will not be overwritten. If filepath doesn't contain formatting options like {epoch} then filepath will be overwritten by each new better model."
      ],
      "metadata": {
        "id": "sFVWaOUFpq0H"
      }
    },
    {
      "cell_type": "markdown",
      "source": [],
      "metadata": {
        "id": "jl3tXIh38S2t"
      }
    },
    {
      "cell_type": "code",
      "source": [
        "# Define the checkpoint and early stopping and tensorboard callbacks\n",
        "checkpoint = ModelCheckpoint('/content/drive/MyDrive/modelcheckpoint_dn201', monitor='val_loss', save_best_only=True, save_weights_only=True, mode='min')\n",
        "early_stopping = EarlyStopping(monitor='val_loss', patience=5, mode='min', verbose=1)\n",
        "log_dir = TensorBoard(log_dir = '/content/drive/MyDrive/logdir_dn201')"
      ],
      "metadata": {
        "id": "uB3PstO1m2Wc"
      },
      "execution_count": 19,
      "outputs": []
    },
    {
      "cell_type": "code",
      "source": [
        "# Train the model\n",
        "history = model.fit(train_generator, \n",
        "                    epochs=epochs, \n",
        "                    validation_data=val_generator, \n",
        "                    #verbose = 2,\n",
        "                    callbacks=[checkpoint, early_stopping, log_dir])"
      ],
      "metadata": {
        "colab": {
          "base_uri": "https://localhost:8080/"
        },
        "id": "c24efUI7nCdp",
        "outputId": "a74afa1a-567c-4583-dffe-ffe2b55bece0"
      },
      "execution_count": 20,
      "outputs": [
        {
          "output_type": "stream",
          "name": "stdout",
          "text": [
            "Epoch 1/50\n",
            "234/234 [==============================] - 812s 3s/step - loss: 3.0785 - accuracy: 0.1318 - val_loss: 2.6728 - val_accuracy: 0.2800\n",
            "Epoch 2/50\n",
            "234/234 [==============================] - 722s 3s/step - loss: 2.5936 - accuracy: 0.2964 - val_loss: 2.2943 - val_accuracy: 0.3800\n",
            "Epoch 3/50\n",
            "234/234 [==============================] - 697s 3s/step - loss: 2.2943 - accuracy: 0.3853 - val_loss: 2.0631 - val_accuracy: 0.4178\n",
            "Epoch 4/50\n",
            "234/234 [==============================] - 694s 3s/step - loss: 2.0711 - accuracy: 0.4335 - val_loss: 1.8851 - val_accuracy: 0.4644\n",
            "Epoch 5/50\n",
            "234/234 [==============================] - 681s 3s/step - loss: 1.8986 - accuracy: 0.4732 - val_loss: 1.7684 - val_accuracy: 0.4800\n",
            "Epoch 6/50\n",
            "234/234 [==============================] - 685s 3s/step - loss: 1.7682 - accuracy: 0.5150 - val_loss: 1.7188 - val_accuracy: 0.4933\n",
            "Epoch 7/50\n",
            "234/234 [==============================] - 680s 3s/step - loss: 1.6378 - accuracy: 0.5370 - val_loss: 1.6331 - val_accuracy: 0.5089\n",
            "Epoch 8/50\n",
            "234/234 [==============================] - 682s 3s/step - loss: 1.5301 - accuracy: 0.5681 - val_loss: 1.6087 - val_accuracy: 0.5000\n",
            "Epoch 9/50\n",
            "234/234 [==============================] - 679s 3s/step - loss: 1.4417 - accuracy: 0.5938 - val_loss: 1.5498 - val_accuracy: 0.5289\n",
            "Epoch 10/50\n",
            "234/234 [==============================] - 684s 3s/step - loss: 1.3344 - accuracy: 0.6436 - val_loss: 1.4918 - val_accuracy: 0.5289\n",
            "Epoch 11/50\n",
            "234/234 [==============================] - 678s 3s/step - loss: 1.2866 - accuracy: 0.6409 - val_loss: 1.4915 - val_accuracy: 0.5200\n",
            "Epoch 12/50\n",
            "234/234 [==============================] - 670s 3s/step - loss: 1.2353 - accuracy: 0.6576 - val_loss: 1.4340 - val_accuracy: 0.5267\n",
            "Epoch 13/50\n",
            "234/234 [==============================] - 682s 3s/step - loss: 1.1911 - accuracy: 0.6613 - val_loss: 1.4491 - val_accuracy: 0.5311\n",
            "Epoch 14/50\n",
            "234/234 [==============================] - 686s 3s/step - loss: 1.1190 - accuracy: 0.6779 - val_loss: 1.4111 - val_accuracy: 0.5356\n",
            "Epoch 15/50\n",
            "234/234 [==============================] - 679s 3s/step - loss: 1.0889 - accuracy: 0.6935 - val_loss: 1.5015 - val_accuracy: 0.5289\n",
            "Epoch 16/50\n",
            "234/234 [==============================] - 682s 3s/step - loss: 1.0250 - accuracy: 0.6983 - val_loss: 1.4475 - val_accuracy: 0.5533\n",
            "Epoch 17/50\n",
            "234/234 [==============================] - 681s 3s/step - loss: 0.9863 - accuracy: 0.7128 - val_loss: 1.3836 - val_accuracy: 0.5689\n",
            "Epoch 18/50\n",
            "234/234 [==============================] - 679s 3s/step - loss: 0.9689 - accuracy: 0.7181 - val_loss: 1.4165 - val_accuracy: 0.5533\n",
            "Epoch 19/50\n",
            "234/234 [==============================] - 656s 3s/step - loss: 0.9583 - accuracy: 0.7138 - val_loss: 1.4108 - val_accuracy: 0.5578\n",
            "Epoch 20/50\n",
            "234/234 [==============================] - 674s 3s/step - loss: 0.8941 - accuracy: 0.7460 - val_loss: 1.4663 - val_accuracy: 0.5289\n",
            "Epoch 21/50\n",
            "234/234 [==============================] - 667s 3s/step - loss: 0.8525 - accuracy: 0.7567 - val_loss: 1.3821 - val_accuracy: 0.5667\n",
            "Epoch 22/50\n",
            "234/234 [==============================] - 680s 3s/step - loss: 0.8531 - accuracy: 0.7556 - val_loss: 1.3724 - val_accuracy: 0.5667\n",
            "Epoch 23/50\n",
            "234/234 [==============================] - 676s 3s/step - loss: 0.8030 - accuracy: 0.7626 - val_loss: 1.4490 - val_accuracy: 0.5422\n",
            "Epoch 24/50\n",
            "234/234 [==============================] - 665s 3s/step - loss: 0.7931 - accuracy: 0.7637 - val_loss: 1.4678 - val_accuracy: 0.5578\n",
            "Epoch 25/50\n",
            "234/234 [==============================] - 675s 3s/step - loss: 0.7816 - accuracy: 0.7642 - val_loss: 1.4626 - val_accuracy: 0.5511\n",
            "Epoch 26/50\n",
            "234/234 [==============================] - 664s 3s/step - loss: 0.7361 - accuracy: 0.7878 - val_loss: 1.4062 - val_accuracy: 0.5600\n",
            "Epoch 27/50\n",
            "234/234 [==============================] - 733s 3s/step - loss: 0.7062 - accuracy: 0.7942 - val_loss: 1.4701 - val_accuracy: 0.5467\n",
            "Epoch 27: early stopping\n"
          ]
        }
      ]
    },
    {
      "cell_type": "code",
      "source": [
        "%matplotlib inline\n",
        "\n",
        "import matplotlib.pyplot as plt\n",
        "import matplotlib.image as mpimg"
      ],
      "metadata": {
        "id": "4MvFUbBPwCLB"
      },
      "execution_count": 21,
      "outputs": []
    },
    {
      "cell_type": "code",
      "source": [
        "# Retrieve a list of accuracy results on training and validation data\n",
        "# sets for each training epoch\n",
        "acc = history.history['accuracy']\n",
        "val_acc = history.history['val_accuracy']"
      ],
      "metadata": {
        "id": "Z-wVahm0wPEQ"
      },
      "execution_count": 22,
      "outputs": []
    },
    {
      "cell_type": "code",
      "source": [
        "# Retrieve a list of list results on training and validation data\n",
        "# sets for each training epoch\n",
        "loss = history.history['loss']\n",
        "val_loss = history.history['val_loss']"
      ],
      "metadata": {
        "id": "ubz2F05fwwdf"
      },
      "execution_count": 23,
      "outputs": []
    },
    {
      "cell_type": "code",
      "source": [
        "# Get number of epochs\n",
        "epochs = range(len(acc))"
      ],
      "metadata": {
        "id": "uEDKPpDbwzLm"
      },
      "execution_count": 24,
      "outputs": []
    },
    {
      "cell_type": "code",
      "source": [
        "# Plot training and validation accuracy per epoch\n",
        "plt.plot(epochs, acc)\n",
        "plt.plot(epochs, val_acc)\n",
        "plt.title('Training and validation accuracy')\n",
        "plt.figure()"
      ],
      "metadata": {
        "colab": {
          "base_uri": "https://localhost:8080/",
          "height": 486
        },
        "id": "YnJInD4Bw0zP",
        "outputId": "69b6687f-1ea2-46c6-d35f-00ead70c89f8"
      },
      "execution_count": 25,
      "outputs": [
        {
          "output_type": "execute_result",
          "data": {
            "text/plain": [
              "<Figure size 640x480 with 0 Axes>"
            ]
          },
          "metadata": {},
          "execution_count": 25
        },
        {
          "output_type": "display_data",
          "data": {
            "text/plain": [
              "<Figure size 640x480 with 1 Axes>"
            ],
            "image/png": "[encoded data removed]"
          },
          "metadata": {}
        },
        {
          "output_type": "display_data",
          "data": {
            "text/plain": [
              "<Figure size 640x480 with 0 Axes>"
            ]
          },
          "metadata": {}
        }
      ]
    },
    {
      "cell_type": "code",
      "source": [
        "# Plot training and validation loss per epoch\n",
        "plt.plot(epochs, loss)\n",
        "plt.plot(epochs, val_loss)\n",
        "plt.title('Training and validation loss')\n",
        "plt.figure()"
      ],
      "metadata": {
        "colab": {
          "base_uri": "https://localhost:8080/",
          "height": 486
        },
        "id": "fvk6-WYAw2tG",
        "outputId": "7f96562b-0f43-449a-c197-49e8d399c060"
      },
      "execution_count": 26,
      "outputs": [
        {
          "output_type": "execute_result",
          "data": {
            "text/plain": [
              "<Figure size 640x480 with 0 Axes>"
            ]
          },
          "metadata": {},
          "execution_count": 26
        },
        {
          "output_type": "display_data",
          "data": {
            "text/plain": [
              "<Figure size 640x480 with 1 Axes>"
            ],
            "image/png": "[encoded data removed]"
          },
          "metadata": {}
        },
        {
          "output_type": "display_data",
          "data": {
            "text/plain": [
              "<Figure size 640x480 with 0 Axes>"
            ]
          },
          "metadata": {}
        }
      ]
    },
    {
      "cell_type": "code",
      "source": [
        "# Save the model\n",
        "#model.save('path/to/save/model')"
      ],
      "metadata": {
        "id": "TQIpONwbnHGD"
      },
      "execution_count": 27,
      "outputs": []
    }
  ]
}